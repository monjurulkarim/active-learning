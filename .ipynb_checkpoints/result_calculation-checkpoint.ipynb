{
 "cells": [
  {
   "cell_type": "code",
   "execution_count": 1,
   "metadata": {},
   "outputs": [
    {
     "name": "stderr",
     "output_type": "stream",
     "text": [
      "Using TensorFlow backend.\n"
     ]
    }
   ],
   "source": [
    "import os\n",
    "import cv2\n",
    "import sys\n",
    "import random\n",
    "import math\n",
    "import re\n",
    "import time\n",
    "import numpy as np\n",
    "import tensorflow as tf\n",
    "import matplotlib \n",
    "import matplotlib.pyplot as plt\n",
    "import matplotlib.patches as patches\n",
    "import skimage\n",
    "import glob\n",
    "\n",
    "# Root directory of the project\n",
    "ROOT_DIR = os.getcwd()\n",
    "\n",
    "# Import Mask RCNN\n",
    "sys.path.append(ROOT_DIR)  # To find local version of the library\n",
    "from mrcnn import utils\n",
    "from mrcnn import spatial_cor\n",
    "from mrcnn import spatial_cor_temp # this file is for both spatial and temporal coherence\n",
    "from mrcnn import temporal_spatial_cor\n",
    "# from mrcnn import visualize\n",
    "# from mrcnn import visualize_sp\n",
    "from mrcnn.spatial_cor import display_images #Raju: change to \"visualize\"\n",
    "from mrcnn.visualize import display_images\n",
    "import mrcnn.model as modellib\n",
    "from mrcnn.model import log\n",
    "\n",
    "import custom #Raju: for bridge change it to \"custom\" \n",
    "\n",
    "%matplotlib inline \n",
    "\n",
    "# Directory to save logs and trained model\n",
    "MODEL_DIR = os.path.join(ROOT_DIR, \"logs\")"
   ]
  },
  {
   "cell_type": "code",
   "execution_count": 2,
   "metadata": {},
   "outputs": [],
   "source": [
    "#Load Weights:\n",
    "# custom_WEIGHTS_PATH = \"C:/Users/mk5n2/logs/resnet50_train_1/mask_rcnn_roi_0060.h5\" # Initialization # weight of train_1 (40imgs)\n",
    "# custom_WEIGHTS_PATH = \"C:/Users/mk5n2/logs/resnet50_train_2/mask_rcnn_roi_0100.h5\"  # weight of 1st iteration (97imgs)\n",
    "# custom_WEIGHTS_PATH = \"C:/Users/mk5n2/logs/resnet50_train_1_supervised/mask_rcnn_roi_0100.h5\" # supervised\n",
    "# custom_WEIGHTS_PATH = \"C:/Users/mk5n2/logs/supervised_train_1_small_data/mask_rcnn_roi_0100.h5\" # supervised_small_data\n",
    "# custom_WEIGHTS_PATH = \"C:/Users/mk5n2/logs/supervised_train_1_8_images/mask_rcnn_roi_0100.h5\" #C1 & C2 1st iteration 8 images-supervised_small_data\n",
    "# custom_WEIGHTS_PATH = \"C:/Users/mk5n2/logs/roi20190401T1756/mask_rcnn_roi_0080.h5\" # 80% + 20% semi + sup\n",
    "# custom_WEIGHTS_PATH = \"C:/Users/mk5n2/logs/roi20190402T1227-70-30/mask_rcnn_roi_0100.h5\" # 70% + 30% semi + sup\n",
    "# custom_WEIGHTS_PATH = \"C:/Users/mk5n2/logs/roi20190403T0840-60-40/mask_rcnn_roi_0120.h5\" # 60% + 40% semi + sup\n",
    "# custom_WEIGHTS_PATH = \"C:/Users/mk5n2/logs/roi20190411T1122/mask_rcnn_roi_0047.h5\" #c2 60% + 40% iteration 2\n",
    "# custom_WEIGHTS_PATH = \"C:/Users/mk5n2/logs/roi20190411T1122/mask_rcnn_roi_0080.h5\" #c2 70% + 30% iteration 3\n",
    "# custom_WEIGHTS_PATH = \"C:/Users/mk5n2/logs/roi20190330T1903/mask_rcnn_roi_0120.h5\" # 2nd iteration (semi-supervised)(133 imgs)\n",
    "# custom_WEIGHTS_PATH = \"C:/Users/mk5n2/logs/roi20190406T1233-2nd_ita_70-30/mask_rcnn_roi_0120.h5\" #C1: 2nd iter, 2nd iteration_70-30 (40+8+37)\n",
    "# custom_WEIGHTS_PATH = \"C:/Users/mk5n2/logs/roi20190407T2357-3rd_ita_80-20/mask_rcnn_roi_0112.h5\" #C1: 3rd iteration_80-20\n",
    "# custom_WEIGHTS_PATH = \"C:/Users/mk5n2/logs/roi20190409T1303_4th_ita_90-10/mask_rcnn_roi_0126.h5\" #C1: 4th iteration_80-20 ()\n",
    "# custom_WEIGHTS_PATH = \"C:/Users/mk5n2/logs/roi20190405T2353_2nd_ita_partial_sup/mask_rcnn_roi_0200.h5\" # 2nd iteration_partial(40+8+37)\n",
    "#custom_WEIGHTS_PATH = \"C:/Users/mk5n2/logs/roi20190411T1007_partial_3rd_iteration/mask_rcnn_roi_0100.h5\" # 3nd iteration_partial(40+8+37)\n",
    "\n",
    "# custom_WEIGHTS_PATH = \"C:/Users/mk5n2/logs/crack_log/mask_rcnn_roi_0030.h5\" # crack detection\n",
    "#new for the paper revision\n",
    "#==============================================\n",
    "custom_WEIGHTS_PATH = 'C:/Users/mk5n2/logs/scheme_1/mask_rcnn_roi_0110.h5'\n"
   ]
  },
  {
   "cell_type": "code",
   "execution_count": null,
   "metadata": {},
   "outputs": [],
   "source": [
    "#weights from SBU computer\n",
    "# custom_WEIGHTS_PATH = 'C:/Users/mk5n2/Desktop/Training_weight_SBU/mask_rcnn_roi_0080.h5' # iteration_2_scheme_2\n",
    "# custom_WEIGHTS_PATH = 'C:/Users/mk5n2/logs/SBU/mask_rcnn_roi_1130.h5' # initialization\n",
    "# custom_WEIGHTS_PATH = 'C:/Users/mk5n2/logs/gchen/mask_rcnn_roi_0030.h5' # iteration_2_scheme_2\n",
    "# custom_WEIGHTS_PATH = 'E:/roi20200127T2123_initialization_to_3rd_iteration/mask_rcnn_roi_0110.h5'"
   ]
  },
  {
   "cell_type": "code",
   "execution_count": 3,
   "metadata": {},
   "outputs": [],
   "source": [
    "config = custom.CustomConfig() #Raju: for bridge change \"custom_matc\" to \"custom\"\n",
    "custom_DIR = os.path.join(ROOT_DIR, \"customImages\")"
   ]
  },
  {
   "cell_type": "code",
   "execution_count": 4,
   "metadata": {
    "scrolled": false
   },
   "outputs": [
    {
     "name": "stdout",
     "output_type": "stream",
     "text": [
      "\n",
      "Configurations:\n",
      "BACKBONE                       resnet50\n",
      "BACKBONE_STRIDES               [4, 8, 16, 32, 64]\n",
      "BATCH_SIZE                     1\n",
      "BBOX_STD_DEV                   [0.1 0.1 0.2 0.2]\n",
      "COMPUTE_BACKBONE_SHAPE         None\n",
      "DETECTION_MAX_INSTANCES        100\n",
      "DETECTION_MIN_CONFIDENCE       0.5\n",
      "DETECTION_NMS_THRESHOLD        0.3\n",
      "FPN_CLASSIF_FC_LAYERS_SIZE     1024\n",
      "GPU_COUNT                      1\n",
      "GRADIENT_CLIP_NORM             5.0\n",
      "IMAGES_PER_GPU                 1\n",
      "IMAGE_CHANNEL_COUNT            3\n",
      "IMAGE_MAX_DIM                  1024\n",
      "IMAGE_META_SIZE                23\n",
      "IMAGE_MIN_DIM                  800\n",
      "IMAGE_MIN_SCALE                0\n",
      "IMAGE_RESIZE_MODE              square\n",
      "IMAGE_SHAPE                    [1024 1024    3]\n",
      "LEARNING_MOMENTUM              0.9\n",
      "LEARNING_RATE                  0.001\n",
      "LOSS_WEIGHTS                   {'rpn_class_loss': 1.0, 'rpn_bbox_loss': 1.0, 'mrcnn_class_loss': 1.0, 'mrcnn_bbox_loss': 1.0, 'mrcnn_mask_loss': 1.0}\n",
      "MASK_POOL_SIZE                 14\n",
      "MASK_SHAPE                     [28, 28]\n",
      "MAX_GT_INSTANCES               100\n",
      "MEAN_PIXEL                     [123.7 116.8 103.9]\n",
      "MINI_MASK_SHAPE                (56, 56)\n",
      "NAME                           roi\n",
      "NUM_CLASSES                    11\n",
      "POOL_SIZE                      7\n",
      "POST_NMS_ROIS_INFERENCE        1000\n",
      "POST_NMS_ROIS_TRAINING         2000\n",
      "PRE_NMS_LIMIT                  6000\n",
      "ROI_POSITIVE_RATIO             0.33\n",
      "RPN_ANCHOR_RATIOS              [0.5, 1, 2]\n",
      "RPN_ANCHOR_SCALES              (32, 64, 128, 256, 512)\n",
      "RPN_ANCHOR_STRIDE              1\n",
      "RPN_BBOX_STD_DEV               [0.1 0.1 0.2 0.2]\n",
      "RPN_NMS_THRESHOLD              0.7\n",
      "RPN_TRAIN_ANCHORS_PER_IMAGE    256\n",
      "STEPS_PER_EPOCH                100\n",
      "TOP_DOWN_PYRAMID_SIZE          256\n",
      "TRAIN_BN                       False\n",
      "TRAIN_ROIS_PER_IMAGE           200\n",
      "USE_MINI_MASK                  True\n",
      "USE_RPN_ROIS                   True\n",
      "VALIDATION_STEPS               50\n",
      "WEIGHT_DECAY                   0.0001\n",
      "\n",
      "\n"
     ]
    }
   ],
   "source": [
    "# Override the training configurations with a few\n",
    "# changes for inferencing.\n",
    "# Here, two parameters we should change\n",
    "# 1. backbone: resnet 50, resnet101-- from config.py\n",
    "# 2. Detection_Min_Confidence: 0.5/0.9,... ... --from config.py and custom.py\n",
    "class InferenceConfig(config.__class__):\n",
    "    # Run detection on one image at a time\n",
    "    GPU_COUNT = 1\n",
    "    IMAGES_PER_GPU = 1\n",
    "\n",
    "config = InferenceConfig()\n",
    "config.display()"
   ]
  },
  {
   "cell_type": "code",
   "execution_count": 5,
   "metadata": {},
   "outputs": [],
   "source": [
    "# Device to load the neural network on.\n",
    "# Useful if you're training a model on the same \n",
    "# machine, in which case use CPU and leave the\n",
    "# GPU for training.\n",
    "DEVICE = \"/gpu:0\"  # /cpu:0 or /gpu:0\n",
    "\n",
    "# Inspect the model in training or inference modes\n",
    "# values: 'inference' or 'training'\n",
    "# TODO: code for 'training' test mode not ready yet\n",
    "TEST_MODE = \"inference\""
   ]
  },
  {
   "cell_type": "code",
   "execution_count": 6,
   "metadata": {},
   "outputs": [],
   "source": [
    "def get_ax(rows=1, cols=1, size=16):\n",
    "    \"\"\"Return a Matplotlib Axes array to be used in\n",
    "    all visualizations in the notebook. Provide a\n",
    "    central point to control graph sizes.\n",
    "    \n",
    "    Adjust the size attribute to control how big to render images\n",
    "    \"\"\"\n",
    "    _, ax = plt.subplots(rows, cols, figsize=(size*cols, size*rows))\n",
    "    return ax"
   ]
  },
  {
   "cell_type": "code",
   "execution_count": 7,
   "metadata": {},
   "outputs": [
    {
     "name": "stdout",
     "output_type": "stream",
     "text": [
      "Images: 211\n",
      "Classes: ['BG', 'barrier', 'Bearing', 'bracket', 'joint', 'pier cap', 'pier wall', 'pier', 'Rivet', 'slab', 'truss']\n"
     ]
    }
   ],
   "source": [
    "# Load validation dataset\n",
    "dataset = custom.CustomDataset() #Raju: for bridge change \"custom_matc\" to \"custom\"\n",
    "dataset.load_custom(custom_DIR, \"val\")\n",
    "\n",
    "# Must call before using the dataset\n",
    "dataset.prepare()\n",
    "\n",
    "print(\"Images: {}\\nClasses: {}\".format(len(dataset.image_ids), dataset.class_names))"
   ]
  },
  {
   "cell_type": "code",
   "execution_count": 8,
   "metadata": {},
   "outputs": [
    {
     "name": "stdout",
     "output_type": "stream",
     "text": [
      "class_ids :  Tensor(\"mrcnn_detection/ArgMax:0\", shape=(1000,), dtype=int32, device=/device:GPU:0)\n",
      "Tensor(\"mrcnn_detection/strided_slice_22:0\", shape=(?,), dtype=int64, device=/device:GPU:0)\n"
     ]
    }
   ],
   "source": [
    "# Create model in inference mode\n",
    "with tf.device(DEVICE):\n",
    "    model = modellib.MaskRCNN(mode=\"inference\", model_dir=MODEL_DIR,\n",
    "                              config=config)"
   ]
  },
  {
   "cell_type": "code",
   "execution_count": 9,
   "metadata": {},
   "outputs": [
    {
     "name": "stdout",
     "output_type": "stream",
     "text": [
      "Loading weights  C:/Users/mk5n2/logs/scheme_1/mask_rcnn_roi_0110.h5\n"
     ]
    }
   ],
   "source": [
    "# load the last model you trained\n",
    "# weights_path = model.find_last()[1]\n",
    "\n",
    "# Load weights\n",
    "print(\"Loading weights \", custom_WEIGHTS_PATH)\n",
    "model.load_weights(custom_WEIGHTS_PATH, by_name=True)"
   ]
  },
  {
   "cell_type": "code",
   "execution_count": 10,
   "metadata": {},
   "outputs": [],
   "source": [
    "#calculating mAP"
   ]
  },
  {
   "cell_type": "code",
   "execution_count": 11,
   "metadata": {},
   "outputs": [
    {
     "name": "stdout",
     "output_type": "stream",
     "text": [
      "<custom.CustomDataset object at 0x0000023682008470>\n"
     ]
    },
    {
     "name": "stderr",
     "output_type": "stream",
     "text": [
      "c:\\users\\mk5n2\\appdata\\local\\continuum\\anaconda3\\envs\\maskrcnn\\lib\\site-packages\\skimage\\transform\\_warps.py:110: UserWarning: Anti-aliasing will be enabled by default in skimage 0.15 to avoid aliasing artifacts when down-sampling images.\n",
      "  warn(\"Anti-aliasing will be enabled by default in skimage 0.15 to \"\n"
     ]
    },
    {
     "name": "stdout",
     "output_type": "stream",
     "text": [
      "10  objects matches\n",
      "13 pred match\n",
      "14 total ground truth\n",
      "[ 7.  9. 10. 11.  6.  5.  1. -1. 12. 13. -1.  2. -1.]\n",
      "[0.99999976 0.9999957  0.9999945  0.9999862  0.9999846  0.99993336\n",
      " 0.9999242  0.99982685 0.99976677 0.99923575 0.9948874  0.98153347\n",
      " 0.8926991 ]\n"
     ]
    },
    {
     "name": "stderr",
     "output_type": "stream",
     "text": [
      "c:\\users\\mk5n2\\appdata\\local\\continuum\\anaconda3\\envs\\maskrcnn\\lib\\site-packages\\skimage\\transform\\_warps.py:110: UserWarning: Anti-aliasing will be enabled by default in skimage 0.15 to avoid aliasing artifacts when down-sampling images.\n",
      "  warn(\"Anti-aliasing will be enabled by default in skimage 0.15 to \"\n"
     ]
    },
    {
     "name": "stdout",
     "output_type": "stream",
     "text": [
      "11  objects matches\n",
      "13 pred match\n",
      "15 total ground truth\n",
      "[11.  7.  6. 12.  9.  5. -1.  1. 13. 14.  8. -1.  3.]\n",
      "[0.9999924  0.9999906  0.9999902  0.9999883  0.9999844  0.99996686\n",
      " 0.9999596  0.9999243  0.9998989  0.99985254 0.99854726 0.97415763\n",
      " 0.9577276 ]\n"
     ]
    },
    {
     "name": "stderr",
     "output_type": "stream",
     "text": [
      "c:\\users\\mk5n2\\appdata\\local\\continuum\\anaconda3\\envs\\maskrcnn\\lib\\site-packages\\skimage\\transform\\_warps.py:110: UserWarning: Anti-aliasing will be enabled by default in skimage 0.15 to avoid aliasing artifacts when down-sampling images.\n",
      "  warn(\"Anti-aliasing will be enabled by default in skimage 0.15 to \"\n"
     ]
    },
    {
     "name": "stdout",
     "output_type": "stream",
     "text": [
      "11  objects matches\n",
      "14 pred match\n",
      "13 total ground truth\n",
      "[ 6.  8.  9.  7. 10.  5.  1. 12.  0. -1. 11. -1. -1.  3.]\n",
      "[0.9999993  0.999992   0.99999106 0.9999875  0.99993205 0.9999037\n",
      " 0.99989605 0.9998211  0.99974006 0.9993747  0.9965019  0.9875289\n",
      " 0.8245259  0.6338329 ]\n"
     ]
    },
    {
     "name": "stderr",
     "output_type": "stream",
     "text": [
      "c:\\users\\mk5n2\\appdata\\local\\continuum\\anaconda3\\envs\\maskrcnn\\lib\\site-packages\\skimage\\transform\\_warps.py:110: UserWarning: Anti-aliasing will be enabled by default in skimage 0.15 to avoid aliasing artifacts when down-sampling images.\n",
      "  warn(\"Anti-aliasing will be enabled by default in skimage 0.15 to \"\n"
     ]
    },
    {
     "name": "stdout",
     "output_type": "stream",
     "text": [
      "10  objects matches\n",
      "13 pred match\n",
      "15 total ground truth\n",
      "[ 7. 10. 11.  9.  6.  5. -1.  1. 14. 12.  8. -1. -1.]\n",
      "[0.99999833 0.9999931  0.9999907  0.9999902  0.99997413 0.9999634\n",
      " 0.9999304  0.9999273  0.99978703 0.9996232  0.99931633 0.9984199\n",
      " 0.9794692 ]\n"
     ]
    },
    {
     "name": "stderr",
     "output_type": "stream",
     "text": [
      "c:\\users\\mk5n2\\appdata\\local\\continuum\\anaconda3\\envs\\maskrcnn\\lib\\site-packages\\skimage\\transform\\_warps.py:110: UserWarning: Anti-aliasing will be enabled by default in skimage 0.15 to avoid aliasing artifacts when down-sampling images.\n",
      "  warn(\"Anti-aliasing will be enabled by default in skimage 0.15 to \"\n"
     ]
    },
    {
     "name": "stdout",
     "output_type": "stream",
     "text": [
      "11  objects matches\n",
      "14 pred match\n",
      "15 total ground truth\n",
      "[ 7. 10.  9. 11.  5.  1. 12.  6. 13. -1.  4. -1. -1. 14.]\n",
      "[0.9999999  0.99999607 0.99999404 0.99999297 0.9999857  0.99998426\n",
      " 0.99998236 0.9999676  0.99978334 0.99927324 0.99801767 0.99529195\n",
      " 0.93329775 0.84226066]\n"
     ]
    },
    {
     "name": "stderr",
     "output_type": "stream",
     "text": [
      "c:\\users\\mk5n2\\appdata\\local\\continuum\\anaconda3\\envs\\maskrcnn\\lib\\site-packages\\skimage\\transform\\_warps.py:110: UserWarning: Anti-aliasing will be enabled by default in skimage 0.15 to avoid aliasing artifacts when down-sampling images.\n",
      "  warn(\"Anti-aliasing will be enabled by default in skimage 0.15 to \"\n"
     ]
    },
    {
     "name": "stdout",
     "output_type": "stream",
     "text": [
      "10  objects matches\n",
      "14 pred match\n",
      "15 total ground truth\n",
      "[ 7. 12.  9. 11. 10.  6.  1.  5. 14. -1. -1. -1. -1. 13.]\n",
      "[0.9999974  0.99999595 0.99999475 0.99999297 0.9999927  0.99998\n",
      " 0.9999778  0.99997425 0.99986327 0.9994948  0.99907875 0.99572587\n",
      " 0.9939289  0.98975897]\n"
     ]
    },
    {
     "name": "stderr",
     "output_type": "stream",
     "text": [
      "c:\\users\\mk5n2\\appdata\\local\\continuum\\anaconda3\\envs\\maskrcnn\\lib\\site-packages\\skimage\\transform\\_warps.py:110: UserWarning: Anti-aliasing will be enabled by default in skimage 0.15 to avoid aliasing artifacts when down-sampling images.\n",
      "  warn(\"Anti-aliasing will be enabled by default in skimage 0.15 to \"\n"
     ]
    },
    {
     "name": "stdout",
     "output_type": "stream",
     "text": [
      "12  objects matches\n",
      "14 pred match\n",
      "15 total ground truth\n",
      "[ 8. 10. 12. 11.  9.  2. -1.  6. 14.  1.  5.  7. -1. 13.]\n",
      "[0.99999976 0.9999944  0.99999416 0.9999927  0.99999034 0.9999846\n",
      " 0.99995136 0.999949   0.9999188  0.99991465 0.9992204  0.9943777\n",
      " 0.9873626  0.9810075 ]\n"
     ]
    },
    {
     "name": "stderr",
     "output_type": "stream",
     "text": [
      "c:\\users\\mk5n2\\appdata\\local\\continuum\\anaconda3\\envs\\maskrcnn\\lib\\site-packages\\skimage\\transform\\_warps.py:110: UserWarning: Anti-aliasing will be enabled by default in skimage 0.15 to avoid aliasing artifacts when down-sampling images.\n",
      "  warn(\"Anti-aliasing will be enabled by default in skimage 0.15 to \"\n"
     ]
    },
    {
     "name": "stdout",
     "output_type": "stream",
     "text": [
      "10  objects matches\n",
      "14 pred match\n",
      "15 total ground truth\n",
      "[ 7.  8.  9. 10. 12.  1.  6. -1.  2. 14. -1. -1. -1. 13.]\n",
      "[0.99999845 0.9999924  0.9999919  0.99999154 0.99998415 0.9999813\n",
      " 0.9999583  0.9999161  0.9998857  0.99977237 0.99922216 0.9971042\n",
      " 0.95500386 0.8760288 ]\n"
     ]
    },
    {
     "name": "stderr",
     "output_type": "stream",
     "text": [
      "c:\\users\\mk5n2\\appdata\\local\\continuum\\anaconda3\\envs\\maskrcnn\\lib\\site-packages\\skimage\\transform\\_warps.py:110: UserWarning: Anti-aliasing will be enabled by default in skimage 0.15 to avoid aliasing artifacts when down-sampling images.\n",
      "  warn(\"Anti-aliasing will be enabled by default in skimage 0.15 to \"\n"
     ]
    },
    {
     "name": "stdout",
     "output_type": "stream",
     "text": [
      "11  objects matches\n",
      "14 pred match\n",
      "15 total ground truth\n",
      "[ 6.  8. 10.  5.  9. 14. -1.  1.  7. 13. -1.  4. -1. 12.]\n",
      "[0.9999987  0.9999962  0.99999297 0.9999875  0.99998724 0.99998474\n",
      " 0.9999629  0.9999598  0.99978703 0.9997087  0.99969697 0.9983072\n",
      " 0.95987236 0.8559809 ]\n"
     ]
    },
    {
     "name": "stderr",
     "output_type": "stream",
     "text": [
      "c:\\users\\mk5n2\\appdata\\local\\continuum\\anaconda3\\envs\\maskrcnn\\lib\\site-packages\\skimage\\transform\\_warps.py:110: UserWarning: Anti-aliasing will be enabled by default in skimage 0.15 to avoid aliasing artifacts when down-sampling images.\n",
      "  warn(\"Anti-aliasing will be enabled by default in skimage 0.15 to \"\n"
     ]
    },
    {
     "name": "stdout",
     "output_type": "stream",
     "text": [
      "11  objects matches\n",
      "14 pred match\n",
      "14 total ground truth\n",
      "[ 6.  8.  5.  9. 10.  1.  7. 11.  4. -1. 13. -1.  2. -1.]\n",
      "[0.99999726 0.9999958  0.99999464 0.99999344 0.999985   0.9999682\n",
      " 0.9999546  0.9999292  0.99991167 0.9996891  0.999686   0.9994035\n",
      " 0.9991173  0.99900395]\n"
     ]
    },
    {
     "name": "stderr",
     "output_type": "stream",
     "text": [
      "c:\\users\\mk5n2\\appdata\\local\\continuum\\anaconda3\\envs\\maskrcnn\\lib\\site-packages\\skimage\\transform\\_warps.py:110: UserWarning: Anti-aliasing will be enabled by default in skimage 0.15 to avoid aliasing artifacts when down-sampling images.\n",
      "  warn(\"Anti-aliasing will be enabled by default in skimage 0.15 to \"\n"
     ]
    },
    {
     "name": "stdout",
     "output_type": "stream",
     "text": [
      "10  objects matches\n",
      "15 pred match\n",
      "14 total ground truth\n",
      "[ 4.  2.  5.  6.  7.  8.  0.  3. 12. -1. -1. 10. -1. -1. -1.]\n",
      "[0.9999993  0.99999726 0.99999666 0.99999344 0.9999877  0.99998486\n",
      " 0.9999776  0.9999747  0.9998504  0.99980134 0.9995432  0.9987739\n",
      " 0.9891433  0.9375454  0.5744642 ]\n"
     ]
    },
    {
     "name": "stderr",
     "output_type": "stream",
     "text": [
      "c:\\users\\mk5n2\\appdata\\local\\continuum\\anaconda3\\envs\\maskrcnn\\lib\\site-packages\\skimage\\transform\\_warps.py:110: UserWarning: Anti-aliasing will be enabled by default in skimage 0.15 to avoid aliasing artifacts when down-sampling images.\n",
      "  warn(\"Anti-aliasing will be enabled by default in skimage 0.15 to \"\n"
     ]
    },
    {
     "name": "stdout",
     "output_type": "stream",
     "text": [
      "9  objects matches\n",
      "13 pred match\n",
      "14 total ground truth\n",
      "[ 4.  2.  8.  9. 10.  6. -1.  3.  1.  7. -1. -1. -1.]\n",
      "[0.9999982  0.9999975  0.9999964  0.99999475 0.9999918  0.99995553\n",
      " 0.9999012  0.99987555 0.9998653  0.99983704 0.99916446 0.9980252\n",
      " 0.9963218 ]\n"
     ]
    },
    {
     "name": "stderr",
     "output_type": "stream",
     "text": [
      "c:\\users\\mk5n2\\appdata\\local\\continuum\\anaconda3\\envs\\maskrcnn\\lib\\site-packages\\skimage\\transform\\_warps.py:110: UserWarning: Anti-aliasing will be enabled by default in skimage 0.15 to avoid aliasing artifacts when down-sampling images.\n",
      "  warn(\"Anti-aliasing will be enabled by default in skimage 0.15 to \"\n"
     ]
    },
    {
     "name": "stdout",
     "output_type": "stream",
     "text": [
      "10  objects matches\n",
      "15 pred match\n",
      "13 total ground truth\n",
      "[ 4.  5.  6.  2.  7. -1.  8. 11.  3.  9.  1. -1. -1. -1. -1.]\n",
      "[0.9999988  0.9999981  0.99999416 0.99999285 0.9999789  0.99995697\n",
      " 0.99994147 0.9998091  0.9997967  0.99975103 0.99962807 0.99939847\n",
      " 0.9952194  0.750348   0.7157711 ]\n"
     ]
    },
    {
     "name": "stderr",
     "output_type": "stream",
     "text": [
      "c:\\users\\mk5n2\\appdata\\local\\continuum\\anaconda3\\envs\\maskrcnn\\lib\\site-packages\\skimage\\transform\\_warps.py:110: UserWarning: Anti-aliasing will be enabled by default in skimage 0.15 to avoid aliasing artifacts when down-sampling images.\n",
      "  warn(\"Anti-aliasing will be enabled by default in skimage 0.15 to \"\n"
     ]
    },
    {
     "name": "stdout",
     "output_type": "stream",
     "text": [
      "10  objects matches\n",
      "15 pred match\n",
      "12 total ground truth\n",
      "[ 6.  7.  8.  2. 10.  9. -1.  5.  3.  1. -1.  4. -1. -1. -1.]\n",
      "[0.99999964 0.99999785 0.9999964  0.99999535 0.9999819  0.99996877\n",
      " 0.9999342  0.99991095 0.99990726 0.99963415 0.99961394 0.9994462\n",
      " 0.999275   0.91905355 0.5470403 ]\n"
     ]
    },
    {
     "name": "stderr",
     "output_type": "stream",
     "text": [
      "c:\\users\\mk5n2\\appdata\\local\\continuum\\anaconda3\\envs\\maskrcnn\\lib\\site-packages\\skimage\\transform\\_warps.py:110: UserWarning: Anti-aliasing will be enabled by default in skimage 0.15 to avoid aliasing artifacts when down-sampling images.\n",
      "  warn(\"Anti-aliasing will be enabled by default in skimage 0.15 to \"\n"
     ]
    },
    {
     "name": "stdout",
     "output_type": "stream",
     "text": [
      "10  objects matches\n",
      "15 pred match\n",
      "13 total ground truth\n",
      "[ 6.  7.  2.  8. -1.  9.  5.  4. -1.  1.  0.  3. -1. -1. -1.]\n",
      "[0.9999989  0.99999666 0.99999225 0.9999912  0.99998736 0.99998236\n",
      " 0.9999685  0.9999356  0.999887   0.9998847  0.9995907  0.9995301\n",
      " 0.9991641  0.74695    0.7059686 ]\n"
     ]
    },
    {
     "name": "stderr",
     "output_type": "stream",
     "text": [
      "c:\\users\\mk5n2\\appdata\\local\\continuum\\anaconda3\\envs\\maskrcnn\\lib\\site-packages\\skimage\\transform\\_warps.py:110: UserWarning: Anti-aliasing will be enabled by default in skimage 0.15 to avoid aliasing artifacts when down-sampling images.\n",
      "  warn(\"Anti-aliasing will be enabled by default in skimage 0.15 to \"\n"
     ]
    },
    {
     "name": "stdout",
     "output_type": "stream",
     "text": [
      "10  objects matches\n",
      "13 pred match\n",
      "14 total ground truth\n",
      "[ 5. -1.  9.  3. 10.  4. -1. 11.  8.  6.  1. 13. -1.]\n",
      "[0.9999995  0.9999989  0.99999666 0.99999475 0.99999356 0.9999845\n",
      " 0.99997246 0.9999678  0.99992883 0.9997882  0.9996376  0.9967449\n",
      " 0.99454665]\n"
     ]
    },
    {
     "name": "stderr",
     "output_type": "stream",
     "text": [
      "c:\\users\\mk5n2\\appdata\\local\\continuum\\anaconda3\\envs\\maskrcnn\\lib\\site-packages\\skimage\\transform\\_warps.py:110: UserWarning: Anti-aliasing will be enabled by default in skimage 0.15 to avoid aliasing artifacts when down-sampling images.\n",
      "  warn(\"Anti-aliasing will be enabled by default in skimage 0.15 to \"\n"
     ]
    },
    {
     "name": "stdout",
     "output_type": "stream",
     "text": [
      "10  objects matches\n",
      "13 pred match\n",
      "13 total ground truth\n",
      "[ 6. -1.  2.  7.  8.  3.  9.  5.  1. 11. -1. -1.  4.]\n",
      "[0.99999964 0.99999774 0.9999944  0.9999939  0.99999356 0.99997675\n",
      " 0.9999441  0.9998853  0.9998528  0.9995771  0.99950254 0.9989716\n",
      " 0.9986935 ]\n"
     ]
    },
    {
     "name": "stderr",
     "output_type": "stream",
     "text": [
      "c:\\users\\mk5n2\\appdata\\local\\continuum\\anaconda3\\envs\\maskrcnn\\lib\\site-packages\\skimage\\transform\\_warps.py:110: UserWarning: Anti-aliasing will be enabled by default in skimage 0.15 to avoid aliasing artifacts when down-sampling images.\n",
      "  warn(\"Anti-aliasing will be enabled by default in skimage 0.15 to \"\n"
     ]
    },
    {
     "name": "stdout",
     "output_type": "stream",
     "text": [
      "8  objects matches\n",
      "14 pred match\n",
      "13 total ground truth\n",
      "[ 4.  3. -1.  7.  8.  2.  6.  9. -1. -1. -1.  1. -1. -1.]\n",
      "[0.9999993  0.99999666 0.99999225 0.99999213 0.99998796 0.9999778\n",
      " 0.9999136  0.99991226 0.99989736 0.99984837 0.9998073  0.9996177\n",
      " 0.9857684  0.50606143]\n"
     ]
    },
    {
     "name": "stderr",
     "output_type": "stream",
     "text": [
      "c:\\users\\mk5n2\\appdata\\local\\continuum\\anaconda3\\envs\\maskrcnn\\lib\\site-packages\\skimage\\transform\\_warps.py:110: UserWarning: Anti-aliasing will be enabled by default in skimage 0.15 to avoid aliasing artifacts when down-sampling images.\n",
      "  warn(\"Anti-aliasing will be enabled by default in skimage 0.15 to \"\n"
     ]
    },
    {
     "name": "stdout",
     "output_type": "stream",
     "text": [
      "11  objects matches\n",
      "15 pred match\n",
      "13 total ground truth\n",
      "[11.  6.  2.  8.  7.  5.  3.  4.  9. 10.  1. -1. -1. -1. -1.]\n",
      "[0.9999981  0.9999964  0.9999963  0.9999939  0.9999908  0.9999825\n",
      " 0.99996185 0.9999461  0.99984765 0.9998466  0.9996902  0.9992786\n",
      " 0.9985758  0.78864145 0.5532562 ]\n"
     ]
    },
    {
     "name": "stderr",
     "output_type": "stream",
     "text": [
      "c:\\users\\mk5n2\\appdata\\local\\continuum\\anaconda3\\envs\\maskrcnn\\lib\\site-packages\\skimage\\transform\\_warps.py:110: UserWarning: Anti-aliasing will be enabled by default in skimage 0.15 to avoid aliasing artifacts when down-sampling images.\n",
      "  warn(\"Anti-aliasing will be enabled by default in skimage 0.15 to \"\n"
     ]
    },
    {
     "name": "stdout",
     "output_type": "stream",
     "text": [
      "9  objects matches\n",
      "14 pred match\n",
      "13 total ground truth\n",
      "[ 6.  2.  3.  8.  7.  4. -1.  5.  9. -1.  1. -1. -1. -1.]\n",
      "[0.9999994  0.99999666 0.9999956  0.9999919  0.99997306 0.9999639\n",
      " 0.9999603  0.9999335  0.99991405 0.99983025 0.9996326  0.9988508\n",
      " 0.9931218  0.5136787 ]\n"
     ]
    },
    {
     "name": "stderr",
     "output_type": "stream",
     "text": [
      "c:\\users\\mk5n2\\appdata\\local\\continuum\\anaconda3\\envs\\maskrcnn\\lib\\site-packages\\skimage\\transform\\_warps.py:110: UserWarning: Anti-aliasing will be enabled by default in skimage 0.15 to avoid aliasing artifacts when down-sampling images.\n",
      "  warn(\"Anti-aliasing will be enabled by default in skimage 0.15 to \"\n"
     ]
    },
    {
     "name": "stdout",
     "output_type": "stream",
     "text": [
      "8  objects matches\n",
      "13 pred match\n",
      "12 total ground truth\n",
      "[ 4.  6. -1.  5.  2.  7. -1.  1. 11. 10. -1. -1. -1.]\n",
      "[0.9999964  0.99999595 0.9999896  0.9999759  0.99996483 0.9999325\n",
      " 0.999895   0.9998832  0.99974734 0.99972016 0.9982126  0.9972343\n",
      " 0.9902289 ]\n"
     ]
    },
    {
     "name": "stderr",
     "output_type": "stream",
     "text": [
      "c:\\users\\mk5n2\\appdata\\local\\continuum\\anaconda3\\envs\\maskrcnn\\lib\\site-packages\\skimage\\transform\\_warps.py:110: UserWarning: Anti-aliasing will be enabled by default in skimage 0.15 to avoid aliasing artifacts when down-sampling images.\n",
      "  warn(\"Anti-aliasing will be enabled by default in skimage 0.15 to \"\n"
     ]
    },
    {
     "name": "stdout",
     "output_type": "stream",
     "text": [
      "7  objects matches\n",
      "13 pred match\n",
      "12 total ground truth\n",
      "[ 8.  2.  4.  7. -1.  1. -1. -1.  9.  5. -1. -1. -1.]\n",
      "[0.9999982  0.9999939  0.9999838  0.99998236 0.9999702  0.99990475\n",
      " 0.99988985 0.99982685 0.999806   0.9998     0.9996836  0.9992766\n",
      " 0.99689317]\n"
     ]
    },
    {
     "name": "stderr",
     "output_type": "stream",
     "text": [
      "c:\\users\\mk5n2\\appdata\\local\\continuum\\anaconda3\\envs\\maskrcnn\\lib\\site-packages\\skimage\\transform\\_warps.py:110: UserWarning: Anti-aliasing will be enabled by default in skimage 0.15 to avoid aliasing artifacts when down-sampling images.\n",
      "  warn(\"Anti-aliasing will be enabled by default in skimage 0.15 to \"\n"
     ]
    },
    {
     "name": "stdout",
     "output_type": "stream",
     "text": [
      "8  objects matches\n",
      "13 pred match\n",
      "12 total ground truth\n",
      "[ 6.  4. -1.  5.  2.  7.  1. -1.  8. -1.  9. -1. -1.]\n",
      "[0.9999988  0.9999976  0.9999902  0.999984   0.99997926 0.99996805\n",
      " 0.9999145  0.99989784 0.9998863  0.9997353  0.9995358  0.9990134\n",
      " 0.9965071 ]\n"
     ]
    },
    {
     "name": "stderr",
     "output_type": "stream",
     "text": [
      "c:\\users\\mk5n2\\appdata\\local\\continuum\\anaconda3\\envs\\maskrcnn\\lib\\site-packages\\skimage\\transform\\_warps.py:110: UserWarning: Anti-aliasing will be enabled by default in skimage 0.15 to avoid aliasing artifacts when down-sampling images.\n",
      "  warn(\"Anti-aliasing will be enabled by default in skimage 0.15 to \"\n"
     ]
    },
    {
     "name": "stdout",
     "output_type": "stream",
     "text": [
      "8  objects matches\n",
      "13 pred match\n",
      "14 total ground truth\n",
      "[ 9.  2.  8. -1.  7. -1.  1. -1.  4. 10.  6. -1. -1.]\n",
      "[0.99999857 0.9999826  0.99998    0.99997306 0.9999703  0.99993134\n",
      " 0.999928   0.99991727 0.9998977  0.9998864  0.99976736 0.9989973\n",
      " 0.9975776 ]\n"
     ]
    },
    {
     "name": "stderr",
     "output_type": "stream",
     "text": [
      "c:\\users\\mk5n2\\appdata\\local\\continuum\\anaconda3\\envs\\maskrcnn\\lib\\site-packages\\skimage\\transform\\_warps.py:110: UserWarning: Anti-aliasing will be enabled by default in skimage 0.15 to avoid aliasing artifacts when down-sampling images.\n",
      "  warn(\"Anti-aliasing will be enabled by default in skimage 0.15 to \"\n"
     ]
    },
    {
     "name": "stdout",
     "output_type": "stream",
     "text": [
      "10  objects matches\n",
      "13 pred match\n",
      "14 total ground truth\n",
      "[ 9.  2.  7.  8.  3. -1.  4.  1. 10. 12.  6. -1. -1.]\n",
      "[0.999998   0.9999949  0.9999943  0.99997973 0.9999763  0.99997234\n",
      " 0.9999702  0.9999304  0.999902   0.99987197 0.9996117  0.99904495\n",
      " 0.9967944 ]\n"
     ]
    },
    {
     "name": "stderr",
     "output_type": "stream",
     "text": [
      "c:\\users\\mk5n2\\appdata\\local\\continuum\\anaconda3\\envs\\maskrcnn\\lib\\site-packages\\skimage\\transform\\_warps.py:110: UserWarning: Anti-aliasing will be enabled by default in skimage 0.15 to avoid aliasing artifacts when down-sampling images.\n",
      "  warn(\"Anti-aliasing will be enabled by default in skimage 0.15 to \"\n"
     ]
    },
    {
     "name": "stdout",
     "output_type": "stream",
     "text": [
      "11  objects matches\n",
      "14 pred match\n",
      "14 total ground truth\n",
      "[ 9.  7.  2.  6.  8.  3. -1. 10. -1.  1. -1.  5. 12.  4.]\n",
      "[0.99999857 0.99999774 0.99999344 0.99998534 0.9999778  0.9999763\n",
      " 0.9999378  0.99993515 0.99991786 0.99990344 0.99941945 0.99836785\n",
      " 0.9969156  0.9854236 ]\n"
     ]
    },
    {
     "name": "stderr",
     "output_type": "stream",
     "text": [
      "c:\\users\\mk5n2\\appdata\\local\\continuum\\anaconda3\\envs\\maskrcnn\\lib\\site-packages\\skimage\\transform\\_warps.py:110: UserWarning: Anti-aliasing will be enabled by default in skimage 0.15 to avoid aliasing artifacts when down-sampling images.\n",
      "  warn(\"Anti-aliasing will be enabled by default in skimage 0.15 to \"\n"
     ]
    },
    {
     "name": "stdout",
     "output_type": "stream",
     "text": [
      "10  objects matches\n",
      "15 pred match\n",
      "14 total ground truth\n",
      "[10.  6.  7. -1.  9.  2.  1.  5. 11.  8. -1.  4. -1. -1. -1.]\n",
      "[0.9999975  0.9999968  0.9999949  0.9999949  0.99998534 0.99997246\n",
      " 0.999928   0.9999198  0.99991035 0.9994629  0.9987356  0.9945152\n",
      " 0.99047583 0.9802367  0.926358  ]\n"
     ]
    },
    {
     "name": "stderr",
     "output_type": "stream",
     "text": [
      "c:\\users\\mk5n2\\appdata\\local\\continuum\\anaconda3\\envs\\maskrcnn\\lib\\site-packages\\skimage\\transform\\_warps.py:110: UserWarning: Anti-aliasing will be enabled by default in skimage 0.15 to avoid aliasing artifacts when down-sampling images.\n",
      "  warn(\"Anti-aliasing will be enabled by default in skimage 0.15 to \"\n"
     ]
    },
    {
     "name": "stdout",
     "output_type": "stream",
     "text": [
      "10  objects matches\n",
      "16 pred match\n",
      "14 total ground truth\n",
      "[10.  6.  7.  2.  9.  5.  1. -1. 11. 13. -1. -1.  4. -1. -1. -1.]\n",
      "[0.9999982  0.99999595 0.9999931  0.9999894  0.9999745  0.9999505\n",
      " 0.999946   0.999895   0.9997651  0.9992768  0.9991404  0.9963787\n",
      " 0.9956892  0.98329127 0.9417251  0.5876523 ]\n"
     ]
    },
    {
     "name": "stderr",
     "output_type": "stream",
     "text": [
      "c:\\users\\mk5n2\\appdata\\local\\continuum\\anaconda3\\envs\\maskrcnn\\lib\\site-packages\\skimage\\transform\\_warps.py:110: UserWarning: Anti-aliasing will be enabled by default in skimage 0.15 to avoid aliasing artifacts when down-sampling images.\n",
      "  warn(\"Anti-aliasing will be enabled by default in skimage 0.15 to \"\n"
     ]
    },
    {
     "name": "stdout",
     "output_type": "stream",
     "text": [
      "8  objects matches\n",
      "15 pred match\n",
      "14 total ground truth\n",
      "[10.  7. -1.  5. -1.  9.  1. -1. 11. -1. -1.  4. -1. 13. -1.]\n",
      "[0.9999987  0.9999976  0.999995   0.99998736 0.9999839  0.9999802\n",
      " 0.9999019  0.9998729  0.9998167  0.9992206  0.994653   0.9932555\n",
      " 0.9904936  0.9838486  0.92125225]\n"
     ]
    },
    {
     "name": "stderr",
     "output_type": "stream",
     "text": [
      "c:\\users\\mk5n2\\appdata\\local\\continuum\\anaconda3\\envs\\maskrcnn\\lib\\site-packages\\skimage\\transform\\_warps.py:110: UserWarning: Anti-aliasing will be enabled by default in skimage 0.15 to avoid aliasing artifacts when down-sampling images.\n",
      "  warn(\"Anti-aliasing will be enabled by default in skimage 0.15 to \"\n"
     ]
    },
    {
     "name": "stdout",
     "output_type": "stream",
     "text": [
      "8  objects matches\n",
      "16 pred match\n",
      "13 total ground truth\n",
      "[ 4.  6.  2.  5.  3. -1.  7.  1. -1. -1. -1. -1. 10. -1. -1. -1.]\n",
      "[0.99999857 0.9999982  0.9999969  0.9999851  0.99998045 0.99997556\n",
      " 0.99983454 0.9997842  0.9996463  0.9978275  0.99688464 0.9962379\n",
      " 0.9961228  0.9909841  0.9751496  0.6937755 ]\n"
     ]
    },
    {
     "name": "stderr",
     "output_type": "stream",
     "text": [
      "c:\\users\\mk5n2\\appdata\\local\\continuum\\anaconda3\\envs\\maskrcnn\\lib\\site-packages\\skimage\\transform\\_warps.py:110: UserWarning: Anti-aliasing will be enabled by default in skimage 0.15 to avoid aliasing artifacts when down-sampling images.\n",
      "  warn(\"Anti-aliasing will be enabled by default in skimage 0.15 to \"\n"
     ]
    },
    {
     "name": "stdout",
     "output_type": "stream",
     "text": [
      "8  objects matches\n",
      "17 pred match\n",
      "13 total ground truth\n",
      "[ 9.  7.  8.  6.  5. -1.  1. 10. -1. -1. -1. -1. -1.  3. -1. -1. -1.]\n",
      "[0.9999981  0.99999285 0.999985   0.9999839  0.99996996 0.99996316\n",
      " 0.99994636 0.9998099  0.99965584 0.99871266 0.99824584 0.9972964\n",
      " 0.99651897 0.9960443  0.9949427  0.94029105 0.65111405]\n"
     ]
    },
    {
     "name": "stderr",
     "output_type": "stream",
     "text": [
      "c:\\users\\mk5n2\\appdata\\local\\continuum\\anaconda3\\envs\\maskrcnn\\lib\\site-packages\\skimage\\transform\\_warps.py:110: UserWarning: Anti-aliasing will be enabled by default in skimage 0.15 to avoid aliasing artifacts when down-sampling images.\n",
      "  warn(\"Anti-aliasing will be enabled by default in skimage 0.15 to \"\n"
     ]
    },
    {
     "name": "stdout",
     "output_type": "stream",
     "text": [
      "6  objects matches\n",
      "16 pred match\n",
      "13 total ground truth\n",
      "[ 9.  3.  4. -1.  8. -1. -1. 10.  1. -1. -1. -1. -1. -1. -1. -1.]\n",
      "[0.9999981  0.9999956  0.9999945  0.9999869  0.9999857  0.9999844\n",
      " 0.9999826  0.9998752  0.9998605  0.99974626 0.99972457 0.99960214\n",
      " 0.9987515  0.99743456 0.98976153 0.92885846]\n"
     ]
    },
    {
     "name": "stderr",
     "output_type": "stream",
     "text": [
      "c:\\users\\mk5n2\\appdata\\local\\continuum\\anaconda3\\envs\\maskrcnn\\lib\\site-packages\\skimage\\transform\\_warps.py:110: UserWarning: Anti-aliasing will be enabled by default in skimage 0.15 to avoid aliasing artifacts when down-sampling images.\n",
      "  warn(\"Anti-aliasing will be enabled by default in skimage 0.15 to \"\n"
     ]
    },
    {
     "name": "stdout",
     "output_type": "stream",
     "text": [
      "8  objects matches\n",
      "14 pred match\n",
      "14 total ground truth\n",
      "[ 6.  9. 11. -1.  7. 12.  8. -1. 10.  1. -1. -1. -1. -1.]\n",
      "[0.99999976 0.99999857 0.99999535 0.9999944  0.9999924  0.9999865\n",
      " 0.9999565  0.99991524 0.9999     0.9998926  0.99956876 0.99945277\n",
      " 0.9993624  0.9952878 ]\n"
     ]
    },
    {
     "name": "stderr",
     "output_type": "stream",
     "text": [
      "c:\\users\\mk5n2\\appdata\\local\\continuum\\anaconda3\\envs\\maskrcnn\\lib\\site-packages\\skimage\\transform\\_warps.py:110: UserWarning: Anti-aliasing will be enabled by default in skimage 0.15 to avoid aliasing artifacts when down-sampling images.\n",
      "  warn(\"Anti-aliasing will be enabled by default in skimage 0.15 to \"\n"
     ]
    },
    {
     "name": "stdout",
     "output_type": "stream",
     "text": [
      "9  objects matches\n",
      "15 pred match\n",
      "13 total ground truth\n",
      "[ 6.  9.  2.  3.  8. 10. -1. -1. -1.  1.  5.  4. -1. -1. -1.]\n",
      "[0.99999964 0.9999949  0.999992   0.9999888  0.999984   0.99997735\n",
      " 0.9999573  0.9998307  0.99981636 0.99981314 0.9997495  0.99946326\n",
      " 0.9993767  0.994003   0.59396476]\n"
     ]
    },
    {
     "name": "stderr",
     "output_type": "stream",
     "text": [
      "c:\\users\\mk5n2\\appdata\\local\\continuum\\anaconda3\\envs\\maskrcnn\\lib\\site-packages\\skimage\\transform\\_warps.py:110: UserWarning: Anti-aliasing will be enabled by default in skimage 0.15 to avoid aliasing artifacts when down-sampling images.\n",
      "  warn(\"Anti-aliasing will be enabled by default in skimage 0.15 to \"\n"
     ]
    },
    {
     "name": "stdout",
     "output_type": "stream",
     "text": [
      "9  objects matches\n",
      "14 pred match\n",
      "12 total ground truth\n",
      "[ 6.  8.  4.  5.  7.  1.  9. -1.  3. -1. -1. 11. -1. -1.]\n",
      "[0.99999917 0.99999714 0.9999894  0.9999732  0.99997056 0.9999691\n",
      " 0.999966   0.99994516 0.9998944  0.99989045 0.999718   0.9996635\n",
      " 0.9994553  0.98201525]\n"
     ]
    },
    {
     "name": "stderr",
     "output_type": "stream",
     "text": [
      "c:\\users\\mk5n2\\appdata\\local\\continuum\\anaconda3\\envs\\maskrcnn\\lib\\site-packages\\skimage\\transform\\_warps.py:110: UserWarning: Anti-aliasing will be enabled by default in skimage 0.15 to avoid aliasing artifacts when down-sampling images.\n",
      "  warn(\"Anti-aliasing will be enabled by default in skimage 0.15 to \"\n"
     ]
    },
    {
     "name": "stdout",
     "output_type": "stream",
     "text": [
      "8  objects matches\n",
      "15 pred match\n",
      "12 total ground truth\n",
      "[ 4.  8.  9. -1.  3.  1.  7. -1.  6. -1. -1. -1. 10. -1. -1.]\n",
      "[0.99999976 0.999998   0.99998546 0.999985   0.99997413 0.99997354\n",
      " 0.99996066 0.99992526 0.99990964 0.9998933  0.9996958  0.99952435\n",
      " 0.9976634  0.66035295 0.6400099 ]\n"
     ]
    },
    {
     "name": "stderr",
     "output_type": "stream",
     "text": [
      "c:\\users\\mk5n2\\appdata\\local\\continuum\\anaconda3\\envs\\maskrcnn\\lib\\site-packages\\skimage\\transform\\_warps.py:110: UserWarning: Anti-aliasing will be enabled by default in skimage 0.15 to avoid aliasing artifacts when down-sampling images.\n",
      "  warn(\"Anti-aliasing will be enabled by default in skimage 0.15 to \"\n"
     ]
    },
    {
     "name": "stdout",
     "output_type": "stream",
     "text": [
      "10  objects matches\n",
      "14 pred match\n",
      "13 total ground truth\n",
      "[10.  5.  2.  3. 11.  4.  9.  0.  8. -1. -1.  1. -1. -1.]\n",
      "[0.99999607 0.9999956  0.99999106 0.99998796 0.9999813  0.9999758\n",
      " 0.99996805 0.9999093  0.99980503 0.9995888  0.99955004 0.99920744\n",
      " 0.98129404 0.50956446]\n"
     ]
    },
    {
     "name": "stderr",
     "output_type": "stream",
     "text": [
      "c:\\users\\mk5n2\\appdata\\local\\continuum\\anaconda3\\envs\\maskrcnn\\lib\\site-packages\\skimage\\transform\\_warps.py:110: UserWarning: Anti-aliasing will be enabled by default in skimage 0.15 to avoid aliasing artifacts when down-sampling images.\n",
      "  warn(\"Anti-aliasing will be enabled by default in skimage 0.15 to \"\n"
     ]
    },
    {
     "name": "stdout",
     "output_type": "stream",
     "text": [
      "10  objects matches\n",
      "14 pred match\n",
      "13 total ground truth\n",
      "[ 7.  9.  3.  2.  8. 10.  4.  0. -1. -1.  6.  1. -1. -1.]\n",
      "[0.9999993  0.99999595 0.99999475 0.9999783  0.9999715  0.99996316\n",
      " 0.9999429  0.99991536 0.99987745 0.9998099  0.99974006 0.9996463\n",
      " 0.99955195 0.61322   ]\n"
     ]
    },
    {
     "name": "stderr",
     "output_type": "stream",
     "text": [
      "c:\\users\\mk5n2\\appdata\\local\\continuum\\anaconda3\\envs\\maskrcnn\\lib\\site-packages\\skimage\\transform\\_warps.py:110: UserWarning: Anti-aliasing will be enabled by default in skimage 0.15 to avoid aliasing artifacts when down-sampling images.\n",
      "  warn(\"Anti-aliasing will be enabled by default in skimage 0.15 to \"\n"
     ]
    },
    {
     "name": "stdout",
     "output_type": "stream",
     "text": [
      "8  objects matches\n",
      "13 pred match\n",
      "13 total ground truth\n",
      "[ 7.  9.  2. 10. -1.  8. -1.  4.  0. -1.  6. -1. -1.]\n",
      "[0.99999905 0.99999654 0.9999937  0.99999034 0.9999865  0.9999788\n",
      " 0.99996483 0.9999565  0.9999198  0.99972624 0.99966204 0.99958724\n",
      " 0.99929965]\n"
     ]
    },
    {
     "name": "stderr",
     "output_type": "stream",
     "text": [
      "c:\\users\\mk5n2\\appdata\\local\\continuum\\anaconda3\\envs\\maskrcnn\\lib\\site-packages\\skimage\\transform\\_warps.py:110: UserWarning: Anti-aliasing will be enabled by default in skimage 0.15 to avoid aliasing artifacts when down-sampling images.\n",
      "  warn(\"Anti-aliasing will be enabled by default in skimage 0.15 to \"\n"
     ]
    },
    {
     "name": "stdout",
     "output_type": "stream",
     "text": [
      "10  objects matches\n",
      "13 pred match\n",
      "13 total ground truth\n",
      "[ 6.  4. 10.  2. 11. 12.  7.  3. -1.  8.  1. -1. -1.]\n",
      "[0.9999969  0.99999666 0.99999547 0.999987   0.99998605 0.99998593\n",
      " 0.9999751  0.9999337  0.9998708  0.9995709  0.99942964 0.99940467\n",
      " 0.99285674]\n"
     ]
    },
    {
     "name": "stderr",
     "output_type": "stream",
     "text": [
      "c:\\users\\mk5n2\\appdata\\local\\continuum\\anaconda3\\envs\\maskrcnn\\lib\\site-packages\\skimage\\transform\\_warps.py:110: UserWarning: Anti-aliasing will be enabled by default in skimage 0.15 to avoid aliasing artifacts when down-sampling images.\n",
      "  warn(\"Anti-aliasing will be enabled by default in skimage 0.15 to \"\n"
     ]
    },
    {
     "name": "stdout",
     "output_type": "stream",
     "text": [
      "9  objects matches\n",
      "13 pred match\n",
      "13 total ground truth\n",
      "[ 3.  5.  9. 11.  2.  8. 10.  4. -1. -1. -1.  1. -1.]\n",
      "[0.9999974  0.99999654 0.9999951  0.99997914 0.9999727  0.9999707\n",
      " 0.9999622  0.99992657 0.9998337  0.9997793  0.99958783 0.9991844\n",
      " 0.9981457 ]\n"
     ]
    },
    {
     "name": "stderr",
     "output_type": "stream",
     "text": [
      "c:\\users\\mk5n2\\appdata\\local\\continuum\\anaconda3\\envs\\maskrcnn\\lib\\site-packages\\skimage\\transform\\_warps.py:110: UserWarning: Anti-aliasing will be enabled by default in skimage 0.15 to avoid aliasing artifacts when down-sampling images.\n",
      "  warn(\"Anti-aliasing will be enabled by default in skimage 0.15 to \"\n"
     ]
    },
    {
     "name": "stdout",
     "output_type": "stream",
     "text": [
      "9  objects matches\n",
      "13 pred match\n",
      "13 total ground truth\n",
      "[ 3.  7.  9. -1.  8.  2. 10.  4.  1.  6. -1. -1. -1.]\n",
      "[0.9999976  0.9999969  0.9999969  0.9999951  0.99999213 0.9999845\n",
      " 0.9999496  0.9999347  0.99982315 0.999519   0.99933213 0.99891543\n",
      " 0.96538156]\n"
     ]
    },
    {
     "name": "stderr",
     "output_type": "stream",
     "text": [
      "c:\\users\\mk5n2\\appdata\\local\\continuum\\anaconda3\\envs\\maskrcnn\\lib\\site-packages\\skimage\\transform\\_warps.py:110: UserWarning: Anti-aliasing will be enabled by default in skimage 0.15 to avoid aliasing artifacts when down-sampling images.\n",
      "  warn(\"Anti-aliasing will be enabled by default in skimage 0.15 to \"\n"
     ]
    },
    {
     "name": "stdout",
     "output_type": "stream",
     "text": [
      "8  objects matches\n",
      "13 pred match\n",
      "13 total ground truth\n",
      "[ 7.  9.  5.  2.  8. 10. -1.  6.  1. -1. -1. -1. -1.]\n",
      "[0.9999994  0.99999726 0.99999166 0.9999857  0.9999825  0.99997437\n",
      " 0.9999418  0.99991167 0.9998093  0.9997776  0.9994949  0.9978638\n",
      " 0.8682768 ]\n"
     ]
    },
    {
     "name": "stderr",
     "output_type": "stream",
     "text": [
      "c:\\users\\mk5n2\\appdata\\local\\continuum\\anaconda3\\envs\\maskrcnn\\lib\\site-packages\\skimage\\transform\\_warps.py:110: UserWarning: Anti-aliasing will be enabled by default in skimage 0.15 to avoid aliasing artifacts when down-sampling images.\n",
      "  warn(\"Anti-aliasing will be enabled by default in skimage 0.15 to \"\n"
     ]
    },
    {
     "name": "stdout",
     "output_type": "stream",
     "text": [
      "8  objects matches\n",
      "13 pred match\n",
      "13 total ground truth\n",
      "[ 5.  7.  6.  8.  2.  3. -1.  4.  1. -1. -1. -1. -1.]\n",
      "[0.9999993  0.99999833 0.9999926  0.99998724 0.99998546 0.99997926\n",
      " 0.99983895 0.99983203 0.9997036  0.99948823 0.9980755  0.99643254\n",
      " 0.8287024 ]\n"
     ]
    },
    {
     "name": "stderr",
     "output_type": "stream",
     "text": [
      "c:\\users\\mk5n2\\appdata\\local\\continuum\\anaconda3\\envs\\maskrcnn\\lib\\site-packages\\skimage\\transform\\_warps.py:110: UserWarning: Anti-aliasing will be enabled by default in skimage 0.15 to avoid aliasing artifacts when down-sampling images.\n",
      "  warn(\"Anti-aliasing will be enabled by default in skimage 0.15 to \"\n"
     ]
    },
    {
     "name": "stdout",
     "output_type": "stream",
     "text": [
      "8  objects matches\n",
      "13 pred match\n",
      "13 total ground truth\n",
      "[ 9.  7.  8.  3.  2. 10.  4. -1.  1. -1. -1. -1. -1.]\n",
      "[0.99999833 0.99999726 0.99999154 0.99999094 0.99998474 0.99997675\n",
      " 0.9999707  0.99986696 0.99967194 0.9996593  0.99958116 0.9992847\n",
      " 0.8910757 ]\n"
     ]
    },
    {
     "name": "stderr",
     "output_type": "stream",
     "text": [
      "c:\\users\\mk5n2\\appdata\\local\\continuum\\anaconda3\\envs\\maskrcnn\\lib\\site-packages\\skimage\\transform\\_warps.py:110: UserWarning: Anti-aliasing will be enabled by default in skimage 0.15 to avoid aliasing artifacts when down-sampling images.\n",
      "  warn(\"Anti-aliasing will be enabled by default in skimage 0.15 to \"\n"
     ]
    },
    {
     "name": "stdout",
     "output_type": "stream",
     "text": [
      "8  objects matches\n",
      "14 pred match\n",
      "13 total ground truth\n",
      "[ 5.  7.  6. -1.  4.  2.  8.  3. -1. -1.  1. -1. -1. -1.]\n",
      "[0.99999917 0.9999988  0.9999945  0.99999094 0.9999784  0.99997735\n",
      " 0.99996245 0.9999075  0.999795   0.99973375 0.99958915 0.9995142\n",
      " 0.97329456 0.61162806]\n"
     ]
    },
    {
     "name": "stderr",
     "output_type": "stream",
     "text": [
      "c:\\users\\mk5n2\\appdata\\local\\continuum\\anaconda3\\envs\\maskrcnn\\lib\\site-packages\\skimage\\transform\\_warps.py:110: UserWarning: Anti-aliasing will be enabled by default in skimage 0.15 to avoid aliasing artifacts when down-sampling images.\n",
      "  warn(\"Anti-aliasing will be enabled by default in skimage 0.15 to \"\n"
     ]
    },
    {
     "name": "stdout",
     "output_type": "stream",
     "text": [
      "9  objects matches\n",
      "13 pred match\n",
      "13 total ground truth\n",
      "[ 9.  8.  7.  2.  5. -1. 10.  6. 11. -1.  1. -1. -1.]\n",
      "[0.99999833 0.99999595 0.99999094 0.99998367 0.99997234 0.9999652\n",
      " 0.99996006 0.99995005 0.9998678  0.9998332  0.99976915 0.9996575\n",
      " 0.9935004 ]\n"
     ]
    },
    {
     "name": "stderr",
     "output_type": "stream",
     "text": [
      "c:\\users\\mk5n2\\appdata\\local\\continuum\\anaconda3\\envs\\maskrcnn\\lib\\site-packages\\skimage\\transform\\_warps.py:110: UserWarning: Anti-aliasing will be enabled by default in skimage 0.15 to avoid aliasing artifacts when down-sampling images.\n",
      "  warn(\"Anti-aliasing will be enabled by default in skimage 0.15 to \"\n"
     ]
    },
    {
     "name": "stdout",
     "output_type": "stream",
     "text": [
      "10  objects matches\n",
      "13 pred match\n",
      "13 total ground truth\n",
      "[10.  9.  2.  7.  3. 12. 11.  8. -1.  4. -1.  1. -1.]\n",
      "[0.99999845 0.9999962  0.9999907  0.99998975 0.9999893  0.9999877\n",
      " 0.9999696  0.99995613 0.9999229  0.99986184 0.99980646 0.9996526\n",
      " 0.99892575]\n"
     ]
    },
    {
     "name": "stderr",
     "output_type": "stream",
     "text": [
      "c:\\users\\mk5n2\\appdata\\local\\continuum\\anaconda3\\envs\\maskrcnn\\lib\\site-packages\\skimage\\transform\\_warps.py:110: UserWarning: Anti-aliasing will be enabled by default in skimage 0.15 to avoid aliasing artifacts when down-sampling images.\n",
      "  warn(\"Anti-aliasing will be enabled by default in skimage 0.15 to \"\n"
     ]
    },
    {
     "name": "stdout",
     "output_type": "stream",
     "text": [
      "6  objects matches\n",
      "13 pred match\n",
      "13 total ground truth\n",
      "[ 5.  7.  6. -1.  8.  2. -1. -1. 12. -1. -1. -1. -1.]\n",
      "[0.9999981  0.99999726 0.99999714 0.9999924  0.9999794  0.99997807\n",
      " 0.999964   0.9999536  0.9999281  0.9999238  0.9999064  0.9998529\n",
      " 0.999705  ]\n"
     ]
    },
    {
     "name": "stderr",
     "output_type": "stream",
     "text": [
      "c:\\users\\mk5n2\\appdata\\local\\continuum\\anaconda3\\envs\\maskrcnn\\lib\\site-packages\\skimage\\transform\\_warps.py:110: UserWarning: Anti-aliasing will be enabled by default in skimage 0.15 to avoid aliasing artifacts when down-sampling images.\n",
      "  warn(\"Anti-aliasing will be enabled by default in skimage 0.15 to \"\n"
     ]
    },
    {
     "name": "stdout",
     "output_type": "stream",
     "text": [
      "7  objects matches\n",
      "13 pred match\n",
      "13 total ground truth\n",
      "[ 9.  3.  7.  2.  8. -1. -1. 10. -1. -1. -1.  1. -1.]\n",
      "[0.999997   0.9999925  0.99998975 0.99998856 0.9999838  0.9999441\n",
      " 0.99994075 0.99993646 0.9999268  0.99991596 0.99989855 0.9998753\n",
      " 0.9998497 ]\n"
     ]
    },
    {
     "name": "stderr",
     "output_type": "stream",
     "text": [
      "c:\\users\\mk5n2\\appdata\\local\\continuum\\anaconda3\\envs\\maskrcnn\\lib\\site-packages\\skimage\\transform\\_warps.py:110: UserWarning: Anti-aliasing will be enabled by default in skimage 0.15 to avoid aliasing artifacts when down-sampling images.\n",
      "  warn(\"Anti-aliasing will be enabled by default in skimage 0.15 to \"\n"
     ]
    },
    {
     "name": "stdout",
     "output_type": "stream",
     "text": [
      "5  objects matches\n",
      "12 pred match\n",
      "12 total ground truth\n",
      "[ 8.  9. -1.  7.  3. -1. 10. -1. -1. -1. -1. -1.]\n",
      "[0.999992   0.99998796 0.9999863  0.999984   0.9999608  0.99996006\n",
      " 0.9999455  0.9998659  0.99977845 0.99962425 0.9992957  0.99342453]\n"
     ]
    },
    {
     "name": "stderr",
     "output_type": "stream",
     "text": [
      "c:\\users\\mk5n2\\appdata\\local\\continuum\\anaconda3\\envs\\maskrcnn\\lib\\site-packages\\skimage\\transform\\_warps.py:110: UserWarning: Anti-aliasing will be enabled by default in skimage 0.15 to avoid aliasing artifacts when down-sampling images.\n",
      "  warn(\"Anti-aliasing will be enabled by default in skimage 0.15 to \"\n"
     ]
    },
    {
     "name": "stdout",
     "output_type": "stream",
     "text": [
      "9  objects matches\n",
      "11 pred match\n",
      "11 total ground truth\n",
      "[ 8.  7.  9.  4.  2.  3.  6. -1.  0.  1. -1.]\n",
      "[0.999997   0.9999901  0.99998975 0.9999864  0.9999856  0.9999732\n",
      " 0.9999715  0.99994123 0.9998115  0.9995652  0.9766104 ]\n"
     ]
    },
    {
     "name": "stderr",
     "output_type": "stream",
     "text": [
      "c:\\users\\mk5n2\\appdata\\local\\continuum\\anaconda3\\envs\\maskrcnn\\lib\\site-packages\\skimage\\transform\\_warps.py:110: UserWarning: Anti-aliasing will be enabled by default in skimage 0.15 to avoid aliasing artifacts when down-sampling images.\n",
      "  warn(\"Anti-aliasing will be enabled by default in skimage 0.15 to \"\n"
     ]
    },
    {
     "name": "stdout",
     "output_type": "stream",
     "text": [
      "7  objects matches\n",
      "11 pred match\n",
      "11 total ground truth\n",
      "[ 6.  8.  9.  3.  2.  7. -1.  4. -1. -1. -1.]\n",
      "[0.99999535 0.99999356 0.99999344 0.9999933  0.9999887  0.9999881\n",
      " 0.9999826  0.99995136 0.9984413  0.9964786  0.95816773]\n"
     ]
    },
    {
     "name": "stderr",
     "output_type": "stream",
     "text": [
      "c:\\users\\mk5n2\\appdata\\local\\continuum\\anaconda3\\envs\\maskrcnn\\lib\\site-packages\\skimage\\transform\\_warps.py:110: UserWarning: Anti-aliasing will be enabled by default in skimage 0.15 to avoid aliasing artifacts when down-sampling images.\n",
      "  warn(\"Anti-aliasing will be enabled by default in skimage 0.15 to \"\n"
     ]
    },
    {
     "name": "stdout",
     "output_type": "stream",
     "text": [
      "8  objects matches\n",
      "11 pred match\n",
      "11 total ground truth\n",
      "[ 6. 10.  8.  2.  7.  9.  3.  4. -1. -1. -1.]\n",
      "[0.99999774 0.9999958  0.9999956  0.9999931  0.9999865  0.9999845\n",
      " 0.9999349  0.9999168  0.9988972  0.8468688  0.67671174]\n"
     ]
    },
    {
     "name": "stderr",
     "output_type": "stream",
     "text": [
      "c:\\users\\mk5n2\\appdata\\local\\continuum\\anaconda3\\envs\\maskrcnn\\lib\\site-packages\\skimage\\transform\\_warps.py:110: UserWarning: Anti-aliasing will be enabled by default in skimage 0.15 to avoid aliasing artifacts when down-sampling images.\n",
      "  warn(\"Anti-aliasing will be enabled by default in skimage 0.15 to \"\n"
     ]
    },
    {
     "name": "stdout",
     "output_type": "stream",
     "text": [
      "8  objects matches\n",
      "10 pred match\n",
      "10 total ground truth\n",
      "[ 4.  8.  2.  7.  6.  9.  3.  5. -1. -1.]\n",
      "[0.9999981  0.9999956  0.99999356 0.99999046 0.9999893  0.99998903\n",
      " 0.99998534 0.9998727  0.99934584 0.9153456 ]\n"
     ]
    },
    {
     "name": "stderr",
     "output_type": "stream",
     "text": [
      "c:\\users\\mk5n2\\appdata\\local\\continuum\\anaconda3\\envs\\maskrcnn\\lib\\site-packages\\skimage\\transform\\_warps.py:110: UserWarning: Anti-aliasing will be enabled by default in skimage 0.15 to avoid aliasing artifacts when down-sampling images.\n",
      "  warn(\"Anti-aliasing will be enabled by default in skimage 0.15 to \"\n"
     ]
    },
    {
     "name": "stdout",
     "output_type": "stream",
     "text": [
      "8  objects matches\n",
      "10 pred match\n",
      "10 total ground truth\n",
      "[ 5.  8.  2.  7.  6.  9.  3.  4. -1. -1.]\n",
      "[0.99999964 0.9999963  0.9999944  0.9999937  0.9999887  0.99998796\n",
      " 0.99998665 0.999863   0.9991703  0.5014888 ]\n"
     ]
    },
    {
     "name": "stderr",
     "output_type": "stream",
     "text": [
      "c:\\users\\mk5n2\\appdata\\local\\continuum\\anaconda3\\envs\\maskrcnn\\lib\\site-packages\\skimage\\transform\\_warps.py:110: UserWarning: Anti-aliasing will be enabled by default in skimage 0.15 to avoid aliasing artifacts when down-sampling images.\n",
      "  warn(\"Anti-aliasing will be enabled by default in skimage 0.15 to \"\n"
     ]
    },
    {
     "name": "stdout",
     "output_type": "stream",
     "text": [
      "6  objects matches\n",
      "9 pred match\n",
      "10 total ground truth\n",
      "[ 5.  7. -1.  2.  6.  8. -1.  4. -1.]\n",
      "[0.99999857 0.99999774 0.999995   0.9999933  0.9999931  0.9999893\n",
      " 0.9999325  0.9997073  0.99774206]\n"
     ]
    },
    {
     "name": "stderr",
     "output_type": "stream",
     "text": [
      "c:\\users\\mk5n2\\appdata\\local\\continuum\\anaconda3\\envs\\maskrcnn\\lib\\site-packages\\skimage\\transform\\_warps.py:110: UserWarning: Anti-aliasing will be enabled by default in skimage 0.15 to avoid aliasing artifacts when down-sampling images.\n",
      "  warn(\"Anti-aliasing will be enabled by default in skimage 0.15 to \"\n"
     ]
    },
    {
     "name": "stdout",
     "output_type": "stream",
     "text": [
      "6  objects matches\n",
      "9 pred match\n",
      "10 total ground truth\n",
      "[ 5.  7.  6.  9.  0. -1. -1.  4. -1.]\n",
      "[0.99999905 0.99999726 0.9999943  0.9999883  0.9999865  0.99998474\n",
      " 0.99997616 0.9999298  0.9973853 ]\n"
     ]
    },
    {
     "name": "stderr",
     "output_type": "stream",
     "text": [
      "c:\\users\\mk5n2\\appdata\\local\\continuum\\anaconda3\\envs\\maskrcnn\\lib\\site-packages\\skimage\\transform\\_warps.py:110: UserWarning: Anti-aliasing will be enabled by default in skimage 0.15 to avoid aliasing artifacts when down-sampling images.\n",
      "  warn(\"Anti-aliasing will be enabled by default in skimage 0.15 to \"\n"
     ]
    },
    {
     "name": "stdout",
     "output_type": "stream",
     "text": [
      "7  objects matches\n",
      "9 pred match\n",
      "10 total ground truth\n",
      "[ 5.  9.  8.  7.  6. -1.  2.  4. -1.]\n",
      "[0.99999833 0.9999981  0.9999924  0.9999913  0.9999857  0.99995995\n",
      " 0.9999509  0.99990416 0.9977233 ]\n"
     ]
    },
    {
     "name": "stderr",
     "output_type": "stream",
     "text": [
      "c:\\users\\mk5n2\\appdata\\local\\continuum\\anaconda3\\envs\\maskrcnn\\lib\\site-packages\\skimage\\transform\\_warps.py:110: UserWarning: Anti-aliasing will be enabled by default in skimage 0.15 to avoid aliasing artifacts when down-sampling images.\n",
      "  warn(\"Anti-aliasing will be enabled by default in skimage 0.15 to \"\n"
     ]
    },
    {
     "name": "stdout",
     "output_type": "stream",
     "text": [
      "8  objects matches\n",
      "9 pred match\n",
      "10 total ground truth\n",
      "[ 6.  5.  9.  7.  8.  2. -1.  4.  0.]\n",
      "[0.9999994  0.9999944  0.9999938  0.9999927  0.9999882  0.99998355\n",
      " 0.9999832  0.99995875 0.99001825]\n"
     ]
    },
    {
     "name": "stderr",
     "output_type": "stream",
     "text": [
      "c:\\users\\mk5n2\\appdata\\local\\continuum\\anaconda3\\envs\\maskrcnn\\lib\\site-packages\\skimage\\transform\\_warps.py:110: UserWarning: Anti-aliasing will be enabled by default in skimage 0.15 to avoid aliasing artifacts when down-sampling images.\n",
      "  warn(\"Anti-aliasing will be enabled by default in skimage 0.15 to \"\n"
     ]
    },
    {
     "name": "stdout",
     "output_type": "stream",
     "text": [
      "8  objects matches\n",
      "9 pred match\n",
      "10 total ground truth\n",
      "[ 5.  8.  3.  6.  7.  9.  4.  2. -1.]\n",
      "[0.9999989  0.9999951  0.99998987 0.9999882  0.99998164 0.9999777\n",
      " 0.9999722  0.9999713  0.9785703 ]\n"
     ]
    },
    {
     "name": "stderr",
     "output_type": "stream",
     "text": [
      "c:\\users\\mk5n2\\appdata\\local\\continuum\\anaconda3\\envs\\maskrcnn\\lib\\site-packages\\skimage\\transform\\_warps.py:110: UserWarning: Anti-aliasing will be enabled by default in skimage 0.15 to avoid aliasing artifacts when down-sampling images.\n",
      "  warn(\"Anti-aliasing will be enabled by default in skimage 0.15 to \"\n"
     ]
    },
    {
     "name": "stdout",
     "output_type": "stream",
     "text": [
      "7  objects matches\n",
      "11 pred match\n",
      "10 total ground truth\n",
      "[ 6.  9.  7. -1. -1.  4.  2.  8.  0. -1. -1.]\n",
      "[0.9999976  0.99999607 0.99998534 0.99998474 0.99997044 0.999936\n",
      " 0.99992394 0.9997954  0.9929838  0.92017937 0.78357196]\n"
     ]
    },
    {
     "name": "stderr",
     "output_type": "stream",
     "text": [
      "c:\\users\\mk5n2\\appdata\\local\\continuum\\anaconda3\\envs\\maskrcnn\\lib\\site-packages\\skimage\\transform\\_warps.py:110: UserWarning: Anti-aliasing will be enabled by default in skimage 0.15 to avoid aliasing artifacts when down-sampling images.\n",
      "  warn(\"Anti-aliasing will be enabled by default in skimage 0.15 to \"\n"
     ]
    },
    {
     "name": "stdout",
     "output_type": "stream",
     "text": [
      "8  objects matches\n",
      "10 pred match\n",
      "12 total ground truth\n",
      "[ 5. -1.  7.  6.  9.  8.  2. -1.  4.  0.]\n",
      "[0.99999976 0.9999949  0.99999297 0.9999908  0.9999714  0.99996626\n",
      " 0.999902   0.9998307  0.9996307  0.9826424 ]\n"
     ]
    },
    {
     "name": "stderr",
     "output_type": "stream",
     "text": [
      "c:\\users\\mk5n2\\appdata\\local\\continuum\\anaconda3\\envs\\maskrcnn\\lib\\site-packages\\skimage\\transform\\_warps.py:110: UserWarning: Anti-aliasing will be enabled by default in skimage 0.15 to avoid aliasing artifacts when down-sampling images.\n",
      "  warn(\"Anti-aliasing will be enabled by default in skimage 0.15 to \"\n"
     ]
    },
    {
     "name": "stdout",
     "output_type": "stream",
     "text": [
      "5  objects matches\n",
      "11 pred match\n",
      "12 total ground truth\n",
      "[ 5. 10.  9. -1. -1. -1. -1.  4. -1. -1.  0.]\n",
      "[0.99999917 0.99999535 0.9999906  0.9999893  0.9999814  0.99998105\n",
      " 0.999969   0.99990606 0.99981886 0.98672116 0.96617347]\n"
     ]
    },
    {
     "name": "stderr",
     "output_type": "stream",
     "text": [
      "c:\\users\\mk5n2\\appdata\\local\\continuum\\anaconda3\\envs\\maskrcnn\\lib\\site-packages\\skimage\\transform\\_warps.py:110: UserWarning: Anti-aliasing will be enabled by default in skimage 0.15 to avoid aliasing artifacts when down-sampling images.\n",
      "  warn(\"Anti-aliasing will be enabled by default in skimage 0.15 to \"\n"
     ]
    },
    {
     "name": "stdout",
     "output_type": "stream",
     "text": [
      "4  objects matches\n",
      "11 pred match\n",
      "12 total ground truth\n",
      "[ 5. -1.  8.  7.  6. -1. -1. -1. -1. -1. -1.]\n",
      "[0.9999993  0.99998903 0.9999832  0.9999825  0.9999753  0.9999654\n",
      " 0.9999465  0.999938   0.9994974  0.9965149  0.9544391 ]\n"
     ]
    },
    {
     "name": "stderr",
     "output_type": "stream",
     "text": [
      "c:\\users\\mk5n2\\appdata\\local\\continuum\\anaconda3\\envs\\maskrcnn\\lib\\site-packages\\skimage\\transform\\_warps.py:110: UserWarning: Anti-aliasing will be enabled by default in skimage 0.15 to avoid aliasing artifacts when down-sampling images.\n",
      "  warn(\"Anti-aliasing will be enabled by default in skimage 0.15 to \"\n"
     ]
    },
    {
     "name": "stdout",
     "output_type": "stream",
     "text": [
      "6  objects matches\n",
      "11 pred match\n",
      "11 total ground truth\n",
      "[ 6.  7.  8. -1.  9. -1.  2.  4. -1. -1. -1.]\n",
      "[0.99999917 0.9999931  0.999992   0.9999918  0.9999695  0.9999554\n",
      " 0.99989676 0.9996264  0.9972475  0.9933209  0.96193045]\n"
     ]
    },
    {
     "name": "stderr",
     "output_type": "stream",
     "text": [
      "c:\\users\\mk5n2\\appdata\\local\\continuum\\anaconda3\\envs\\maskrcnn\\lib\\site-packages\\skimage\\transform\\_warps.py:110: UserWarning: Anti-aliasing will be enabled by default in skimage 0.15 to avoid aliasing artifacts when down-sampling images.\n",
      "  warn(\"Anti-aliasing will be enabled by default in skimage 0.15 to \"\n"
     ]
    },
    {
     "name": "stdout",
     "output_type": "stream",
     "text": [
      "7  objects matches\n",
      "11 pred match\n",
      "12 total ground truth\n",
      "[ 5. 11.  6. -1.  8.  7.  2.  4. -1. -1. -1.]\n",
      "[0.99999917 0.9999938  0.9999937  0.9999862  0.999977   0.9999727\n",
      " 0.9999163  0.9996474  0.9885415  0.9880173  0.94592315]\n"
     ]
    },
    {
     "name": "stderr",
     "output_type": "stream",
     "text": [
      "c:\\users\\mk5n2\\appdata\\local\\continuum\\anaconda3\\envs\\maskrcnn\\lib\\site-packages\\skimage\\transform\\_warps.py:110: UserWarning: Anti-aliasing will be enabled by default in skimage 0.15 to avoid aliasing artifacts when down-sampling images.\n",
      "  warn(\"Anti-aliasing will be enabled by default in skimage 0.15 to \"\n"
     ]
    },
    {
     "name": "stdout",
     "output_type": "stream",
     "text": [
      "7  objects matches\n",
      "13 pred match\n",
      "12 total ground truth\n",
      "[ 6.  7.  8.  5.  9. -1.  2.  4. -1. -1. -1. -1. -1.]\n",
      "[0.9999987  0.99999726 0.9999883  0.9999865  0.99998295 0.99996316\n",
      " 0.99992347 0.9998709  0.9995815  0.9752582  0.9705712  0.8610287\n",
      " 0.6906476 ]\n"
     ]
    },
    {
     "name": "stderr",
     "output_type": "stream",
     "text": [
      "c:\\users\\mk5n2\\appdata\\local\\continuum\\anaconda3\\envs\\maskrcnn\\lib\\site-packages\\skimage\\transform\\_warps.py:110: UserWarning: Anti-aliasing will be enabled by default in skimage 0.15 to avoid aliasing artifacts when down-sampling images.\n",
      "  warn(\"Anti-aliasing will be enabled by default in skimage 0.15 to \"\n"
     ]
    },
    {
     "name": "stdout",
     "output_type": "stream",
     "text": [
      "8  objects matches\n",
      "14 pred match\n",
      "12 total ground truth\n",
      "[ 6.  7. -1.  8.  2.  5. -1.  3. 11. -1. 10. -1. -1. -1.]\n",
      "[0.9999964  0.99999607 0.99999046 0.9999894  0.9999801  0.9999602\n",
      " 0.99995065 0.9999442  0.99993    0.99594206 0.9830071  0.97593284\n",
      " 0.89726025 0.8641347 ]\n"
     ]
    },
    {
     "name": "stderr",
     "output_type": "stream",
     "text": [
      "c:\\users\\mk5n2\\appdata\\local\\continuum\\anaconda3\\envs\\maskrcnn\\lib\\site-packages\\skimage\\transform\\_warps.py:110: UserWarning: Anti-aliasing will be enabled by default in skimage 0.15 to avoid aliasing artifacts when down-sampling images.\n",
      "  warn(\"Anti-aliasing will be enabled by default in skimage 0.15 to \"\n"
     ]
    },
    {
     "name": "stdout",
     "output_type": "stream",
     "text": [
      "8  objects matches\n",
      "13 pred match\n",
      "12 total ground truth\n",
      "[ 5.  7.  8.  9.  4. -1.  6. -1. 11.  3. -1. -1. -1.]\n",
      "[0.999995   0.9999919  0.9999893  0.9999888  0.9999862  0.9999397\n",
      " 0.9999201  0.9996822  0.9996413  0.9995453  0.99665856 0.988566\n",
      " 0.7800279 ]\n"
     ]
    },
    {
     "name": "stderr",
     "output_type": "stream",
     "text": [
      "c:\\users\\mk5n2\\appdata\\local\\continuum\\anaconda3\\envs\\maskrcnn\\lib\\site-packages\\skimage\\transform\\_warps.py:110: UserWarning: Anti-aliasing will be enabled by default in skimage 0.15 to avoid aliasing artifacts when down-sampling images.\n",
      "  warn(\"Anti-aliasing will be enabled by default in skimage 0.15 to \"\n"
     ]
    },
    {
     "name": "stdout",
     "output_type": "stream",
     "text": [
      "8  objects matches\n",
      "13 pred match\n",
      "12 total ground truth\n",
      "[ 6.  5. 10. 11.  9.  2. -1.  4. -1. -1.  7. -1. -1.]\n",
      "[0.99999774 0.99999475 0.9999845  0.99998236 0.99997795 0.99997556\n",
      " 0.9997104  0.99856806 0.9984341  0.994279   0.99231696 0.9853559\n",
      " 0.8402335 ]\n"
     ]
    },
    {
     "name": "stderr",
     "output_type": "stream",
     "text": [
      "c:\\users\\mk5n2\\appdata\\local\\continuum\\anaconda3\\envs\\maskrcnn\\lib\\site-packages\\skimage\\transform\\_warps.py:110: UserWarning: Anti-aliasing will be enabled by default in skimage 0.15 to avoid aliasing artifacts when down-sampling images.\n",
      "  warn(\"Anti-aliasing will be enabled by default in skimage 0.15 to \"\n"
     ]
    },
    {
     "name": "stdout",
     "output_type": "stream",
     "text": [
      "7  objects matches\n",
      "11 pred match\n",
      "12 total ground truth\n",
      "[ 7.  9. 11. 10.  6.  3. -1. -1.  5. -1. -1.]\n",
      "[0.9999976  0.99999404 0.9999933  0.9999906  0.99998987 0.99997294\n",
      " 0.99991155 0.99981326 0.9996063  0.99890125 0.99839693]\n"
     ]
    },
    {
     "name": "stderr",
     "output_type": "stream",
     "text": [
      "c:\\users\\mk5n2\\appdata\\local\\continuum\\anaconda3\\envs\\maskrcnn\\lib\\site-packages\\skimage\\transform\\_warps.py:110: UserWarning: Anti-aliasing will be enabled by default in skimage 0.15 to avoid aliasing artifacts when down-sampling images.\n",
      "  warn(\"Anti-aliasing will be enabled by default in skimage 0.15 to \"\n"
     ]
    },
    {
     "name": "stdout",
     "output_type": "stream",
     "text": [
      "9  objects matches\n",
      "13 pred match\n",
      "11 total ground truth\n",
      "[ 8.  4.  9.  6.  7. -1.  2.  1. 10.  5. -1. -1. -1.]\n",
      "[0.9999975  0.9999974  0.9999951  0.9999927  0.99999046 0.9999894\n",
      " 0.9999846  0.9999192  0.9998789  0.9997867  0.999332   0.6362111\n",
      " 0.5407471 ]\n"
     ]
    },
    {
     "name": "stderr",
     "output_type": "stream",
     "text": [
      "c:\\users\\mk5n2\\appdata\\local\\continuum\\anaconda3\\envs\\maskrcnn\\lib\\site-packages\\skimage\\transform\\_warps.py:110: UserWarning: Anti-aliasing will be enabled by default in skimage 0.15 to avoid aliasing artifacts when down-sampling images.\n",
      "  warn(\"Anti-aliasing will be enabled by default in skimage 0.15 to \"\n"
     ]
    },
    {
     "name": "stdout",
     "output_type": "stream",
     "text": [
      "10  objects matches\n",
      "11 pred match\n",
      "12 total ground truth\n",
      "[ 6.  5.  7.  9.  8.  1. -1.  4.  0.  2. 10.]\n",
      "[0.9999981  0.9999938  0.9999894  0.99998426 0.99997604 0.9999541\n",
      " 0.9999323  0.99993014 0.99987876 0.99982834 0.99977094]\n"
     ]
    },
    {
     "name": "stderr",
     "output_type": "stream",
     "text": [
      "c:\\users\\mk5n2\\appdata\\local\\continuum\\anaconda3\\envs\\maskrcnn\\lib\\site-packages\\skimage\\transform\\_warps.py:110: UserWarning: Anti-aliasing will be enabled by default in skimage 0.15 to avoid aliasing artifacts when down-sampling images.\n",
      "  warn(\"Anti-aliasing will be enabled by default in skimage 0.15 to \"\n"
     ]
    },
    {
     "name": "stdout",
     "output_type": "stream",
     "text": [
      "9  objects matches\n",
      "11 pred match\n",
      "12 total ground truth\n",
      "[ 5.  8.  9.  7. -1. 10.  6.  2.  1.  0. -1.]\n",
      "[0.99999726 0.99999356 0.9999901  0.9999838  0.999979   0.9999579\n",
      " 0.99995327 0.99995327 0.9998486  0.99959284 0.999355  ]\n"
     ]
    },
    {
     "name": "stderr",
     "output_type": "stream",
     "text": [
      "c:\\users\\mk5n2\\appdata\\local\\continuum\\anaconda3\\envs\\maskrcnn\\lib\\site-packages\\skimage\\transform\\_warps.py:110: UserWarning: Anti-aliasing will be enabled by default in skimage 0.15 to avoid aliasing artifacts when down-sampling images.\n",
      "  warn(\"Anti-aliasing will be enabled by default in skimage 0.15 to \"\n"
     ]
    },
    {
     "name": "stdout",
     "output_type": "stream",
     "text": [
      "11  objects matches\n",
      "12 pred match\n",
      "12 total ground truth\n",
      "[11.  9.  6. 10.  8.  3.  4.  2.  5.  1. -1.  7.]\n",
      "[0.9999958  0.9999945  0.9999937  0.99998295 0.99997616 0.9999697\n",
      " 0.999961   0.9999598  0.99992394 0.9998721  0.9997522  0.9997105 ]\n"
     ]
    },
    {
     "name": "stderr",
     "output_type": "stream",
     "text": [
      "c:\\users\\mk5n2\\appdata\\local\\continuum\\anaconda3\\envs\\maskrcnn\\lib\\site-packages\\skimage\\transform\\_warps.py:110: UserWarning: Anti-aliasing will be enabled by default in skimage 0.15 to avoid aliasing artifacts when down-sampling images.\n",
      "  warn(\"Anti-aliasing will be enabled by default in skimage 0.15 to \"\n"
     ]
    },
    {
     "name": "stdout",
     "output_type": "stream",
     "text": [
      "9  objects matches\n",
      "12 pred match\n",
      "12 total ground truth\n",
      "[-1.  5.  9. -1. -1. 10.  8.  2.  4.  0.  1. 11.]\n",
      "[0.9999962  0.9999957  0.999995   0.99999344 0.9999914  0.99998987\n",
      " 0.99998534 0.9999411  0.9999337  0.99991477 0.9997937  0.99972004]\n"
     ]
    },
    {
     "name": "stderr",
     "output_type": "stream",
     "text": [
      "c:\\users\\mk5n2\\appdata\\local\\continuum\\anaconda3\\envs\\maskrcnn\\lib\\site-packages\\skimage\\transform\\_warps.py:110: UserWarning: Anti-aliasing will be enabled by default in skimage 0.15 to avoid aliasing artifacts when down-sampling images.\n",
      "  warn(\"Anti-aliasing will be enabled by default in skimage 0.15 to \"\n"
     ]
    },
    {
     "name": "stdout",
     "output_type": "stream",
     "text": [
      "10  objects matches\n",
      "14 pred match\n",
      "12 total ground truth\n",
      "[ 9. 10.  7.  6. -1.  0.  2.  8.  5.  1. -1. -1. 11. -1.]\n",
      "[0.9999895  0.9999846  0.999984   0.9999683  0.9999608  0.9999032\n",
      " 0.99987805 0.9998653  0.9998282  0.99981886 0.97505456 0.970678\n",
      " 0.9638256  0.8975448 ]\n"
     ]
    },
    {
     "name": "stderr",
     "output_type": "stream",
     "text": [
      "c:\\users\\mk5n2\\appdata\\local\\continuum\\anaconda3\\envs\\maskrcnn\\lib\\site-packages\\skimage\\transform\\_warps.py:110: UserWarning: Anti-aliasing will be enabled by default in skimage 0.15 to avoid aliasing artifacts when down-sampling images.\n",
      "  warn(\"Anti-aliasing will be enabled by default in skimage 0.15 to \"\n"
     ]
    },
    {
     "name": "stdout",
     "output_type": "stream",
     "text": [
      "11  objects matches\n",
      "12 pred match\n",
      "12 total ground truth\n",
      "[ 9.  5.  6.  7.  3.  0.  2.  8. 10.  1.  4. -1.]\n",
      "[0.9999945  0.9999945  0.9999896  0.99998665 0.99997294 0.99996555\n",
      " 0.99995637 0.99995565 0.99986374 0.9998338  0.9996575  0.73664606]\n"
     ]
    },
    {
     "name": "stderr",
     "output_type": "stream",
     "text": [
      "c:\\users\\mk5n2\\appdata\\local\\continuum\\anaconda3\\envs\\maskrcnn\\lib\\site-packages\\skimage\\transform\\_warps.py:110: UserWarning: Anti-aliasing will be enabled by default in skimage 0.15 to avoid aliasing artifacts when down-sampling images.\n",
      "  warn(\"Anti-aliasing will be enabled by default in skimage 0.15 to \"\n"
     ]
    },
    {
     "name": "stdout",
     "output_type": "stream",
     "text": [
      "8  objects matches\n",
      "13 pred match\n",
      "12 total ground truth\n",
      "[ 5. -1.  9.  7.  6. 10.  2.  8. -1. -1. -1.  4. -1.]\n",
      "[0.99999833 0.9999962  0.9999945  0.99997425 0.9999536  0.9999459\n",
      " 0.99992335 0.9999218  0.9998975  0.9996823  0.9992912  0.9974788\n",
      " 0.54766834]\n"
     ]
    },
    {
     "name": "stderr",
     "output_type": "stream",
     "text": [
      "c:\\users\\mk5n2\\appdata\\local\\continuum\\anaconda3\\envs\\maskrcnn\\lib\\site-packages\\skimage\\transform\\_warps.py:110: UserWarning: Anti-aliasing will be enabled by default in skimage 0.15 to avoid aliasing artifacts when down-sampling images.\n",
      "  warn(\"Anti-aliasing will be enabled by default in skimage 0.15 to \"\n"
     ]
    },
    {
     "name": "stdout",
     "output_type": "stream",
     "text": [
      "8  objects matches\n",
      "12 pred match\n",
      "12 total ground truth\n",
      "[ 8. -1.  5.  6.  9. 11.  4.  7.  0. -1. -1. -1.]\n",
      "[0.9999939  0.9999738  0.99996734 0.9999491  0.99994504 0.99992406\n",
      " 0.9998838  0.99974924 0.9995957  0.99951303 0.9884843  0.98749346]\n"
     ]
    },
    {
     "name": "stderr",
     "output_type": "stream",
     "text": [
      "c:\\users\\mk5n2\\appdata\\local\\continuum\\anaconda3\\envs\\maskrcnn\\lib\\site-packages\\skimage\\transform\\_warps.py:110: UserWarning: Anti-aliasing will be enabled by default in skimage 0.15 to avoid aliasing artifacts when down-sampling images.\n",
      "  warn(\"Anti-aliasing will be enabled by default in skimage 0.15 to \"\n"
     ]
    },
    {
     "name": "stdout",
     "output_type": "stream",
     "text": [
      "9  objects matches\n",
      "12 pred match\n",
      "12 total ground truth\n",
      "[ 7.  4.  5.  2.  3.  6. -1.  8. -1.  0.  1. -1.]\n",
      "[0.9999895  0.99998283 0.9999777  0.99997556 0.99997246 0.999949\n",
      " 0.9998832  0.9996846  0.99931216 0.99922764 0.99889815 0.9860912 ]\n"
     ]
    },
    {
     "name": "stderr",
     "output_type": "stream",
     "text": [
      "c:\\users\\mk5n2\\appdata\\local\\continuum\\anaconda3\\envs\\maskrcnn\\lib\\site-packages\\skimage\\transform\\_warps.py:110: UserWarning: Anti-aliasing will be enabled by default in skimage 0.15 to avoid aliasing artifacts when down-sampling images.\n",
      "  warn(\"Anti-aliasing will be enabled by default in skimage 0.15 to \"\n"
     ]
    },
    {
     "name": "stdout",
     "output_type": "stream",
     "text": [
      "7  objects matches\n",
      "13 pred match\n",
      "12 total ground truth\n",
      "[ 7.  2.  4. -1.  6.  8. -1.  9.  5. -1. -1. -1. -1.]\n",
      "[0.99998486 0.9999682  0.9999641  0.9999554  0.9999045  0.9998635\n",
      " 0.9997008  0.9996846  0.9996747  0.9965403  0.99602675 0.9922774\n",
      " 0.786483  ]\n"
     ]
    },
    {
     "name": "stderr",
     "output_type": "stream",
     "text": [
      "c:\\users\\mk5n2\\appdata\\local\\continuum\\anaconda3\\envs\\maskrcnn\\lib\\site-packages\\skimage\\transform\\_warps.py:110: UserWarning: Anti-aliasing will be enabled by default in skimage 0.15 to avoid aliasing artifacts when down-sampling images.\n",
      "  warn(\"Anti-aliasing will be enabled by default in skimage 0.15 to \"\n"
     ]
    },
    {
     "name": "stdout",
     "output_type": "stream",
     "text": [
      "5  objects matches\n",
      "13 pred match\n",
      "11 total ground truth\n",
      "[ 3. -1.  9.  1. -1. -1.  7. -1.  6. -1. -1. -1. -1.]\n",
      "[0.9999958  0.9999833  0.9999641  0.99990726 0.99986076 0.99985754\n",
      " 0.9998123  0.99929285 0.99409664 0.9898913  0.9894471  0.9794496\n",
      " 0.88507444]\n"
     ]
    },
    {
     "name": "stderr",
     "output_type": "stream",
     "text": [
      "c:\\users\\mk5n2\\appdata\\local\\continuum\\anaconda3\\envs\\maskrcnn\\lib\\site-packages\\skimage\\transform\\_warps.py:110: UserWarning: Anti-aliasing will be enabled by default in skimage 0.15 to avoid aliasing artifacts when down-sampling images.\n",
      "  warn(\"Anti-aliasing will be enabled by default in skimage 0.15 to \"\n"
     ]
    },
    {
     "name": "stdout",
     "output_type": "stream",
     "text": [
      "6  objects matches\n",
      "13 pred match\n",
      "11 total ground truth\n",
      "[-1.  4.  7.  1. 10. -1.  6. -1. -1.  9. -1. -1. -1.]\n",
      "[0.9999833  0.9999759  0.9999757  0.99993765 0.9999101  0.99985015\n",
      " 0.9997603  0.9981357  0.99741673 0.9967932  0.99035585 0.98465145\n",
      " 0.5706817 ]\n"
     ]
    },
    {
     "name": "stderr",
     "output_type": "stream",
     "text": [
      "c:\\users\\mk5n2\\appdata\\local\\continuum\\anaconda3\\envs\\maskrcnn\\lib\\site-packages\\skimage\\transform\\_warps.py:110: UserWarning: Anti-aliasing will be enabled by default in skimage 0.15 to avoid aliasing artifacts when down-sampling images.\n",
      "  warn(\"Anti-aliasing will be enabled by default in skimage 0.15 to \"\n"
     ]
    },
    {
     "name": "stdout",
     "output_type": "stream",
     "text": [
      "5  objects matches\n",
      "12 pred match\n",
      "11 total ground truth\n",
      "[ 8.  9.  4. -1.  1.  7. -1. -1. -1. -1. -1. -1.]\n",
      "[0.9999912  0.99997365 0.9999635  0.99992585 0.99992406 0.9998847\n",
      " 0.99962604 0.9992872  0.99855834 0.99721825 0.97758305 0.9716555 ]\n"
     ]
    },
    {
     "name": "stderr",
     "output_type": "stream",
     "text": [
      "c:\\users\\mk5n2\\appdata\\local\\continuum\\anaconda3\\envs\\maskrcnn\\lib\\site-packages\\skimage\\transform\\_warps.py:110: UserWarning: Anti-aliasing will be enabled by default in skimage 0.15 to avoid aliasing artifacts when down-sampling images.\n",
      "  warn(\"Anti-aliasing will be enabled by default in skimage 0.15 to \"\n"
     ]
    },
    {
     "name": "stdout",
     "output_type": "stream",
     "text": [
      "5  objects matches\n",
      "12 pred match\n",
      "11 total ground truth\n",
      "[-1.  4. 10.  8.  7.  1. -1. -1. -1. -1. -1. -1.]\n",
      "[0.9999937  0.9999895  0.99997294 0.99996924 0.9999502  0.99991894\n",
      " 0.999464   0.99877805 0.998461   0.9981229  0.99749976 0.98274577]\n"
     ]
    },
    {
     "name": "stderr",
     "output_type": "stream",
     "text": [
      "c:\\users\\mk5n2\\appdata\\local\\continuum\\anaconda3\\envs\\maskrcnn\\lib\\site-packages\\skimage\\transform\\_warps.py:110: UserWarning: Anti-aliasing will be enabled by default in skimage 0.15 to avoid aliasing artifacts when down-sampling images.\n",
      "  warn(\"Anti-aliasing will be enabled by default in skimage 0.15 to \"\n"
     ]
    },
    {
     "name": "stdout",
     "output_type": "stream",
     "text": [
      "5  objects matches\n",
      "13 pred match\n",
      "12 total ground truth\n",
      "[ 9. -1. -1. 10. -1.  3.  5. -1. -1. -1.  0. -1. -1.]\n",
      "[0.9999937  0.99999225 0.99998045 0.9999783  0.9999374  0.9999167\n",
      " 0.99989593 0.9998381  0.99975544 0.9997478  0.9995167  0.99885607\n",
      " 0.974736  ]\n"
     ]
    },
    {
     "name": "stderr",
     "output_type": "stream",
     "text": [
      "c:\\users\\mk5n2\\appdata\\local\\continuum\\anaconda3\\envs\\maskrcnn\\lib\\site-packages\\skimage\\transform\\_warps.py:110: UserWarning: Anti-aliasing will be enabled by default in skimage 0.15 to avoid aliasing artifacts when down-sampling images.\n",
      "  warn(\"Anti-aliasing will be enabled by default in skimage 0.15 to \"\n"
     ]
    },
    {
     "name": "stdout",
     "output_type": "stream",
     "text": [
      "6  objects matches\n",
      "12 pred match\n",
      "12 total ground truth\n",
      "[-1. 11. -1.  9.  6. -1. 10. -1.  2.  1. -1. -1.]\n",
      "[0.9999908  0.9999814  0.99998    0.99995816 0.9999491  0.9999006\n",
      " 0.99986684 0.9997944  0.9997725  0.999696   0.9990759  0.9492084 ]\n"
     ]
    },
    {
     "name": "stderr",
     "output_type": "stream",
     "text": [
      "c:\\users\\mk5n2\\appdata\\local\\continuum\\anaconda3\\envs\\maskrcnn\\lib\\site-packages\\skimage\\transform\\_warps.py:110: UserWarning: Anti-aliasing will be enabled by default in skimage 0.15 to avoid aliasing artifacts when down-sampling images.\n",
      "  warn(\"Anti-aliasing will be enabled by default in skimage 0.15 to \"\n"
     ]
    },
    {
     "name": "stdout",
     "output_type": "stream",
     "text": [
      "8  objects matches\n",
      "11 pred match\n",
      "12 total ground truth\n",
      "[ 3.  5.  7. 10.  8. -1.  1. -1.  6.  2. -1.]\n",
      "[0.9999877  0.9999782  0.9999745  0.999951   0.9999453  0.9998667\n",
      " 0.9998586  0.9998338  0.9994093  0.99938464 0.9956201 ]\n"
     ]
    },
    {
     "name": "stderr",
     "output_type": "stream",
     "text": [
      "c:\\users\\mk5n2\\appdata\\local\\continuum\\anaconda3\\envs\\maskrcnn\\lib\\site-packages\\skimage\\transform\\_warps.py:110: UserWarning: Anti-aliasing will be enabled by default in skimage 0.15 to avoid aliasing artifacts when down-sampling images.\n",
      "  warn(\"Anti-aliasing will be enabled by default in skimage 0.15 to \"\n"
     ]
    },
    {
     "name": "stdout",
     "output_type": "stream",
     "text": [
      "10  objects matches\n",
      "11 pred match\n",
      "11 total ground truth\n",
      "[ 5.  8.  3.  7. 10.  9.  2. -1.  6.  1.  0.]\n",
      "[0.9999958  0.9999831  0.99995923 0.99995136 0.99988234 0.9998393\n",
      " 0.99981576 0.9993474  0.9991974  0.99443084 0.99083763]\n"
     ]
    },
    {
     "name": "stderr",
     "output_type": "stream",
     "text": [
      "c:\\users\\mk5n2\\appdata\\local\\continuum\\anaconda3\\envs\\maskrcnn\\lib\\site-packages\\skimage\\transform\\_warps.py:110: UserWarning: Anti-aliasing will be enabled by default in skimage 0.15 to avoid aliasing artifacts when down-sampling images.\n",
      "  warn(\"Anti-aliasing will be enabled by default in skimage 0.15 to \"\n"
     ]
    },
    {
     "name": "stdout",
     "output_type": "stream",
     "text": [
      "8  objects matches\n",
      "11 pred match\n",
      "11 total ground truth\n",
      "[ 5. -1.  8. 10.  9. -1.  7.  2.  3. -1.  1.]\n",
      "[0.9999932  0.99998415 0.9999802  0.9999745  0.999974   0.9999088\n",
      " 0.9999052  0.99983776 0.9997385  0.99942267 0.9985941 ]\n"
     ]
    },
    {
     "name": "stderr",
     "output_type": "stream",
     "text": [
      "c:\\users\\mk5n2\\appdata\\local\\continuum\\anaconda3\\envs\\maskrcnn\\lib\\site-packages\\skimage\\transform\\_warps.py:110: UserWarning: Anti-aliasing will be enabled by default in skimage 0.15 to avoid aliasing artifacts when down-sampling images.\n",
      "  warn(\"Anti-aliasing will be enabled by default in skimage 0.15 to \"\n"
     ]
    },
    {
     "name": "stdout",
     "output_type": "stream",
     "text": [
      "9  objects matches\n",
      "11 pred match\n",
      "11 total ground truth\n",
      "[ 5.  7. -1. 10.  8.  2.  9.  3.  1.  0. -1.]\n",
      "[0.99998665 0.9999865  0.99998534 0.99997497 0.9999702  0.99996376\n",
      " 0.9999503  0.9997316  0.999653   0.9995977  0.99958295]\n"
     ]
    },
    {
     "name": "stderr",
     "output_type": "stream",
     "text": [
      "c:\\users\\mk5n2\\appdata\\local\\continuum\\anaconda3\\envs\\maskrcnn\\lib\\site-packages\\skimage\\transform\\_warps.py:110: UserWarning: Anti-aliasing will be enabled by default in skimage 0.15 to avoid aliasing artifacts when down-sampling images.\n",
      "  warn(\"Anti-aliasing will be enabled by default in skimage 0.15 to \"\n"
     ]
    },
    {
     "name": "stdout",
     "output_type": "stream",
     "text": [
      "8  objects matches\n",
      "11 pred match\n",
      "11 total ground truth\n",
      "[ 8.  7.  6. -1.  3. -1. 10.  1. -1.  2.  4.]\n",
      "[0.9999896  0.99998784 0.9999875  0.9999838  0.999969   0.99996746\n",
      " 0.99994683 0.9998838  0.9997737  0.9996835  0.81824684]\n"
     ]
    },
    {
     "name": "stderr",
     "output_type": "stream",
     "text": [
      "c:\\users\\mk5n2\\appdata\\local\\continuum\\anaconda3\\envs\\maskrcnn\\lib\\site-packages\\skimage\\transform\\_warps.py:110: UserWarning: Anti-aliasing will be enabled by default in skimage 0.15 to avoid aliasing artifacts when down-sampling images.\n",
      "  warn(\"Anti-aliasing will be enabled by default in skimage 0.15 to \"\n"
     ]
    },
    {
     "name": "stdout",
     "output_type": "stream",
     "text": [
      "8  objects matches\n",
      "10 pred match\n",
      "11 total ground truth\n",
      "[ 4.  6.  2.  5.  7.  9. 10. -1. -1.  0.]\n",
      "[0.999997   0.999987   0.99997604 0.9999739  0.9999676  0.9999579\n",
      " 0.9998952  0.99989486 0.99986124 0.99955803]\n"
     ]
    },
    {
     "name": "stderr",
     "output_type": "stream",
     "text": [
      "c:\\users\\mk5n2\\appdata\\local\\continuum\\anaconda3\\envs\\maskrcnn\\lib\\site-packages\\skimage\\transform\\_warps.py:110: UserWarning: Anti-aliasing will be enabled by default in skimage 0.15 to avoid aliasing artifacts when down-sampling images.\n",
      "  warn(\"Anti-aliasing will be enabled by default in skimage 0.15 to \"\n"
     ]
    },
    {
     "name": "stdout",
     "output_type": "stream",
     "text": [
      "9  objects matches\n",
      "12 pred match\n",
      "11 total ground truth\n",
      "[ 5.  3.  9. 10.  1.  7.  8. -1. -1.  2.  4. -1.]\n",
      "[0.999998   0.9999857  0.99998474 0.9999701  0.9999697  0.99995863\n",
      " 0.99993634 0.99967253 0.999561   0.9993636  0.8985001  0.61496466]\n"
     ]
    },
    {
     "name": "stderr",
     "output_type": "stream",
     "text": [
      "c:\\users\\mk5n2\\appdata\\local\\continuum\\anaconda3\\envs\\maskrcnn\\lib\\site-packages\\skimage\\transform\\_warps.py:110: UserWarning: Anti-aliasing will be enabled by default in skimage 0.15 to avoid aliasing artifacts when down-sampling images.\n",
      "  warn(\"Anti-aliasing will be enabled by default in skimage 0.15 to \"\n"
     ]
    },
    {
     "name": "stdout",
     "output_type": "stream",
     "text": [
      "7  objects matches\n",
      "11 pred match\n",
      "11 total ground truth\n",
      "[ 3.  5.  9.  8.  2.  7. -1.  1. -1. -1. -1.]\n",
      "[0.9999763  0.9999665  0.9999496  0.99994373 0.99993694 0.9998797\n",
      " 0.999859   0.99971324 0.9996711  0.99882954 0.9944232 ]\n"
     ]
    },
    {
     "name": "stderr",
     "output_type": "stream",
     "text": [
      "c:\\users\\mk5n2\\appdata\\local\\continuum\\anaconda3\\envs\\maskrcnn\\lib\\site-packages\\skimage\\transform\\_warps.py:110: UserWarning: Anti-aliasing will be enabled by default in skimage 0.15 to avoid aliasing artifacts when down-sampling images.\n",
      "  warn(\"Anti-aliasing will be enabled by default in skimage 0.15 to \"\n"
     ]
    },
    {
     "name": "stdout",
     "output_type": "stream",
     "text": [
      "9  objects matches\n",
      "11 pred match\n",
      "11 total ground truth\n",
      "[ 5.  3. 10.  8.  0.  2.  7.  6. -1.  1. -1.]\n",
      "[0.9999994  0.99998796 0.9999852  0.99994624 0.9999249  0.99992096\n",
      " 0.99984443 0.999813   0.9996158  0.99951994 0.9988298 ]\n"
     ]
    },
    {
     "name": "stderr",
     "output_type": "stream",
     "text": [
      "c:\\users\\mk5n2\\appdata\\local\\continuum\\anaconda3\\envs\\maskrcnn\\lib\\site-packages\\skimage\\transform\\_warps.py:110: UserWarning: Anti-aliasing will be enabled by default in skimage 0.15 to avoid aliasing artifacts when down-sampling images.\n",
      "  warn(\"Anti-aliasing will be enabled by default in skimage 0.15 to \"\n"
     ]
    },
    {
     "name": "stdout",
     "output_type": "stream",
     "text": [
      "8  objects matches\n",
      "10 pred match\n",
      "11 total ground truth\n",
      "[ 5.  3.  2. 10. -1.  0.  8. -1.  1.  7.]\n",
      "[0.99999833 0.99998105 0.9999646  0.99994993 0.99993646 0.9999198\n",
      " 0.9997584  0.99954337 0.9994678  0.99885523]\n"
     ]
    },
    {
     "name": "stderr",
     "output_type": "stream",
     "text": [
      "c:\\users\\mk5n2\\appdata\\local\\continuum\\anaconda3\\envs\\maskrcnn\\lib\\site-packages\\skimage\\transform\\_warps.py:110: UserWarning: Anti-aliasing will be enabled by default in skimage 0.15 to avoid aliasing artifacts when down-sampling images.\n",
      "  warn(\"Anti-aliasing will be enabled by default in skimage 0.15 to \"\n"
     ]
    },
    {
     "name": "stdout",
     "output_type": "stream",
     "text": [
      "7  objects matches\n",
      "10 pred match\n",
      "11 total ground truth\n",
      "[ 5.  3.  8. 10. -1.  2.  9. -1. -1.  1.]\n",
      "[0.9999975  0.9999695  0.99995935 0.9999236  0.99992347 0.9998971\n",
      " 0.9998648  0.99977225 0.99966145 0.99920815]\n"
     ]
    },
    {
     "name": "stderr",
     "output_type": "stream",
     "text": [
      "c:\\users\\mk5n2\\appdata\\local\\continuum\\anaconda3\\envs\\maskrcnn\\lib\\site-packages\\skimage\\transform\\_warps.py:110: UserWarning: Anti-aliasing will be enabled by default in skimage 0.15 to avoid aliasing artifacts when down-sampling images.\n",
      "  warn(\"Anti-aliasing will be enabled by default in skimage 0.15 to \"\n"
     ]
    },
    {
     "name": "stdout",
     "output_type": "stream",
     "text": [
      "4  objects matches\n",
      "10 pred match\n",
      "11 total ground truth\n",
      "[ 3. -1.  4. -1. 10. -1. -1.  6. -1. -1.]\n",
      "[0.9999907  0.99998546 0.9999845  0.99998283 0.99993336 0.9998301\n",
      " 0.99981815 0.9998023  0.9977869  0.99504673]\n"
     ]
    },
    {
     "name": "stderr",
     "output_type": "stream",
     "text": [
      "c:\\users\\mk5n2\\appdata\\local\\continuum\\anaconda3\\envs\\maskrcnn\\lib\\site-packages\\skimage\\transform\\_warps.py:110: UserWarning: Anti-aliasing will be enabled by default in skimage 0.15 to avoid aliasing artifacts when down-sampling images.\n",
      "  warn(\"Anti-aliasing will be enabled by default in skimage 0.15 to \"\n"
     ]
    },
    {
     "name": "stdout",
     "output_type": "stream",
     "text": [
      "8  objects matches\n",
      "10 pred match\n",
      "10 total ground truth\n",
      "[ 5.  8.  2.  9.  3.  6.  0. -1.  1. -1.]\n",
      "[0.9999784  0.9999232  0.9999167  0.99989176 0.99986684 0.9997009\n",
      " 0.99953306 0.9992824  0.998257   0.9978036 ]\n"
     ]
    },
    {
     "name": "stderr",
     "output_type": "stream",
     "text": [
      "c:\\users\\mk5n2\\appdata\\local\\continuum\\anaconda3\\envs\\maskrcnn\\lib\\site-packages\\skimage\\transform\\_warps.py:110: UserWarning: Anti-aliasing will be enabled by default in skimage 0.15 to avoid aliasing artifacts when down-sampling images.\n",
      "  warn(\"Anti-aliasing will be enabled by default in skimage 0.15 to \"\n"
     ]
    },
    {
     "name": "stdout",
     "output_type": "stream",
     "text": [
      "7  objects matches\n",
      "10 pred match\n",
      "10 total ground truth\n",
      "[ 8.  3.  9. -1.  2.  6. -1.  1.  5. -1.]\n",
      "[0.9999969  0.9999634  0.9999633  0.9999567  0.9999236  0.99975187\n",
      " 0.99820316 0.9976331  0.9949532  0.99158704]\n"
     ]
    },
    {
     "name": "stderr",
     "output_type": "stream",
     "text": [
      "c:\\users\\mk5n2\\appdata\\local\\continuum\\anaconda3\\envs\\maskrcnn\\lib\\site-packages\\skimage\\transform\\_warps.py:110: UserWarning: Anti-aliasing will be enabled by default in skimage 0.15 to avoid aliasing artifacts when down-sampling images.\n",
      "  warn(\"Anti-aliasing will be enabled by default in skimage 0.15 to \"\n"
     ]
    },
    {
     "name": "stdout",
     "output_type": "stream",
     "text": [
      "6  objects matches\n",
      "10 pred match\n",
      "10 total ground truth\n",
      "[ 8.  4.  2.  9. -1.  6. -1. -1.  1. -1.]\n",
      "[0.9999616  0.99995065 0.99993515 0.9999167  0.99987316 0.9992811\n",
      " 0.999148   0.9945234  0.9860848  0.73183155]\n"
     ]
    },
    {
     "name": "stderr",
     "output_type": "stream",
     "text": [
      "c:\\users\\mk5n2\\appdata\\local\\continuum\\anaconda3\\envs\\maskrcnn\\lib\\site-packages\\skimage\\transform\\_warps.py:110: UserWarning: Anti-aliasing will be enabled by default in skimage 0.15 to avoid aliasing artifacts when down-sampling images.\n",
      "  warn(\"Anti-aliasing will be enabled by default in skimage 0.15 to \"\n"
     ]
    },
    {
     "name": "stdout",
     "output_type": "stream",
     "text": [
      "5  objects matches\n",
      "8 pred match\n",
      "8 total ground truth\n",
      "[ 6. -1.  2.  7.  1. -1. -1.  5.]\n",
      "[0.9999943  0.99998784 0.9999485  0.9999248  0.99985886 0.99923635\n",
      " 0.7994177  0.772132  ]\n"
     ]
    },
    {
     "name": "stderr",
     "output_type": "stream",
     "text": [
      "c:\\users\\mk5n2\\appdata\\local\\continuum\\anaconda3\\envs\\maskrcnn\\lib\\site-packages\\skimage\\transform\\_warps.py:110: UserWarning: Anti-aliasing will be enabled by default in skimage 0.15 to avoid aliasing artifacts when down-sampling images.\n",
      "  warn(\"Anti-aliasing will be enabled by default in skimage 0.15 to \"\n"
     ]
    },
    {
     "name": "stdout",
     "output_type": "stream",
     "text": [
      "3  objects matches\n",
      "7 pred match\n",
      "7 total ground truth\n",
      "[-1. -1.  6.  1.  2. -1. -1.]\n",
      "[0.9999988  0.9999943  0.9999671  0.9998778  0.9997837  0.9940632\n",
      " 0.99367803]\n"
     ]
    },
    {
     "name": "stderr",
     "output_type": "stream",
     "text": [
      "c:\\users\\mk5n2\\appdata\\local\\continuum\\anaconda3\\envs\\maskrcnn\\lib\\site-packages\\skimage\\transform\\_warps.py:110: UserWarning: Anti-aliasing will be enabled by default in skimage 0.15 to avoid aliasing artifacts when down-sampling images.\n",
      "  warn(\"Anti-aliasing will be enabled by default in skimage 0.15 to \"\n"
     ]
    },
    {
     "name": "stdout",
     "output_type": "stream",
     "text": [
      "6  objects matches\n",
      "7 pred match\n",
      "7 total ground truth\n",
      "[ 5.  4. -1.  1.  2.  6.  0.]\n",
      "[0.9999981  0.99999475 0.99999404 0.9999547  0.9999248  0.99991167\n",
      " 0.9997291 ]\n"
     ]
    },
    {
     "name": "stderr",
     "output_type": "stream",
     "text": [
      "c:\\users\\mk5n2\\appdata\\local\\continuum\\anaconda3\\envs\\maskrcnn\\lib\\site-packages\\skimage\\transform\\_warps.py:110: UserWarning: Anti-aliasing will be enabled by default in skimage 0.15 to avoid aliasing artifacts when down-sampling images.\n",
      "  warn(\"Anti-aliasing will be enabled by default in skimage 0.15 to \"\n"
     ]
    },
    {
     "name": "stdout",
     "output_type": "stream",
     "text": [
      "3  objects matches\n",
      "7 pred match\n",
      "7 total ground truth\n",
      "[-1.  6.  4. -1.  2. -1. -1.]\n",
      "[0.9999969  0.99997723 0.9999752  0.99995065 0.9999169  0.99969673\n",
      " 0.9982747 ]\n"
     ]
    },
    {
     "name": "stderr",
     "output_type": "stream",
     "text": [
      "c:\\users\\mk5n2\\appdata\\local\\continuum\\anaconda3\\envs\\maskrcnn\\lib\\site-packages\\skimage\\transform\\_warps.py:110: UserWarning: Anti-aliasing will be enabled by default in skimage 0.15 to avoid aliasing artifacts when down-sampling images.\n",
      "  warn(\"Anti-aliasing will be enabled by default in skimage 0.15 to \"\n"
     ]
    },
    {
     "name": "stdout",
     "output_type": "stream",
     "text": [
      "4  objects matches\n",
      "8 pred match\n",
      "7 total ground truth\n",
      "[ 4.  6.  1. -1.  2. -1. -1. -1.]\n",
      "[0.99995935 0.9999547  0.9999162  0.99974424 0.9994473  0.99931\n",
      " 0.9991641  0.72073466]\n"
     ]
    },
    {
     "name": "stderr",
     "output_type": "stream",
     "text": [
      "c:\\users\\mk5n2\\appdata\\local\\continuum\\anaconda3\\envs\\maskrcnn\\lib\\site-packages\\skimage\\transform\\_warps.py:110: UserWarning: Anti-aliasing will be enabled by default in skimage 0.15 to avoid aliasing artifacts when down-sampling images.\n",
      "  warn(\"Anti-aliasing will be enabled by default in skimage 0.15 to \"\n"
     ]
    },
    {
     "name": "stdout",
     "output_type": "stream",
     "text": [
      "2  objects matches\n",
      "8 pred match\n",
      "7 total ground truth\n",
      "[ 1. -1.  6. -1. -1. -1. -1. -1.]\n",
      "[0.9999862  0.9999324  0.9998615  0.9998467  0.99984324 0.99978\n",
      " 0.99745494 0.8491867 ]\n"
     ]
    },
    {
     "name": "stderr",
     "output_type": "stream",
     "text": [
      "c:\\users\\mk5n2\\appdata\\local\\continuum\\anaconda3\\envs\\maskrcnn\\lib\\site-packages\\skimage\\transform\\_warps.py:110: UserWarning: Anti-aliasing will be enabled by default in skimage 0.15 to avoid aliasing artifacts when down-sampling images.\n",
      "  warn(\"Anti-aliasing will be enabled by default in skimage 0.15 to \"\n"
     ]
    },
    {
     "name": "stdout",
     "output_type": "stream",
     "text": [
      "4  objects matches\n",
      "8 pred match\n",
      "7 total ground truth\n",
      "[ 3. -1. -1. -1.  6.  1. -1.  2.]\n",
      "[0.9999974  0.99997306 0.9999639  0.99995327 0.9999269  0.9999211\n",
      " 0.9999094  0.9998043 ]\n"
     ]
    },
    {
     "name": "stderr",
     "output_type": "stream",
     "text": [
      "c:\\users\\mk5n2\\appdata\\local\\continuum\\anaconda3\\envs\\maskrcnn\\lib\\site-packages\\skimage\\transform\\_warps.py:110: UserWarning: Anti-aliasing will be enabled by default in skimage 0.15 to avoid aliasing artifacts when down-sampling images.\n",
      "  warn(\"Anti-aliasing will be enabled by default in skimage 0.15 to \"\n"
     ]
    },
    {
     "name": "stdout",
     "output_type": "stream",
     "text": [
      "2  objects matches\n",
      "8 pred match\n",
      "7 total ground truth\n",
      "[-1. -1. -1.  6.  2. -1. -1. -1.]\n",
      "[0.99997246 0.99996424 0.99996126 0.9999201  0.9998629  0.99968386\n",
      " 0.9993193  0.99846494]\n"
     ]
    },
    {
     "name": "stderr",
     "output_type": "stream",
     "text": [
      "c:\\users\\mk5n2\\appdata\\local\\continuum\\anaconda3\\envs\\maskrcnn\\lib\\site-packages\\skimage\\transform\\_warps.py:110: UserWarning: Anti-aliasing will be enabled by default in skimage 0.15 to avoid aliasing artifacts when down-sampling images.\n",
      "  warn(\"Anti-aliasing will be enabled by default in skimage 0.15 to \"\n"
     ]
    },
    {
     "name": "stdout",
     "output_type": "stream",
     "text": [
      "2  objects matches\n",
      "8 pred match\n",
      "7 total ground truth\n",
      "[-1.  1. -1.  6. -1. -1. -1. -1.]\n",
      "[0.9999404  0.9999349  0.9999051  0.99985087 0.9989108  0.98790216\n",
      " 0.9823156  0.7298301 ]\n"
     ]
    },
    {
     "name": "stderr",
     "output_type": "stream",
     "text": [
      "c:\\users\\mk5n2\\appdata\\local\\continuum\\anaconda3\\envs\\maskrcnn\\lib\\site-packages\\skimage\\transform\\_warps.py:110: UserWarning: Anti-aliasing will be enabled by default in skimage 0.15 to avoid aliasing artifacts when down-sampling images.\n",
      "  warn(\"Anti-aliasing will be enabled by default in skimage 0.15 to \"\n"
     ]
    },
    {
     "name": "stdout",
     "output_type": "stream",
     "text": [
      "3  objects matches\n",
      "7 pred match\n",
      "6 total ground truth\n",
      "[-1.  1.  5. -1. -1.  2. -1.]\n",
      "[0.99994385 0.9998398  0.99972874 0.999655   0.9938678  0.62833977\n",
      " 0.53140855]\n"
     ]
    },
    {
     "name": "stderr",
     "output_type": "stream",
     "text": [
      "c:\\users\\mk5n2\\appdata\\local\\continuum\\anaconda3\\envs\\maskrcnn\\lib\\site-packages\\skimage\\transform\\_warps.py:110: UserWarning: Anti-aliasing will be enabled by default in skimage 0.15 to avoid aliasing artifacts when down-sampling images.\n",
      "  warn(\"Anti-aliasing will be enabled by default in skimage 0.15 to \"\n"
     ]
    },
    {
     "name": "stdout",
     "output_type": "stream",
     "text": [
      "2  objects matches\n",
      "5 pred match\n",
      "5 total ground truth\n",
      "[-1.  1.  4. -1. -1.]\n",
      "[0.99996495 0.9999417  0.99992955 0.9997414  0.9475559 ]\n"
     ]
    },
    {
     "name": "stderr",
     "output_type": "stream",
     "text": [
      "c:\\users\\mk5n2\\appdata\\local\\continuum\\anaconda3\\envs\\maskrcnn\\lib\\site-packages\\skimage\\transform\\_warps.py:110: UserWarning: Anti-aliasing will be enabled by default in skimage 0.15 to avoid aliasing artifacts when down-sampling images.\n",
      "  warn(\"Anti-aliasing will be enabled by default in skimage 0.15 to \"\n"
     ]
    },
    {
     "name": "stdout",
     "output_type": "stream",
     "text": [
      "2  objects matches\n",
      "4 pred match\n",
      "5 total ground truth\n",
      "[-1.  1.  4. -1.]\n",
      "[0.9999629  0.99994695 0.99991894 0.9969784 ]\n"
     ]
    },
    {
     "name": "stderr",
     "output_type": "stream",
     "text": [
      "c:\\users\\mk5n2\\appdata\\local\\continuum\\anaconda3\\envs\\maskrcnn\\lib\\site-packages\\skimage\\transform\\_warps.py:110: UserWarning: Anti-aliasing will be enabled by default in skimage 0.15 to avoid aliasing artifacts when down-sampling images.\n",
      "  warn(\"Anti-aliasing will be enabled by default in skimage 0.15 to \"\n"
     ]
    },
    {
     "name": "stdout",
     "output_type": "stream",
     "text": [
      "2  objects matches\n",
      "5 pred match\n",
      "5 total ground truth\n",
      "[-1.  4.  1. -1. -1.]\n",
      "[0.99996555 0.9999399  0.9998572  0.9646984  0.5245186 ]\n"
     ]
    },
    {
     "name": "stderr",
     "output_type": "stream",
     "text": [
      "c:\\users\\mk5n2\\appdata\\local\\continuum\\anaconda3\\envs\\maskrcnn\\lib\\site-packages\\skimage\\transform\\_warps.py:110: UserWarning: Anti-aliasing will be enabled by default in skimage 0.15 to avoid aliasing artifacts when down-sampling images.\n",
      "  warn(\"Anti-aliasing will be enabled by default in skimage 0.15 to \"\n"
     ]
    },
    {
     "name": "stdout",
     "output_type": "stream",
     "text": [
      "2  objects matches\n",
      "4 pred match\n",
      "5 total ground truth\n",
      "[ 2.  0. -1. -1.]\n",
      "[0.99995697 0.9998275  0.99982685 0.71675026]\n"
     ]
    },
    {
     "name": "stderr",
     "output_type": "stream",
     "text": [
      "c:\\users\\mk5n2\\appdata\\local\\continuum\\anaconda3\\envs\\maskrcnn\\lib\\site-packages\\skimage\\transform\\_warps.py:110: UserWarning: Anti-aliasing will be enabled by default in skimage 0.15 to avoid aliasing artifacts when down-sampling images.\n",
      "  warn(\"Anti-aliasing will be enabled by default in skimage 0.15 to \"\n"
     ]
    },
    {
     "name": "stdout",
     "output_type": "stream",
     "text": [
      "2  objects matches\n",
      "3 pred match\n",
      "5 total ground truth\n",
      "[-1.  4.  1.]\n",
      "[0.9999683  0.99995005 0.9999094 ]\n"
     ]
    },
    {
     "name": "stderr",
     "output_type": "stream",
     "text": [
      "c:\\users\\mk5n2\\appdata\\local\\continuum\\anaconda3\\envs\\maskrcnn\\lib\\site-packages\\skimage\\transform\\_warps.py:110: UserWarning: Anti-aliasing will be enabled by default in skimage 0.15 to avoid aliasing artifacts when down-sampling images.\n",
      "  warn(\"Anti-aliasing will be enabled by default in skimage 0.15 to \"\n"
     ]
    },
    {
     "name": "stdout",
     "output_type": "stream",
     "text": [
      "1  objects matches\n",
      "5 pred match\n",
      "4 total ground truth\n",
      "[-1.  1. -1. -1. -1.]\n",
      "[0.9999931 0.9999808 0.9998252 0.9372658 0.530513 ]\n"
     ]
    },
    {
     "name": "stderr",
     "output_type": "stream",
     "text": [
      "c:\\users\\mk5n2\\appdata\\local\\continuum\\anaconda3\\envs\\maskrcnn\\lib\\site-packages\\skimage\\transform\\_warps.py:110: UserWarning: Anti-aliasing will be enabled by default in skimage 0.15 to avoid aliasing artifacts when down-sampling images.\n",
      "  warn(\"Anti-aliasing will be enabled by default in skimage 0.15 to \"\n"
     ]
    },
    {
     "name": "stdout",
     "output_type": "stream",
     "text": [
      "1  objects matches\n",
      "5 pred match\n",
      "4 total ground truth\n",
      "[-1.  1. -1. -1. -1.]\n",
      "[0.99997437 0.99996126 0.9992912  0.9752921  0.9683017 ]\n"
     ]
    },
    {
     "name": "stderr",
     "output_type": "stream",
     "text": [
      "c:\\users\\mk5n2\\appdata\\local\\continuum\\anaconda3\\envs\\maskrcnn\\lib\\site-packages\\skimage\\transform\\_warps.py:110: UserWarning: Anti-aliasing will be enabled by default in skimage 0.15 to avoid aliasing artifacts when down-sampling images.\n",
      "  warn(\"Anti-aliasing will be enabled by default in skimage 0.15 to \"\n"
     ]
    },
    {
     "name": "stdout",
     "output_type": "stream",
     "text": [
      "2  objects matches\n",
      "6 pred match\n",
      "4 total ground truth\n",
      "[ 1.  0. -1. -1. -1. -1.]\n",
      "[0.9999664  0.9995453  0.99734783 0.9972072  0.9845902  0.5725648 ]\n"
     ]
    },
    {
     "name": "stderr",
     "output_type": "stream",
     "text": [
      "c:\\users\\mk5n2\\appdata\\local\\continuum\\anaconda3\\envs\\maskrcnn\\lib\\site-packages\\skimage\\transform\\_warps.py:110: UserWarning: Anti-aliasing will be enabled by default in skimage 0.15 to avoid aliasing artifacts when down-sampling images.\n",
      "  warn(\"Anti-aliasing will be enabled by default in skimage 0.15 to \"\n"
     ]
    },
    {
     "name": "stdout",
     "output_type": "stream",
     "text": [
      "3  objects matches\n",
      "5 pred match\n",
      "4 total ground truth\n",
      "[ 1.  0.  3. -1. -1.]\n",
      "[0.9999857  0.99990094 0.9997992  0.9996393  0.9753279 ]\n"
     ]
    },
    {
     "name": "stderr",
     "output_type": "stream",
     "text": [
      "c:\\users\\mk5n2\\appdata\\local\\continuum\\anaconda3\\envs\\maskrcnn\\lib\\site-packages\\skimage\\transform\\_warps.py:110: UserWarning: Anti-aliasing will be enabled by default in skimage 0.15 to avoid aliasing artifacts when down-sampling images.\n",
      "  warn(\"Anti-aliasing will be enabled by default in skimage 0.15 to \"\n"
     ]
    },
    {
     "name": "stdout",
     "output_type": "stream",
     "text": [
      "3  objects matches\n",
      "5 pred match\n",
      "4 total ground truth\n",
      "[ 1.  2.  3. -1. -1.]\n",
      "[0.99997723 0.9999583  0.9998807  0.9997838  0.9994979 ]\n"
     ]
    },
    {
     "name": "stderr",
     "output_type": "stream",
     "text": [
      "c:\\users\\mk5n2\\appdata\\local\\continuum\\anaconda3\\envs\\maskrcnn\\lib\\site-packages\\skimage\\transform\\_warps.py:110: UserWarning: Anti-aliasing will be enabled by default in skimage 0.15 to avoid aliasing artifacts when down-sampling images.\n",
      "  warn(\"Anti-aliasing will be enabled by default in skimage 0.15 to \"\n"
     ]
    },
    {
     "name": "stdout",
     "output_type": "stream",
     "text": [
      "3  objects matches\n",
      "5 pred match\n",
      "4 total ground truth\n",
      "[ 1.  2. -1.  3. -1.]\n",
      "[0.9999924  0.9999788  0.9998677  0.9995036  0.99332184]\n"
     ]
    },
    {
     "name": "stderr",
     "output_type": "stream",
     "text": [
      "c:\\users\\mk5n2\\appdata\\local\\continuum\\anaconda3\\envs\\maskrcnn\\lib\\site-packages\\skimage\\transform\\_warps.py:110: UserWarning: Anti-aliasing will be enabled by default in skimage 0.15 to avoid aliasing artifacts when down-sampling images.\n",
      "  warn(\"Anti-aliasing will be enabled by default in skimage 0.15 to \"\n"
     ]
    },
    {
     "name": "stdout",
     "output_type": "stream",
     "text": [
      "1  objects matches\n",
      "5 pred match\n",
      "4 total ground truth\n",
      "[-1.  1. -1. -1. -1.]\n",
      "[0.9999815  0.9999658  0.9997049  0.99967694 0.9913933 ]\n"
     ]
    },
    {
     "name": "stderr",
     "output_type": "stream",
     "text": [
      "c:\\users\\mk5n2\\appdata\\local\\continuum\\anaconda3\\envs\\maskrcnn\\lib\\site-packages\\skimage\\transform\\_warps.py:110: UserWarning: Anti-aliasing will be enabled by default in skimage 0.15 to avoid aliasing artifacts when down-sampling images.\n",
      "  warn(\"Anti-aliasing will be enabled by default in skimage 0.15 to \"\n"
     ]
    },
    {
     "name": "stdout",
     "output_type": "stream",
     "text": [
      "3  objects matches\n",
      "5 pred match\n",
      "4 total ground truth\n",
      "[ 1.  0.  2. -1. -1.]\n",
      "[0.9999901  0.9999211  0.99991834 0.9995578  0.9907154 ]\n"
     ]
    },
    {
     "name": "stderr",
     "output_type": "stream",
     "text": [
      "c:\\users\\mk5n2\\appdata\\local\\continuum\\anaconda3\\envs\\maskrcnn\\lib\\site-packages\\skimage\\transform\\_warps.py:110: UserWarning: Anti-aliasing will be enabled by default in skimage 0.15 to avoid aliasing artifacts when down-sampling images.\n",
      "  warn(\"Anti-aliasing will be enabled by default in skimage 0.15 to \"\n"
     ]
    },
    {
     "name": "stdout",
     "output_type": "stream",
     "text": [
      "3  objects matches\n",
      "6 pred match\n",
      "4 total ground truth\n",
      "[ 1. -1.  0. -1.  3. -1.]\n",
      "[0.99996305 0.9999542  0.999764   0.99554646 0.9897859  0.9169969 ]\n"
     ]
    },
    {
     "name": "stderr",
     "output_type": "stream",
     "text": [
      "c:\\users\\mk5n2\\appdata\\local\\continuum\\anaconda3\\envs\\maskrcnn\\lib\\site-packages\\skimage\\transform\\_warps.py:110: UserWarning: Anti-aliasing will be enabled by default in skimage 0.15 to avoid aliasing artifacts when down-sampling images.\n",
      "  warn(\"Anti-aliasing will be enabled by default in skimage 0.15 to \"\n"
     ]
    },
    {
     "name": "stdout",
     "output_type": "stream",
     "text": [
      "3  objects matches\n",
      "6 pred match\n",
      "5 total ground truth\n",
      "[ 2.  1.  0. -1. -1. -1.]\n",
      "[0.9999875  0.9999851  0.99991703 0.99939895 0.9974329  0.9904936 ]\n"
     ]
    },
    {
     "name": "stderr",
     "output_type": "stream",
     "text": [
      "c:\\users\\mk5n2\\appdata\\local\\continuum\\anaconda3\\envs\\maskrcnn\\lib\\site-packages\\skimage\\transform\\_warps.py:110: UserWarning: Anti-aliasing will be enabled by default in skimage 0.15 to avoid aliasing artifacts when down-sampling images.\n",
      "  warn(\"Anti-aliasing will be enabled by default in skimage 0.15 to \"\n"
     ]
    },
    {
     "name": "stdout",
     "output_type": "stream",
     "text": [
      "3  objects matches\n",
      "7 pred match\n",
      "5 total ground truth\n",
      "[ 1.  2. -1. -1. -1. -1.  3.]\n",
      "[0.99999404 0.9999906  0.99990356 0.9990779  0.9978259  0.942623\n",
      " 0.88183695]\n"
     ]
    },
    {
     "name": "stderr",
     "output_type": "stream",
     "text": [
      "c:\\users\\mk5n2\\appdata\\local\\continuum\\anaconda3\\envs\\maskrcnn\\lib\\site-packages\\skimage\\transform\\_warps.py:110: UserWarning: Anti-aliasing will be enabled by default in skimage 0.15 to avoid aliasing artifacts when down-sampling images.\n",
      "  warn(\"Anti-aliasing will be enabled by default in skimage 0.15 to \"\n"
     ]
    },
    {
     "name": "stdout",
     "output_type": "stream",
     "text": [
      "2  objects matches\n",
      "6 pred match\n",
      "5 total ground truth\n",
      "[ 1. -1. -1. -1.  3. -1.]\n",
      "[0.9999896  0.9999609  0.99982625 0.9997975  0.9994894  0.99937016]\n"
     ]
    },
    {
     "name": "stderr",
     "output_type": "stream",
     "text": [
      "c:\\users\\mk5n2\\appdata\\local\\continuum\\anaconda3\\envs\\maskrcnn\\lib\\site-packages\\skimage\\transform\\_warps.py:110: UserWarning: Anti-aliasing will be enabled by default in skimage 0.15 to avoid aliasing artifacts when down-sampling images.\n",
      "  warn(\"Anti-aliasing will be enabled by default in skimage 0.15 to \"\n"
     ]
    },
    {
     "name": "stdout",
     "output_type": "stream",
     "text": [
      "3  objects matches\n",
      "7 pred match\n",
      "5 total ground truth\n",
      "[ 1.  2. -1.  3. -1. -1. -1.]\n",
      "[0.9999883  0.9999727  0.9999212  0.99958223 0.9993425  0.9979134\n",
      " 0.57392627]\n"
     ]
    },
    {
     "name": "stderr",
     "output_type": "stream",
     "text": [
      "c:\\users\\mk5n2\\appdata\\local\\continuum\\anaconda3\\envs\\maskrcnn\\lib\\site-packages\\skimage\\transform\\_warps.py:110: UserWarning: Anti-aliasing will be enabled by default in skimage 0.15 to avoid aliasing artifacts when down-sampling images.\n",
      "  warn(\"Anti-aliasing will be enabled by default in skimage 0.15 to \"\n"
     ]
    },
    {
     "name": "stdout",
     "output_type": "stream",
     "text": [
      "3  objects matches\n",
      "7 pred match\n",
      "5 total ground truth\n",
      "[ 1. -1. -1.  3.  0. -1. -1.]\n",
      "[0.99999607 0.99999547 0.9999151  0.99985766 0.99965537 0.9704359\n",
      " 0.75753546]\n"
     ]
    },
    {
     "name": "stderr",
     "output_type": "stream",
     "text": [
      "c:\\users\\mk5n2\\appdata\\local\\continuum\\anaconda3\\envs\\maskrcnn\\lib\\site-packages\\skimage\\transform\\_warps.py:110: UserWarning: Anti-aliasing will be enabled by default in skimage 0.15 to avoid aliasing artifacts when down-sampling images.\n",
      "  warn(\"Anti-aliasing will be enabled by default in skimage 0.15 to \"\n"
     ]
    },
    {
     "name": "stdout",
     "output_type": "stream",
     "text": [
      "3  objects matches\n",
      "7 pred match\n",
      "5 total ground truth\n",
      "[ 1.  0.  3. -1. -1. -1. -1.]\n",
      "[0.9999924  0.9999652  0.99996364 0.9998927  0.99942905 0.9099208\n",
      " 0.5046195 ]\n"
     ]
    },
    {
     "name": "stderr",
     "output_type": "stream",
     "text": [
      "c:\\users\\mk5n2\\appdata\\local\\continuum\\anaconda3\\envs\\maskrcnn\\lib\\site-packages\\skimage\\transform\\_warps.py:110: UserWarning: Anti-aliasing will be enabled by default in skimage 0.15 to avoid aliasing artifacts when down-sampling images.\n",
      "  warn(\"Anti-aliasing will be enabled by default in skimage 0.15 to \"\n"
     ]
    },
    {
     "name": "stdout",
     "output_type": "stream",
     "text": [
      "3  objects matches\n",
      "6 pred match\n",
      "5 total ground truth\n",
      "[ 3. -1.  1.  0. -1. -1.]\n",
      "[0.99996614 0.9999521  0.9999192  0.99990463 0.9996835  0.9948532 ]\n"
     ]
    },
    {
     "name": "stderr",
     "output_type": "stream",
     "text": [
      "c:\\users\\mk5n2\\appdata\\local\\continuum\\anaconda3\\envs\\maskrcnn\\lib\\site-packages\\skimage\\transform\\_warps.py:110: UserWarning: Anti-aliasing will be enabled by default in skimage 0.15 to avoid aliasing artifacts when down-sampling images.\n",
      "  warn(\"Anti-aliasing will be enabled by default in skimage 0.15 to \"\n"
     ]
    },
    {
     "name": "stdout",
     "output_type": "stream",
     "text": [
      "5  objects matches\n",
      "6 pred match\n",
      "5 total ground truth\n",
      "[ 1.  2.  0. -1.  4.  3.]\n",
      "[0.9999924  0.99998486 0.9999416  0.99993813 0.9997533  0.9992625 ]\n"
     ]
    },
    {
     "name": "stderr",
     "output_type": "stream",
     "text": [
      "c:\\users\\mk5n2\\appdata\\local\\continuum\\anaconda3\\envs\\maskrcnn\\lib\\site-packages\\skimage\\transform\\_warps.py:110: UserWarning: Anti-aliasing will be enabled by default in skimage 0.15 to avoid aliasing artifacts when down-sampling images.\n",
      "  warn(\"Anti-aliasing will be enabled by default in skimage 0.15 to \"\n"
     ]
    },
    {
     "name": "stdout",
     "output_type": "stream",
     "text": [
      "5  objects matches\n",
      "6 pred match\n",
      "5 total ground truth\n",
      "[ 2.  1.  4.  0. -1.  3.]\n",
      "[0.99999654 0.9999895  0.99997926 0.9999541  0.9999136  0.9947438 ]\n"
     ]
    },
    {
     "name": "stderr",
     "output_type": "stream",
     "text": [
      "c:\\users\\mk5n2\\appdata\\local\\continuum\\anaconda3\\envs\\maskrcnn\\lib\\site-packages\\skimage\\transform\\_warps.py:110: UserWarning: Anti-aliasing will be enabled by default in skimage 0.15 to avoid aliasing artifacts when down-sampling images.\n",
      "  warn(\"Anti-aliasing will be enabled by default in skimage 0.15 to \"\n"
     ]
    },
    {
     "name": "stdout",
     "output_type": "stream",
     "text": [
      "5  objects matches\n",
      "6 pred match\n",
      "5 total ground truth\n",
      "[ 1.  2.  0.  4. -1.  3.]\n",
      "[0.99999654 0.9999901  0.9999212  0.9998734  0.99953985 0.99632496]\n"
     ]
    },
    {
     "name": "stderr",
     "output_type": "stream",
     "text": [
      "c:\\users\\mk5n2\\appdata\\local\\continuum\\anaconda3\\envs\\maskrcnn\\lib\\site-packages\\skimage\\transform\\_warps.py:110: UserWarning: Anti-aliasing will be enabled by default in skimage 0.15 to avoid aliasing artifacts when down-sampling images.\n",
      "  warn(\"Anti-aliasing will be enabled by default in skimage 0.15 to \"\n"
     ]
    },
    {
     "name": "stdout",
     "output_type": "stream",
     "text": [
      "5  objects matches\n",
      "6 pred match\n",
      "5 total ground truth\n",
      "[ 2.  1.  0.  3.  4. -1.]\n",
      "[0.9999831  0.99996233 0.9999528  0.9999521  0.99976546 0.99891555]\n"
     ]
    },
    {
     "name": "stderr",
     "output_type": "stream",
     "text": [
      "c:\\users\\mk5n2\\appdata\\local\\continuum\\anaconda3\\envs\\maskrcnn\\lib\\site-packages\\skimage\\transform\\_warps.py:110: UserWarning: Anti-aliasing will be enabled by default in skimage 0.15 to avoid aliasing artifacts when down-sampling images.\n",
      "  warn(\"Anti-aliasing will be enabled by default in skimage 0.15 to \"\n"
     ]
    },
    {
     "name": "stdout",
     "output_type": "stream",
     "text": [
      "4  objects matches\n",
      "6 pred match\n",
      "5 total ground truth\n",
      "[ 2.  1. -1.  4.  0. -1.]\n",
      "[0.9999888 0.9999614 0.9999585 0.9997861 0.9997607 0.7397347]\n"
     ]
    },
    {
     "name": "stderr",
     "output_type": "stream",
     "text": [
      "c:\\users\\mk5n2\\appdata\\local\\continuum\\anaconda3\\envs\\maskrcnn\\lib\\site-packages\\skimage\\transform\\_warps.py:110: UserWarning: Anti-aliasing will be enabled by default in skimage 0.15 to avoid aliasing artifacts when down-sampling images.\n",
      "  warn(\"Anti-aliasing will be enabled by default in skimage 0.15 to \"\n"
     ]
    },
    {
     "name": "stdout",
     "output_type": "stream",
     "text": [
      "2  objects matches\n",
      "5 pred match\n",
      "2 total ground truth\n",
      "[ 1. -1. -1.  0. -1.]\n",
      "[0.999984   0.99997044 0.99995685 0.9999194  0.9992937 ]\n"
     ]
    },
    {
     "name": "stderr",
     "output_type": "stream",
     "text": [
      "c:\\users\\mk5n2\\appdata\\local\\continuum\\anaconda3\\envs\\maskrcnn\\lib\\site-packages\\skimage\\transform\\_warps.py:110: UserWarning: Anti-aliasing will be enabled by default in skimage 0.15 to avoid aliasing artifacts when down-sampling images.\n",
      "  warn(\"Anti-aliasing will be enabled by default in skimage 0.15 to \"\n"
     ]
    },
    {
     "name": "stdout",
     "output_type": "stream",
     "text": [
      "2  objects matches\n",
      "5 pred match\n",
      "2 total ground truth\n",
      "[-1.  1. -1.  0. -1.]\n",
      "[0.99998164 0.99998045 0.99994934 0.9998939  0.99979824]\n"
     ]
    },
    {
     "name": "stderr",
     "output_type": "stream",
     "text": [
      "c:\\users\\mk5n2\\appdata\\local\\continuum\\anaconda3\\envs\\maskrcnn\\lib\\site-packages\\skimage\\transform\\_warps.py:110: UserWarning: Anti-aliasing will be enabled by default in skimage 0.15 to avoid aliasing artifacts when down-sampling images.\n",
      "  warn(\"Anti-aliasing will be enabled by default in skimage 0.15 to \"\n"
     ]
    },
    {
     "name": "stdout",
     "output_type": "stream",
     "text": [
      "5  objects matches\n",
      "5 pred match\n",
      "5 total ground truth\n",
      "[1. 3. 2. 0. 4.]\n",
      "[0.99996316 0.9999205  0.9999006  0.99986887 0.9991529 ]\n"
     ]
    },
    {
     "name": "stderr",
     "output_type": "stream",
     "text": [
      "c:\\users\\mk5n2\\appdata\\local\\continuum\\anaconda3\\envs\\maskrcnn\\lib\\site-packages\\skimage\\transform\\_warps.py:110: UserWarning: Anti-aliasing will be enabled by default in skimage 0.15 to avoid aliasing artifacts when down-sampling images.\n",
      "  warn(\"Anti-aliasing will be enabled by default in skimage 0.15 to \"\n"
     ]
    },
    {
     "name": "stdout",
     "output_type": "stream",
     "text": [
      "5  objects matches\n",
      "5 pred match\n",
      "5 total ground truth\n",
      "[1. 0. 2. 3. 4.]\n",
      "[0.9999831  0.99998295 0.99994314 0.99962854 0.9990428 ]\n"
     ]
    },
    {
     "name": "stderr",
     "output_type": "stream",
     "text": [
      "c:\\users\\mk5n2\\appdata\\local\\continuum\\anaconda3\\envs\\maskrcnn\\lib\\site-packages\\skimage\\transform\\_warps.py:110: UserWarning: Anti-aliasing will be enabled by default in skimage 0.15 to avoid aliasing artifacts when down-sampling images.\n",
      "  warn(\"Anti-aliasing will be enabled by default in skimage 0.15 to \"\n"
     ]
    },
    {
     "name": "stdout",
     "output_type": "stream",
     "text": [
      "5  objects matches\n",
      "5 pred match\n",
      "5 total ground truth\n",
      "[1. 2. 0. 4. 3.]\n",
      "[0.99997544 0.9999201  0.9999044  0.99757177 0.9888849 ]\n"
     ]
    },
    {
     "name": "stderr",
     "output_type": "stream",
     "text": [
      "c:\\users\\mk5n2\\appdata\\local\\continuum\\anaconda3\\envs\\maskrcnn\\lib\\site-packages\\skimage\\transform\\_warps.py:110: UserWarning: Anti-aliasing will be enabled by default in skimage 0.15 to avoid aliasing artifacts when down-sampling images.\n",
      "  warn(\"Anti-aliasing will be enabled by default in skimage 0.15 to \"\n"
     ]
    },
    {
     "name": "stdout",
     "output_type": "stream",
     "text": [
      "5  objects matches\n",
      "5 pred match\n",
      "5 total ground truth\n",
      "[1. 2. 0. 4. 3.]\n",
      "[0.9999809 0.9999547 0.9999316 0.999642  0.999008 ]\n"
     ]
    },
    {
     "name": "stderr",
     "output_type": "stream",
     "text": [
      "c:\\users\\mk5n2\\appdata\\local\\continuum\\anaconda3\\envs\\maskrcnn\\lib\\site-packages\\skimage\\transform\\_warps.py:110: UserWarning: Anti-aliasing will be enabled by default in skimage 0.15 to avoid aliasing artifacts when down-sampling images.\n",
      "  warn(\"Anti-aliasing will be enabled by default in skimage 0.15 to \"\n"
     ]
    },
    {
     "name": "stdout",
     "output_type": "stream",
     "text": [
      "5  objects matches\n",
      "5 pred match\n",
      "5 total ground truth\n",
      "[2. 1. 4. 0. 3.]\n",
      "[0.99999106 0.99999094 0.99993014 0.99990785 0.9997874 ]\n"
     ]
    },
    {
     "name": "stderr",
     "output_type": "stream",
     "text": [
      "c:\\users\\mk5n2\\appdata\\local\\continuum\\anaconda3\\envs\\maskrcnn\\lib\\site-packages\\skimage\\transform\\_warps.py:110: UserWarning: Anti-aliasing will be enabled by default in skimage 0.15 to avoid aliasing artifacts when down-sampling images.\n",
      "  warn(\"Anti-aliasing will be enabled by default in skimage 0.15 to \"\n"
     ]
    },
    {
     "name": "stdout",
     "output_type": "stream",
     "text": [
      "5  objects matches\n",
      "5 pred match\n",
      "5 total ground truth\n",
      "[1. 2. 0. 3. 4.]\n",
      "[0.99999523 0.9999833  0.9999752  0.9999641  0.99992585]\n"
     ]
    },
    {
     "name": "stderr",
     "output_type": "stream",
     "text": [
      "c:\\users\\mk5n2\\appdata\\local\\continuum\\anaconda3\\envs\\maskrcnn\\lib\\site-packages\\skimage\\transform\\_warps.py:110: UserWarning: Anti-aliasing will be enabled by default in skimage 0.15 to avoid aliasing artifacts when down-sampling images.\n",
      "  warn(\"Anti-aliasing will be enabled by default in skimage 0.15 to \"\n"
     ]
    },
    {
     "name": "stdout",
     "output_type": "stream",
     "text": [
      "5  objects matches\n",
      "5 pred match\n",
      "5 total ground truth\n",
      "[1. 3. 2. 0. 4.]\n",
      "[0.9999975  0.99997926 0.9999739  0.99996364 0.99988174]\n"
     ]
    },
    {
     "name": "stderr",
     "output_type": "stream",
     "text": [
      "c:\\users\\mk5n2\\appdata\\local\\continuum\\anaconda3\\envs\\maskrcnn\\lib\\site-packages\\skimage\\transform\\_warps.py:110: UserWarning: Anti-aliasing will be enabled by default in skimage 0.15 to avoid aliasing artifacts when down-sampling images.\n",
      "  warn(\"Anti-aliasing will be enabled by default in skimage 0.15 to \"\n"
     ]
    },
    {
     "name": "stdout",
     "output_type": "stream",
     "text": [
      "5  objects matches\n",
      "5 pred match\n",
      "5 total ground truth\n",
      "[1. 2. 3. 0. 4.]\n",
      "[0.9999907  0.9999821  0.9999802  0.99995244 0.99991655]\n"
     ]
    },
    {
     "name": "stderr",
     "output_type": "stream",
     "text": [
      "c:\\users\\mk5n2\\appdata\\local\\continuum\\anaconda3\\envs\\maskrcnn\\lib\\site-packages\\skimage\\transform\\_warps.py:110: UserWarning: Anti-aliasing will be enabled by default in skimage 0.15 to avoid aliasing artifacts when down-sampling images.\n",
      "  warn(\"Anti-aliasing will be enabled by default in skimage 0.15 to \"\n"
     ]
    },
    {
     "name": "stdout",
     "output_type": "stream",
     "text": [
      "5  objects matches\n",
      "5 pred match\n",
      "5 total ground truth\n",
      "[1. 2. 0. 3. 4.]\n",
      "[0.9999844 0.9999738 0.9999685 0.99993   0.9998666]\n"
     ]
    },
    {
     "name": "stderr",
     "output_type": "stream",
     "text": [
      "c:\\users\\mk5n2\\appdata\\local\\continuum\\anaconda3\\envs\\maskrcnn\\lib\\site-packages\\skimage\\transform\\_warps.py:110: UserWarning: Anti-aliasing will be enabled by default in skimage 0.15 to avoid aliasing artifacts when down-sampling images.\n",
      "  warn(\"Anti-aliasing will be enabled by default in skimage 0.15 to \"\n"
     ]
    },
    {
     "name": "stdout",
     "output_type": "stream",
     "text": [
      "4  objects matches\n",
      "5 pred match\n",
      "5 total ground truth\n",
      "[ 1.  4.  0. -1.  3.]\n",
      "[0.9999931  0.9999739  0.99996865 0.9999528  0.9998404 ]\n"
     ]
    },
    {
     "name": "stderr",
     "output_type": "stream",
     "text": [
      "c:\\users\\mk5n2\\appdata\\local\\continuum\\anaconda3\\envs\\maskrcnn\\lib\\site-packages\\skimage\\transform\\_warps.py:110: UserWarning: Anti-aliasing will be enabled by default in skimage 0.15 to avoid aliasing artifacts when down-sampling images.\n",
      "  warn(\"Anti-aliasing will be enabled by default in skimage 0.15 to \"\n"
     ]
    },
    {
     "name": "stdout",
     "output_type": "stream",
     "text": [
      "5  objects matches\n",
      "5 pred match\n",
      "6 total ground truth\n",
      "[1. 4. 0. 2. 3.]\n",
      "[0.9999993 0.9999845 0.9999126 0.9999093 0.9998542]\n"
     ]
    },
    {
     "name": "stderr",
     "output_type": "stream",
     "text": [
      "c:\\users\\mk5n2\\appdata\\local\\continuum\\anaconda3\\envs\\maskrcnn\\lib\\site-packages\\skimage\\transform\\_warps.py:110: UserWarning: Anti-aliasing will be enabled by default in skimage 0.15 to avoid aliasing artifacts when down-sampling images.\n",
      "  warn(\"Anti-aliasing will be enabled by default in skimage 0.15 to \"\n"
     ]
    },
    {
     "name": "stdout",
     "output_type": "stream",
     "text": [
      "5  objects matches\n",
      "5 pred match\n",
      "6 total ground truth\n",
      "[1. 3. 4. 0. 2.]\n",
      "[0.9999981 0.9999738 0.9999411 0.9998598 0.9993299]\n"
     ]
    },
    {
     "name": "stderr",
     "output_type": "stream",
     "text": [
      "c:\\users\\mk5n2\\appdata\\local\\continuum\\anaconda3\\envs\\maskrcnn\\lib\\site-packages\\skimage\\transform\\_warps.py:110: UserWarning: Anti-aliasing will be enabled by default in skimage 0.15 to avoid aliasing artifacts when down-sampling images.\n",
      "  warn(\"Anti-aliasing will be enabled by default in skimage 0.15 to \"\n"
     ]
    },
    {
     "name": "stdout",
     "output_type": "stream",
     "text": [
      "4  objects matches\n",
      "5 pred match\n",
      "6 total ground truth\n",
      "[ 1. -1.  5.  4.  0.]\n",
      "[0.9999889 0.9999484 0.9998746 0.9998128 0.9846016]\n"
     ]
    },
    {
     "name": "stderr",
     "output_type": "stream",
     "text": [
      "c:\\users\\mk5n2\\appdata\\local\\continuum\\anaconda3\\envs\\maskrcnn\\lib\\site-packages\\skimage\\transform\\_warps.py:110: UserWarning: Anti-aliasing will be enabled by default in skimage 0.15 to avoid aliasing artifacts when down-sampling images.\n",
      "  warn(\"Anti-aliasing will be enabled by default in skimage 0.15 to \"\n"
     ]
    },
    {
     "name": "stdout",
     "output_type": "stream",
     "text": [
      "4  objects matches\n",
      "5 pred match\n",
      "6 total ground truth\n",
      "[ 1.  5.  4.  0. -1.]\n",
      "[0.99998105 0.9999802  0.9999645  0.99946374 0.8814451 ]\n"
     ]
    },
    {
     "name": "stderr",
     "output_type": "stream",
     "text": [
      "c:\\users\\mk5n2\\appdata\\local\\continuum\\anaconda3\\envs\\maskrcnn\\lib\\site-packages\\skimage\\transform\\_warps.py:110: UserWarning: Anti-aliasing will be enabled by default in skimage 0.15 to avoid aliasing artifacts when down-sampling images.\n",
      "  warn(\"Anti-aliasing will be enabled by default in skimage 0.15 to \"\n"
     ]
    },
    {
     "name": "stdout",
     "output_type": "stream",
     "text": [
      "5  objects matches\n",
      "5 pred match\n",
      "6 total ground truth\n",
      "[1. 5. 4. 0. 3.]\n",
      "[0.9999956  0.999992   0.9999865  0.9998666  0.56212234]\n"
     ]
    },
    {
     "name": "stderr",
     "output_type": "stream",
     "text": [
      "c:\\users\\mk5n2\\appdata\\local\\continuum\\anaconda3\\envs\\maskrcnn\\lib\\site-packages\\skimage\\transform\\_warps.py:110: UserWarning: Anti-aliasing will be enabled by default in skimage 0.15 to avoid aliasing artifacts when down-sampling images.\n",
      "  warn(\"Anti-aliasing will be enabled by default in skimage 0.15 to \"\n"
     ]
    },
    {
     "name": "stdout",
     "output_type": "stream",
     "text": [
      "5  objects matches\n",
      "5 pred match\n",
      "6 total ground truth\n",
      "[1. 4. 5. 0. 3.]\n",
      "[0.99999154 0.9999912  0.9999907  0.99995136 0.99975175]\n"
     ]
    },
    {
     "name": "stderr",
     "output_type": "stream",
     "text": [
      "c:\\users\\mk5n2\\appdata\\local\\continuum\\anaconda3\\envs\\maskrcnn\\lib\\site-packages\\skimage\\transform\\_warps.py:110: UserWarning: Anti-aliasing will be enabled by default in skimage 0.15 to avoid aliasing artifacts when down-sampling images.\n",
      "  warn(\"Anti-aliasing will be enabled by default in skimage 0.15 to \"\n"
     ]
    },
    {
     "name": "stdout",
     "output_type": "stream",
     "text": [
      "3  objects matches\n",
      "5 pred match\n",
      "6 total ground truth\n",
      "[ 1. -1.  4. -1.  3.]\n",
      "[0.9999918  0.99996555 0.99993086 0.99974936 0.99788505]\n"
     ]
    },
    {
     "name": "stderr",
     "output_type": "stream",
     "text": [
      "c:\\users\\mk5n2\\appdata\\local\\continuum\\anaconda3\\envs\\maskrcnn\\lib\\site-packages\\skimage\\transform\\_warps.py:110: UserWarning: Anti-aliasing will be enabled by default in skimage 0.15 to avoid aliasing artifacts when down-sampling images.\n",
      "  warn(\"Anti-aliasing will be enabled by default in skimage 0.15 to \"\n"
     ]
    },
    {
     "name": "stdout",
     "output_type": "stream",
     "text": [
      "3  objects matches\n",
      "7 pred match\n",
      "5 total ground truth\n",
      "[ 1.  3.  4. -1. -1. -1. -1.]\n",
      "[0.9999939 0.9999784 0.9999603 0.9989189 0.9987483 0.6013622 0.5068209]\n"
     ]
    },
    {
     "name": "stderr",
     "output_type": "stream",
     "text": [
      "c:\\users\\mk5n2\\appdata\\local\\continuum\\anaconda3\\envs\\maskrcnn\\lib\\site-packages\\skimage\\transform\\_warps.py:110: UserWarning: Anti-aliasing will be enabled by default in skimage 0.15 to avoid aliasing artifacts when down-sampling images.\n",
      "  warn(\"Anti-aliasing will be enabled by default in skimage 0.15 to \"\n"
     ]
    },
    {
     "name": "stdout",
     "output_type": "stream",
     "text": [
      "4  objects matches\n",
      "5 pred match\n",
      "5 total ground truth\n",
      "[ 2.  1.  3. -1.  4.]\n",
      "[0.99998343 0.99995816 0.99994004 0.99993587 0.9999237 ]\n"
     ]
    },
    {
     "name": "stderr",
     "output_type": "stream",
     "text": [
      "c:\\users\\mk5n2\\appdata\\local\\continuum\\anaconda3\\envs\\maskrcnn\\lib\\site-packages\\skimage\\transform\\_warps.py:110: UserWarning: Anti-aliasing will be enabled by default in skimage 0.15 to avoid aliasing artifacts when down-sampling images.\n",
      "  warn(\"Anti-aliasing will be enabled by default in skimage 0.15 to \"\n"
     ]
    },
    {
     "name": "stdout",
     "output_type": "stream",
     "text": [
      "4  objects matches\n",
      "6 pred match\n",
      "5 total ground truth\n",
      "[ 1.  2.  4.  3. -1. -1.]\n",
      "[0.9999968  0.9999883  0.9999484  0.99987864 0.998334   0.63327867]\n"
     ]
    },
    {
     "name": "stderr",
     "output_type": "stream",
     "text": [
      "c:\\users\\mk5n2\\appdata\\local\\continuum\\anaconda3\\envs\\maskrcnn\\lib\\site-packages\\skimage\\transform\\_warps.py:110: UserWarning: Anti-aliasing will be enabled by default in skimage 0.15 to avoid aliasing artifacts when down-sampling images.\n",
      "  warn(\"Anti-aliasing will be enabled by default in skimage 0.15 to \"\n"
     ]
    },
    {
     "name": "stdout",
     "output_type": "stream",
     "text": [
      "4  objects matches\n",
      "6 pred match\n",
      "5 total ground truth\n",
      "[ 2.  4.  1.  3. -1. -1.]\n",
      "[0.9999975  0.99998474 0.99997926 0.999642   0.99913687 0.69474816]\n"
     ]
    },
    {
     "name": "stderr",
     "output_type": "stream",
     "text": [
      "c:\\users\\mk5n2\\appdata\\local\\continuum\\anaconda3\\envs\\maskrcnn\\lib\\site-packages\\skimage\\transform\\_warps.py:110: UserWarning: Anti-aliasing will be enabled by default in skimage 0.15 to avoid aliasing artifacts when down-sampling images.\n",
      "  warn(\"Anti-aliasing will be enabled by default in skimage 0.15 to \"\n"
     ]
    },
    {
     "name": "stdout",
     "output_type": "stream",
     "text": [
      "4  objects matches\n",
      "6 pred match\n",
      "5 total ground truth\n",
      "[ 2.  1.  3.  4. -1. -1.]\n",
      "[0.9999989  0.99999213 0.99993837 0.99991703 0.9976935  0.8480562 ]\n"
     ]
    },
    {
     "name": "stderr",
     "output_type": "stream",
     "text": [
      "c:\\users\\mk5n2\\appdata\\local\\continuum\\anaconda3\\envs\\maskrcnn\\lib\\site-packages\\skimage\\transform\\_warps.py:110: UserWarning: Anti-aliasing will be enabled by default in skimage 0.15 to avoid aliasing artifacts when down-sampling images.\n",
      "  warn(\"Anti-aliasing will be enabled by default in skimage 0.15 to \"\n"
     ]
    },
    {
     "name": "stdout",
     "output_type": "stream",
     "text": [
      "5  objects matches\n",
      "6 pred match\n",
      "6 total ground truth\n",
      "[ 2.  5.  3.  4. -1.  1.]\n",
      "[0.9999902  0.99998176 0.99998105 0.99996066 0.9976051  0.9923608 ]\n"
     ]
    },
    {
     "name": "stderr",
     "output_type": "stream",
     "text": [
      "c:\\users\\mk5n2\\appdata\\local\\continuum\\anaconda3\\envs\\maskrcnn\\lib\\site-packages\\skimage\\transform\\_warps.py:110: UserWarning: Anti-aliasing will be enabled by default in skimage 0.15 to avoid aliasing artifacts when down-sampling images.\n",
      "  warn(\"Anti-aliasing will be enabled by default in skimage 0.15 to \"\n"
     ]
    },
    {
     "name": "stdout",
     "output_type": "stream",
     "text": [
      "5  objects matches\n",
      "6 pred match\n",
      "6 total ground truth\n",
      "[ 3.  2.  5.  4. -1.  1.]\n",
      "[0.999998   0.99998856 0.9999875  0.99997544 0.99974793 0.9958378 ]\n"
     ]
    },
    {
     "name": "stderr",
     "output_type": "stream",
     "text": [
      "c:\\users\\mk5n2\\appdata\\local\\continuum\\anaconda3\\envs\\maskrcnn\\lib\\site-packages\\skimage\\transform\\_warps.py:110: UserWarning: Anti-aliasing will be enabled by default in skimage 0.15 to avoid aliasing artifacts when down-sampling images.\n",
      "  warn(\"Anti-aliasing will be enabled by default in skimage 0.15 to \"\n"
     ]
    },
    {
     "name": "stdout",
     "output_type": "stream",
     "text": [
      "4  objects matches\n",
      "6 pred match\n",
      "6 total ground truth\n",
      "[ 2. -1.  4.  5. -1.  1.]\n",
      "[0.99999666 0.99999666 0.99999213 0.9999784  0.99988854 0.9990238 ]\n"
     ]
    },
    {
     "name": "stderr",
     "output_type": "stream",
     "text": [
      "c:\\users\\mk5n2\\appdata\\local\\continuum\\anaconda3\\envs\\maskrcnn\\lib\\site-packages\\skimage\\transform\\_warps.py:110: UserWarning: Anti-aliasing will be enabled by default in skimage 0.15 to avoid aliasing artifacts when down-sampling images.\n",
      "  warn(\"Anti-aliasing will be enabled by default in skimage 0.15 to \"\n"
     ]
    },
    {
     "name": "stdout",
     "output_type": "stream",
     "text": [
      "6  objects matches\n",
      "6 pred match\n",
      "6 total ground truth\n",
      "[3. 2. 4. 5. 0. 1.]\n",
      "[0.9999989  0.99999785 0.99999154 0.9999691  0.99994457 0.99993277]\n"
     ]
    },
    {
     "name": "stderr",
     "output_type": "stream",
     "text": [
      "c:\\users\\mk5n2\\appdata\\local\\continuum\\anaconda3\\envs\\maskrcnn\\lib\\site-packages\\skimage\\transform\\_warps.py:110: UserWarning: Anti-aliasing will be enabled by default in skimage 0.15 to avoid aliasing artifacts when down-sampling images.\n",
      "  warn(\"Anti-aliasing will be enabled by default in skimage 0.15 to \"\n"
     ]
    },
    {
     "name": "stdout",
     "output_type": "stream",
     "text": [
      "5  objects matches\n",
      "6 pred match\n",
      "6 total ground truth\n",
      "[ 2.  4.  5.  3.  1. -1.]\n",
      "[0.99999297 0.9999845  0.9999726  0.99992895 0.9998864  0.99839056]\n"
     ]
    },
    {
     "name": "stderr",
     "output_type": "stream",
     "text": [
      "c:\\users\\mk5n2\\appdata\\local\\continuum\\anaconda3\\envs\\maskrcnn\\lib\\site-packages\\skimage\\transform\\_warps.py:110: UserWarning: Anti-aliasing will be enabled by default in skimage 0.15 to avoid aliasing artifacts when down-sampling images.\n",
      "  warn(\"Anti-aliasing will be enabled by default in skimage 0.15 to \"\n"
     ]
    },
    {
     "name": "stdout",
     "output_type": "stream",
     "text": [
      "5  objects matches\n",
      "5 pred match\n",
      "6 total ground truth\n",
      "[2. 5. 3. 4. 1.]\n",
      "[0.9999838  0.9999713  0.9999689  0.99994063 0.9994462 ]\n"
     ]
    },
    {
     "name": "stderr",
     "output_type": "stream",
     "text": [
      "c:\\users\\mk5n2\\appdata\\local\\continuum\\anaconda3\\envs\\maskrcnn\\lib\\site-packages\\skimage\\transform\\_warps.py:110: UserWarning: Anti-aliasing will be enabled by default in skimage 0.15 to avoid aliasing artifacts when down-sampling images.\n",
      "  warn(\"Anti-aliasing will be enabled by default in skimage 0.15 to \"\n"
     ]
    },
    {
     "name": "stdout",
     "output_type": "stream",
     "text": [
      "5  objects matches\n",
      "6 pred match\n",
      "5 total ground truth\n",
      "[ 0.  2.  3.  4.  1. -1.]\n",
      "[0.9999957  0.9999851  0.9999826  0.99997234 0.99955493 0.80451185]\n"
     ]
    },
    {
     "name": "stderr",
     "output_type": "stream",
     "text": [
      "c:\\users\\mk5n2\\appdata\\local\\continuum\\anaconda3\\envs\\maskrcnn\\lib\\site-packages\\skimage\\transform\\_warps.py:110: UserWarning: Anti-aliasing will be enabled by default in skimage 0.15 to avoid aliasing artifacts when down-sampling images.\n",
      "  warn(\"Anti-aliasing will be enabled by default in skimage 0.15 to \"\n"
     ]
    },
    {
     "name": "stdout",
     "output_type": "stream",
     "text": [
      "5  objects matches\n",
      "5 pred match\n",
      "5 total ground truth\n",
      "[2. 0. 3. 4. 1.]\n",
      "[0.9999876  0.99996173 0.9999167  0.99990904 0.99937004]\n"
     ]
    },
    {
     "name": "stderr",
     "output_type": "stream",
     "text": [
      "c:\\users\\mk5n2\\appdata\\local\\continuum\\anaconda3\\envs\\maskrcnn\\lib\\site-packages\\skimage\\transform\\_warps.py:110: UserWarning: Anti-aliasing will be enabled by default in skimage 0.15 to avoid aliasing artifacts when down-sampling images.\n",
      "  warn(\"Anti-aliasing will be enabled by default in skimage 0.15 to \"\n"
     ]
    },
    {
     "name": "stdout",
     "output_type": "stream",
     "text": [
      "5  objects matches\n",
      "5 pred match\n",
      "5 total ground truth\n",
      "[0. 3. 4. 2. 1.]\n",
      "[0.9999877  0.9999771  0.9999676  0.99975187 0.9996667 ]\n"
     ]
    },
    {
     "name": "stderr",
     "output_type": "stream",
     "text": [
      "c:\\users\\mk5n2\\appdata\\local\\continuum\\anaconda3\\envs\\maskrcnn\\lib\\site-packages\\skimage\\transform\\_warps.py:110: UserWarning: Anti-aliasing will be enabled by default in skimage 0.15 to avoid aliasing artifacts when down-sampling images.\n",
      "  warn(\"Anti-aliasing will be enabled by default in skimage 0.15 to \"\n"
     ]
    },
    {
     "name": "stdout",
     "output_type": "stream",
     "text": [
      "4  objects matches\n",
      "5 pred match\n",
      "5 total ground truth\n",
      "[ 1.  3.  0. -1.  2.]\n",
      "[0.9999919  0.9999857  0.99991107 0.99984264 0.9993506 ]\n"
     ]
    },
    {
     "name": "stderr",
     "output_type": "stream",
     "text": [
      "c:\\users\\mk5n2\\appdata\\local\\continuum\\anaconda3\\envs\\maskrcnn\\lib\\site-packages\\skimage\\transform\\_warps.py:110: UserWarning: Anti-aliasing will be enabled by default in skimage 0.15 to avoid aliasing artifacts when down-sampling images.\n",
      "  warn(\"Anti-aliasing will be enabled by default in skimage 0.15 to \"\n"
     ]
    },
    {
     "name": "stdout",
     "output_type": "stream",
     "text": [
      "4  objects matches\n",
      "5 pred match\n",
      "5 total ground truth\n",
      "[ 1.  3. -1.  2.  0.]\n",
      "[0.99998796 0.99998045 0.99995744 0.9997583  0.99974495]\n"
     ]
    },
    {
     "name": "stderr",
     "output_type": "stream",
     "text": [
      "c:\\users\\mk5n2\\appdata\\local\\continuum\\anaconda3\\envs\\maskrcnn\\lib\\site-packages\\skimage\\transform\\_warps.py:110: UserWarning: Anti-aliasing will be enabled by default in skimage 0.15 to avoid aliasing artifacts when down-sampling images.\n",
      "  warn(\"Anti-aliasing will be enabled by default in skimage 0.15 to \"\n"
     ]
    },
    {
     "name": "stdout",
     "output_type": "stream",
     "text": [
      "5  objects matches\n",
      "5 pred match\n",
      "5 total ground truth\n",
      "[1. 3. 4. 0. 2.]\n",
      "[0.9999831  0.9999695  0.9999467  0.99973315 0.99910945]\n"
     ]
    },
    {
     "name": "stderr",
     "output_type": "stream",
     "text": [
      "c:\\users\\mk5n2\\appdata\\local\\continuum\\anaconda3\\envs\\maskrcnn\\lib\\site-packages\\skimage\\transform\\_warps.py:110: UserWarning: Anti-aliasing will be enabled by default in skimage 0.15 to avoid aliasing artifacts when down-sampling images.\n",
      "  warn(\"Anti-aliasing will be enabled by default in skimage 0.15 to \"\n"
     ]
    },
    {
     "name": "stdout",
     "output_type": "stream",
     "text": [
      "4  objects matches\n",
      "5 pred match\n",
      "5 total ground truth\n",
      "[-1.  1.  3.  4.  0.]\n",
      "[0.9999827  0.99998057 0.9999751  0.9998642  0.99700254]\n"
     ]
    },
    {
     "name": "stderr",
     "output_type": "stream",
     "text": [
      "c:\\users\\mk5n2\\appdata\\local\\continuum\\anaconda3\\envs\\maskrcnn\\lib\\site-packages\\skimage\\transform\\_warps.py:110: UserWarning: Anti-aliasing will be enabled by default in skimage 0.15 to avoid aliasing artifacts when down-sampling images.\n",
      "  warn(\"Anti-aliasing will be enabled by default in skimage 0.15 to \"\n"
     ]
    },
    {
     "name": "stdout",
     "output_type": "stream",
     "text": [
      "4  objects matches\n",
      "5 pred match\n",
      "5 total ground truth\n",
      "[ 1.  4. -1.  3.  0.]\n",
      "[0.99998486 0.99995923 0.99984574 0.99978286 0.99751604]\n"
     ]
    },
    {
     "name": "stderr",
     "output_type": "stream",
     "text": [
      "c:\\users\\mk5n2\\appdata\\local\\continuum\\anaconda3\\envs\\maskrcnn\\lib\\site-packages\\skimage\\transform\\_warps.py:110: UserWarning: Anti-aliasing will be enabled by default in skimage 0.15 to avoid aliasing artifacts when down-sampling images.\n",
      "  warn(\"Anti-aliasing will be enabled by default in skimage 0.15 to \"\n"
     ]
    },
    {
     "name": "stdout",
     "output_type": "stream",
     "text": [
      "3  objects matches\n",
      "5 pred match\n",
      "5 total ground truth\n",
      "[ 3.  1.  4. -1. -1.]\n",
      "[0.99998903 0.99998724 0.99997914 0.99923337 0.97927   ]\n"
     ]
    },
    {
     "name": "stderr",
     "output_type": "stream",
     "text": [
      "c:\\users\\mk5n2\\appdata\\local\\continuum\\anaconda3\\envs\\maskrcnn\\lib\\site-packages\\skimage\\transform\\_warps.py:110: UserWarning: Anti-aliasing will be enabled by default in skimage 0.15 to avoid aliasing artifacts when down-sampling images.\n",
      "  warn(\"Anti-aliasing will be enabled by default in skimage 0.15 to \"\n"
     ]
    },
    {
     "name": "stdout",
     "output_type": "stream",
     "text": [
      "3  objects matches\n",
      "5 pred match\n",
      "5 total ground truth\n",
      "[ 3.  1.  4. -1. -1.]\n",
      "[0.9999963  0.9999776  0.99995446 0.9982998  0.9311014 ]\n"
     ]
    },
    {
     "name": "stderr",
     "output_type": "stream",
     "text": [
      "c:\\users\\mk5n2\\appdata\\local\\continuum\\anaconda3\\envs\\maskrcnn\\lib\\site-packages\\skimage\\transform\\_warps.py:110: UserWarning: Anti-aliasing will be enabled by default in skimage 0.15 to avoid aliasing artifacts when down-sampling images.\n",
      "  warn(\"Anti-aliasing will be enabled by default in skimage 0.15 to \"\n"
     ]
    },
    {
     "name": "stdout",
     "output_type": "stream",
     "text": [
      "2  objects matches\n",
      "5 pred match\n",
      "5 total ground truth\n",
      "[ 3.  4. -1. -1. -1.]\n",
      "[0.9999883  0.99997437 0.99997425 0.9994198  0.9989373 ]\n"
     ]
    },
    {
     "name": "stderr",
     "output_type": "stream",
     "text": [
      "c:\\users\\mk5n2\\appdata\\local\\continuum\\anaconda3\\envs\\maskrcnn\\lib\\site-packages\\skimage\\transform\\_warps.py:110: UserWarning: Anti-aliasing will be enabled by default in skimage 0.15 to avoid aliasing artifacts when down-sampling images.\n",
      "  warn(\"Anti-aliasing will be enabled by default in skimage 0.15 to \"\n"
     ]
    },
    {
     "name": "stdout",
     "output_type": "stream",
     "text": [
      "4  objects matches\n",
      "5 pred match\n",
      "5 total ground truth\n",
      "[ 3.  4.  1.  0. -1.]\n",
      "[0.99998987 0.9999503  0.99994147 0.9932734  0.71925765]\n"
     ]
    },
    {
     "name": "stderr",
     "output_type": "stream",
     "text": [
      "c:\\users\\mk5n2\\appdata\\local\\continuum\\anaconda3\\envs\\maskrcnn\\lib\\site-packages\\skimage\\transform\\_warps.py:110: UserWarning: Anti-aliasing will be enabled by default in skimage 0.15 to avoid aliasing artifacts when down-sampling images.\n",
      "  warn(\"Anti-aliasing will be enabled by default in skimage 0.15 to \"\n"
     ]
    },
    {
     "name": "stdout",
     "output_type": "stream",
     "text": [
      "4  objects matches\n",
      "4 pred match\n",
      "5 total ground truth\n",
      "[4. 3. 1. 0.]\n",
      "[0.99999464 0.9999639  0.99995995 0.9985128 ]\n"
     ]
    },
    {
     "name": "stderr",
     "output_type": "stream",
     "text": [
      "c:\\users\\mk5n2\\appdata\\local\\continuum\\anaconda3\\envs\\maskrcnn\\lib\\site-packages\\skimage\\transform\\_warps.py:110: UserWarning: Anti-aliasing will be enabled by default in skimage 0.15 to avoid aliasing artifacts when down-sampling images.\n",
      "  warn(\"Anti-aliasing will be enabled by default in skimage 0.15 to \"\n"
     ]
    },
    {
     "name": "stdout",
     "output_type": "stream",
     "text": [
      "4  objects matches\n",
      "4 pred match\n",
      "5 total ground truth\n",
      "[4. 1. 3. 0.]\n",
      "[0.9999957  0.99994016 0.9998627  0.9929542 ]\n"
     ]
    },
    {
     "name": "stderr",
     "output_type": "stream",
     "text": [
      "c:\\users\\mk5n2\\appdata\\local\\continuum\\anaconda3\\envs\\maskrcnn\\lib\\site-packages\\skimage\\transform\\_warps.py:110: UserWarning: Anti-aliasing will be enabled by default in skimage 0.15 to avoid aliasing artifacts when down-sampling images.\n",
      "  warn(\"Anti-aliasing will be enabled by default in skimage 0.15 to \"\n"
     ]
    },
    {
     "name": "stdout",
     "output_type": "stream",
     "text": [
      "4  objects matches\n",
      "5 pred match\n",
      "5 total ground truth\n",
      "[ 4.  1.  3. -1.  0.]\n",
      "[0.99999714 0.9999728  0.99953187 0.9970073  0.99350476]\n"
     ]
    },
    {
     "name": "stderr",
     "output_type": "stream",
     "text": [
      "c:\\users\\mk5n2\\appdata\\local\\continuum\\anaconda3\\envs\\maskrcnn\\lib\\site-packages\\skimage\\transform\\_warps.py:110: UserWarning: Anti-aliasing will be enabled by default in skimage 0.15 to avoid aliasing artifacts when down-sampling images.\n",
      "  warn(\"Anti-aliasing will be enabled by default in skimage 0.15 to \"\n"
     ]
    },
    {
     "name": "stdout",
     "output_type": "stream",
     "text": [
      "2  objects matches\n",
      "5 pred match\n",
      "6 total ground truth\n",
      "[-1.  2.  4. -1. -1.]\n",
      "[0.9999927 0.9999751 0.9999558 0.9970203 0.9911574]\n"
     ]
    },
    {
     "name": "stderr",
     "output_type": "stream",
     "text": [
      "c:\\users\\mk5n2\\appdata\\local\\continuum\\anaconda3\\envs\\maskrcnn\\lib\\site-packages\\skimage\\transform\\_warps.py:110: UserWarning: Anti-aliasing will be enabled by default in skimage 0.15 to avoid aliasing artifacts when down-sampling images.\n",
      "  warn(\"Anti-aliasing will be enabled by default in skimage 0.15 to \"\n"
     ]
    },
    {
     "name": "stdout",
     "output_type": "stream",
     "text": [
      "5  objects matches\n",
      "5 pred match\n",
      "6 total ground truth\n",
      "[2. 5. 4. 1. 0.]\n",
      "[0.99997413 0.9999616  0.99993575 0.9998275  0.96055824]\n"
     ]
    },
    {
     "name": "stderr",
     "output_type": "stream",
     "text": [
      "c:\\users\\mk5n2\\appdata\\local\\continuum\\anaconda3\\envs\\maskrcnn\\lib\\site-packages\\skimage\\transform\\_warps.py:110: UserWarning: Anti-aliasing will be enabled by default in skimage 0.15 to avoid aliasing artifacts when down-sampling images.\n",
      "  warn(\"Anti-aliasing will be enabled by default in skimage 0.15 to \"\n"
     ]
    },
    {
     "name": "stdout",
     "output_type": "stream",
     "text": [
      "3  objects matches\n",
      "5 pred match\n",
      "6 total ground truth\n",
      "[ 2.  5. -1.  4. -1.]\n",
      "[0.9999833  0.99990356 0.96363807 0.84421283 0.50161946]\n"
     ]
    },
    {
     "name": "stderr",
     "output_type": "stream",
     "text": [
      "c:\\users\\mk5n2\\appdata\\local\\continuum\\anaconda3\\envs\\maskrcnn\\lib\\site-packages\\skimage\\transform\\_warps.py:110: UserWarning: Anti-aliasing will be enabled by default in skimage 0.15 to avoid aliasing artifacts when down-sampling images.\n",
      "  warn(\"Anti-aliasing will be enabled by default in skimage 0.15 to \"\n"
     ]
    },
    {
     "name": "stdout",
     "output_type": "stream",
     "text": [
      "3  objects matches\n",
      "4 pred match\n",
      "6 total ground truth\n",
      "[ 2.  5.  4. -1.]\n",
      "[0.9999908  0.99973196 0.9994629  0.9977253 ]\n"
     ]
    },
    {
     "name": "stderr",
     "output_type": "stream",
     "text": [
      "c:\\users\\mk5n2\\appdata\\local\\continuum\\anaconda3\\envs\\maskrcnn\\lib\\site-packages\\skimage\\transform\\_warps.py:110: UserWarning: Anti-aliasing will be enabled by default in skimage 0.15 to avoid aliasing artifacts when down-sampling images.\n",
      "  warn(\"Anti-aliasing will be enabled by default in skimage 0.15 to \"\n"
     ]
    },
    {
     "name": "stdout",
     "output_type": "stream",
     "text": [
      "3  objects matches\n",
      "4 pred match\n",
      "5 total ground truth\n",
      "[ 2.  1.  3. -1.]\n",
      "[0.9999981  0.99996006 0.99985623 0.99929035]\n"
     ]
    },
    {
     "name": "stderr",
     "output_type": "stream",
     "text": [
      "c:\\users\\mk5n2\\appdata\\local\\continuum\\anaconda3\\envs\\maskrcnn\\lib\\site-packages\\skimage\\transform\\_warps.py:110: UserWarning: Anti-aliasing will be enabled by default in skimage 0.15 to avoid aliasing artifacts when down-sampling images.\n",
      "  warn(\"Anti-aliasing will be enabled by default in skimage 0.15 to \"\n"
     ]
    },
    {
     "name": "stdout",
     "output_type": "stream",
     "text": [
      "3  objects matches\n",
      "4 pred match\n",
      "5 total ground truth\n",
      "[-1.  3.  4.  0.]\n",
      "[0.9999927  0.9999783  0.99997795 0.9994854 ]\n"
     ]
    },
    {
     "name": "stderr",
     "output_type": "stream",
     "text": [
      "c:\\users\\mk5n2\\appdata\\local\\continuum\\anaconda3\\envs\\maskrcnn\\lib\\site-packages\\skimage\\transform\\_warps.py:110: UserWarning: Anti-aliasing will be enabled by default in skimage 0.15 to avoid aliasing artifacts when down-sampling images.\n",
      "  warn(\"Anti-aliasing will be enabled by default in skimage 0.15 to \"\n"
     ]
    },
    {
     "name": "stdout",
     "output_type": "stream",
     "text": [
      "3  objects matches\n",
      "4 pred match\n",
      "5 total ground truth\n",
      "[ 1.  4.  3. -1.]\n",
      "[0.9999968  0.9998022  0.99962044 0.99913055]\n"
     ]
    },
    {
     "name": "stderr",
     "output_type": "stream",
     "text": [
      "c:\\users\\mk5n2\\appdata\\local\\continuum\\anaconda3\\envs\\maskrcnn\\lib\\site-packages\\skimage\\transform\\_warps.py:110: UserWarning: Anti-aliasing will be enabled by default in skimage 0.15 to avoid aliasing artifacts when down-sampling images.\n",
      "  warn(\"Anti-aliasing will be enabled by default in skimage 0.15 to \"\n"
     ]
    },
    {
     "name": "stdout",
     "output_type": "stream",
     "text": [
      "4  objects matches\n",
      "5 pred match\n",
      "5 total ground truth\n",
      "[ 1.  3.  0.  4. -1.]\n",
      "[0.999982   0.99966    0.99813277 0.9979619  0.6198455 ]\n"
     ]
    },
    {
     "name": "stderr",
     "output_type": "stream",
     "text": [
      "c:\\users\\mk5n2\\appdata\\local\\continuum\\anaconda3\\envs\\maskrcnn\\lib\\site-packages\\skimage\\transform\\_warps.py:110: UserWarning: Anti-aliasing will be enabled by default in skimage 0.15 to avoid aliasing artifacts when down-sampling images.\n",
      "  warn(\"Anti-aliasing will be enabled by default in skimage 0.15 to \"\n"
     ]
    },
    {
     "name": "stdout",
     "output_type": "stream",
     "text": [
      "4  objects matches\n",
      "5 pred match\n",
      "6 total ground truth\n",
      "[ 1.  5.  4. -1.  0.]\n",
      "[0.999979   0.9999362  0.99983895 0.9998153  0.99956065]\n"
     ]
    },
    {
     "name": "stderr",
     "output_type": "stream",
     "text": [
      "c:\\users\\mk5n2\\appdata\\local\\continuum\\anaconda3\\envs\\maskrcnn\\lib\\site-packages\\skimage\\transform\\_warps.py:110: UserWarning: Anti-aliasing will be enabled by default in skimage 0.15 to avoid aliasing artifacts when down-sampling images.\n",
      "  warn(\"Anti-aliasing will be enabled by default in skimage 0.15 to \"\n"
     ]
    },
    {
     "name": "stdout",
     "output_type": "stream",
     "text": [
      "4  objects matches\n",
      "5 pred match\n",
      "6 total ground truth\n",
      "[ 5.  1.  4. -1.  0.]\n",
      "[0.99998164 0.99997604 0.9999249  0.99973446 0.99932086]\n"
     ]
    },
    {
     "name": "stderr",
     "output_type": "stream",
     "text": [
      "c:\\users\\mk5n2\\appdata\\local\\continuum\\anaconda3\\envs\\maskrcnn\\lib\\site-packages\\skimage\\transform\\_warps.py:110: UserWarning: Anti-aliasing will be enabled by default in skimage 0.15 to avoid aliasing artifacts when down-sampling images.\n",
      "  warn(\"Anti-aliasing will be enabled by default in skimage 0.15 to \"\n"
     ]
    },
    {
     "name": "stdout",
     "output_type": "stream",
     "text": [
      "4  objects matches\n",
      "5 pred match\n",
      "7 total ground truth\n",
      "[ 3. -1.  5.  0.  6.]\n",
      "[0.99996436 0.9999527  0.99987423 0.9998253  0.9988576 ]\n"
     ]
    },
    {
     "name": "stderr",
     "output_type": "stream",
     "text": [
      "c:\\users\\mk5n2\\appdata\\local\\continuum\\anaconda3\\envs\\maskrcnn\\lib\\site-packages\\skimage\\transform\\_warps.py:110: UserWarning: Anti-aliasing will be enabled by default in skimage 0.15 to avoid aliasing artifacts when down-sampling images.\n",
      "  warn(\"Anti-aliasing will be enabled by default in skimage 0.15 to \"\n"
     ]
    },
    {
     "name": "stdout",
     "output_type": "stream",
     "text": [
      "5  objects matches\n",
      "6 pred match\n",
      "7 total ground truth\n",
      "[-1.  1.  0.  6.  5.  3.]\n",
      "[0.9999944 0.9999846 0.9999187 0.9999001 0.9996716 0.9792163]\n"
     ]
    },
    {
     "name": "stderr",
     "output_type": "stream",
     "text": [
      "c:\\users\\mk5n2\\appdata\\local\\continuum\\anaconda3\\envs\\maskrcnn\\lib\\site-packages\\skimage\\transform\\_warps.py:110: UserWarning: Anti-aliasing will be enabled by default in skimage 0.15 to avoid aliasing artifacts when down-sampling images.\n",
      "  warn(\"Anti-aliasing will be enabled by default in skimage 0.15 to \"\n"
     ]
    },
    {
     "name": "stdout",
     "output_type": "stream",
     "text": [
      "3  objects matches\n",
      "5 pred match\n",
      "7 total ground truth\n",
      "[-1.  1. -1.  0.  6.]\n",
      "[0.9999831  0.9999732  0.9999471  0.9996668  0.99890447]\n"
     ]
    },
    {
     "name": "stderr",
     "output_type": "stream",
     "text": [
      "c:\\users\\mk5n2\\appdata\\local\\continuum\\anaconda3\\envs\\maskrcnn\\lib\\site-packages\\skimage\\transform\\_warps.py:110: UserWarning: Anti-aliasing will be enabled by default in skimage 0.15 to avoid aliasing artifacts when down-sampling images.\n",
      "  warn(\"Anti-aliasing will be enabled by default in skimage 0.15 to \"\n"
     ]
    },
    {
     "name": "stdout",
     "output_type": "stream",
     "text": [
      "3  objects matches\n",
      "6 pred match\n",
      "7 total ground truth\n",
      "[ 0.  1. -1. -1. -1.  6.]\n",
      "[0.9999778  0.9999709  0.9999616  0.99995077 0.9998796  0.9983328 ]\n"
     ]
    },
    {
     "name": "stderr",
     "output_type": "stream",
     "text": [
      "c:\\users\\mk5n2\\appdata\\local\\continuum\\anaconda3\\envs\\maskrcnn\\lib\\site-packages\\skimage\\transform\\_warps.py:110: UserWarning: Anti-aliasing will be enabled by default in skimage 0.15 to avoid aliasing artifacts when down-sampling images.\n",
      "  warn(\"Anti-aliasing will be enabled by default in skimage 0.15 to \"\n"
     ]
    },
    {
     "name": "stdout",
     "output_type": "stream",
     "text": [
      "5  objects matches\n",
      "6 pred match\n",
      "7 total ground truth\n",
      "[ 1.  0.  5. -1.  3.  6.]\n",
      "[0.9999901  0.99985933 0.9997805  0.9990626  0.9974413  0.97500616]\n"
     ]
    },
    {
     "name": "stderr",
     "output_type": "stream",
     "text": [
      "c:\\users\\mk5n2\\appdata\\local\\continuum\\anaconda3\\envs\\maskrcnn\\lib\\site-packages\\skimage\\transform\\_warps.py:110: UserWarning: Anti-aliasing will be enabled by default in skimage 0.15 to avoid aliasing artifacts when down-sampling images.\n",
      "  warn(\"Anti-aliasing will be enabled by default in skimage 0.15 to \"\n"
     ]
    },
    {
     "name": "stdout",
     "output_type": "stream",
     "text": [
      "4  objects matches\n",
      "6 pred match\n",
      "7 total ground truth\n",
      "[ 5.  0.  1. -1. -1.  6.]\n",
      "[0.99998474 0.9999759  0.9999707  0.9998791  0.9976113  0.9953561 ]\n"
     ]
    },
    {
     "name": "stderr",
     "output_type": "stream",
     "text": [
      "c:\\users\\mk5n2\\appdata\\local\\continuum\\anaconda3\\envs\\maskrcnn\\lib\\site-packages\\skimage\\transform\\_warps.py:110: UserWarning: Anti-aliasing will be enabled by default in skimage 0.15 to avoid aliasing artifacts when down-sampling images.\n",
      "  warn(\"Anti-aliasing will be enabled by default in skimage 0.15 to \"\n"
     ]
    },
    {
     "name": "stdout",
     "output_type": "stream",
     "text": [
      "6  objects matches\n",
      "8 pred match\n",
      "7 total ground truth\n",
      "[ 1.  5.  0.  2.  3.  6. -1. -1.]\n",
      "[0.9999927  0.99991703 0.9997588  0.99769104 0.99433124 0.98779815\n",
      " 0.8184119  0.506964  ]\n"
     ]
    },
    {
     "name": "stderr",
     "output_type": "stream",
     "text": [
      "c:\\users\\mk5n2\\appdata\\local\\continuum\\anaconda3\\envs\\maskrcnn\\lib\\site-packages\\skimage\\transform\\_warps.py:110: UserWarning: Anti-aliasing will be enabled by default in skimage 0.15 to avoid aliasing artifacts when down-sampling images.\n",
      "  warn(\"Anti-aliasing will be enabled by default in skimage 0.15 to \"\n"
     ]
    },
    {
     "name": "stdout",
     "output_type": "stream",
     "text": [
      "5  objects matches\n",
      "7 pred match\n",
      "7 total ground truth\n",
      "[ 1.  0.  6.  5. -1.  4. -1.]\n",
      "[0.99997103 0.9999654  0.9997669  0.999178   0.9974361  0.9907844\n",
      " 0.9893534 ]\n"
     ]
    },
    {
     "name": "stderr",
     "output_type": "stream",
     "text": [
      "c:\\users\\mk5n2\\appdata\\local\\continuum\\anaconda3\\envs\\maskrcnn\\lib\\site-packages\\skimage\\transform\\_warps.py:110: UserWarning: Anti-aliasing will be enabled by default in skimage 0.15 to avoid aliasing artifacts when down-sampling images.\n",
      "  warn(\"Anti-aliasing will be enabled by default in skimage 0.15 to \"\n"
     ]
    },
    {
     "name": "stdout",
     "output_type": "stream",
     "text": [
      "5  objects matches\n",
      "6 pred match\n",
      "7 total ground truth\n",
      "[ 0.  1.  5.  4. -1.  6.]\n",
      "[0.99997747 0.99997103 0.999962   0.9982193  0.9935441  0.9569544 ]\n"
     ]
    },
    {
     "name": "stderr",
     "output_type": "stream",
     "text": [
      "c:\\users\\mk5n2\\appdata\\local\\continuum\\anaconda3\\envs\\maskrcnn\\lib\\site-packages\\skimage\\transform\\_warps.py:110: UserWarning: Anti-aliasing will be enabled by default in skimage 0.15 to avoid aliasing artifacts when down-sampling images.\n",
      "  warn(\"Anti-aliasing will be enabled by default in skimage 0.15 to \"\n"
     ]
    },
    {
     "name": "stdout",
     "output_type": "stream",
     "text": [
      "5  objects matches\n",
      "6 pred match\n",
      "7 total ground truth\n",
      "[ 1.  0.  6. -1.  4.  5.]\n",
      "[0.999956   0.99993384 0.999876   0.99901414 0.99861526 0.9941273 ]\n"
     ]
    },
    {
     "name": "stderr",
     "output_type": "stream",
     "text": [
      "c:\\users\\mk5n2\\appdata\\local\\continuum\\anaconda3\\envs\\maskrcnn\\lib\\site-packages\\skimage\\transform\\_warps.py:110: UserWarning: Anti-aliasing will be enabled by default in skimage 0.15 to avoid aliasing artifacts when down-sampling images.\n",
      "  warn(\"Anti-aliasing will be enabled by default in skimage 0.15 to \"\n"
     ]
    },
    {
     "name": "stdout",
     "output_type": "stream",
     "text": [
      "4  objects matches\n",
      "6 pred match\n",
      "7 total ground truth\n",
      "[-1.  0.  1.  5.  4. -1.]\n",
      "[0.99999166 0.99998486 0.99998295 0.9998543  0.9997968  0.9996326 ]\n"
     ]
    },
    {
     "name": "stderr",
     "output_type": "stream",
     "text": [
      "c:\\users\\mk5n2\\appdata\\local\\continuum\\anaconda3\\envs\\maskrcnn\\lib\\site-packages\\skimage\\transform\\_warps.py:110: UserWarning: Anti-aliasing will be enabled by default in skimage 0.15 to avoid aliasing artifacts when down-sampling images.\n",
      "  warn(\"Anti-aliasing will be enabled by default in skimage 0.15 to \"\n"
     ]
    },
    {
     "name": "stdout",
     "output_type": "stream",
     "text": [
      "4  objects matches\n",
      "6 pred match\n",
      "7 total ground truth\n",
      "[ 6.  0.  1. -1.  5. -1.]\n",
      "[0.99998   0.9999702 0.9999261 0.9986462 0.9986112 0.9964819]\n"
     ]
    },
    {
     "name": "stderr",
     "output_type": "stream",
     "text": [
      "c:\\users\\mk5n2\\appdata\\local\\continuum\\anaconda3\\envs\\maskrcnn\\lib\\site-packages\\skimage\\transform\\_warps.py:110: UserWarning: Anti-aliasing will be enabled by default in skimage 0.15 to avoid aliasing artifacts when down-sampling images.\n",
      "  warn(\"Anti-aliasing will be enabled by default in skimage 0.15 to \"\n"
     ]
    },
    {
     "name": "stdout",
     "output_type": "stream",
     "text": [
      "5  objects matches\n",
      "6 pred match\n",
      "7 total ground truth\n",
      "[ 0.  1.  5.  4. -1.  6.]\n",
      "[0.999985   0.99998415 0.9999155  0.9996842  0.9991473  0.98036385]\n",
      "6  objects matches\n",
      "7 pred match\n",
      "6 total ground truth\n",
      "[ 0.  2.  1.  5.  3.  4. -1.]\n",
      "[0.9999683  0.9999672  0.9999505  0.9996443  0.9993369  0.9501048\n",
      " 0.71077853]\n",
      "mAP @ IoU=60:  0.6355211978493017\n"
     ]
    },
    {
     "name": "stderr",
     "output_type": "stream",
     "text": [
      "c:\\users\\mk5n2\\appdata\\local\\continuum\\anaconda3\\envs\\maskrcnn\\lib\\site-packages\\skimage\\transform\\_warps.py:110: UserWarning: Anti-aliasing will be enabled by default in skimage 0.15 to avoid aliasing artifacts when down-sampling images.\n",
      "  warn(\"Anti-aliasing will be enabled by default in skimage 0.15 to \"\n"
     ]
    }
   ],
   "source": [
    "from mrcnn import utils\n",
    "#mAP calculation:\n",
    "image_ids = os.listdir('C:/Users/mk5n2/Mask/Inspire/CustomImages/test/test_dir/val_211/')\n",
    "# image_ids = image_ids[58:60]\n",
    "image_ids\n",
    "APs =[]\n",
    "# Compute VOC-style Average Precision\n",
    "def compute_batch_ap(image_ids):\n",
    "    APs = []\n",
    "    for image_id in image_ids:\n",
    "        # Load image\n",
    "        image, image_meta, gt_class_id, gt_bbox, gt_mask =\\\n",
    "            modellib.load_image_gt(dataset, config,\n",
    "                                   image_id, use_mini_mask=False)\n",
    "        # Run object detection\n",
    "        results = model.detect([image], verbose=0)\n",
    "        # Compute AP\n",
    "        r = results[0]\n",
    "        AP, precisions, recalls, overlaps =\\\n",
    "            utils.compute_ap(gt_bbox, gt_class_id, gt_mask,\n",
    "                              r['rois'], r['class_ids'], r['scores'], r['masks'])\n",
    "        APs.append(AP)\n",
    "    return APs\n",
    "\n",
    "# Pick a set of random images\n",
    "print (dataset)\n",
    "# image_ids = np.random.choice(dataset.image_ids, 212)\n",
    "image_ids= range(1,210)\n",
    "APs = compute_batch_ap(image_ids)\n",
    "print(\"mAP @ IoU=60: \", np.mean(APs))"
   ]
  },
  {
   "cell_type": "code",
   "execution_count": null,
   "metadata": {},
   "outputs": [],
   "source": [
    "##precision recall with temporal coherence"
   ]
  },
  {
   "cell_type": "code",
   "execution_count": null,
   "metadata": {},
   "outputs": [],
   "source": [
    "#precision_recall with temporal coherence\n",
    "# import winsound\n",
    "# import ctypes  #An included library with Python install. \n",
    "from mrcnn import visualize_frame_relation_4f\n",
    "testresult = 'C:/Users/mk5n2/Mask/Inspire/CustomImages/test/testresult/precision_train_1/'\n",
    "\n",
    "# Images from the following directory will be tested\n",
    "# test_dir = os.path.join(ROOT_DIR, \"CustomImages/test/test_dir/10frames_bridgeC_part1/\")\n",
    "# test_dir = 'C:/Users/mk5n2/Mask/Inspire/CustomImages/test/test_dir/precision_train_1/'\n",
    "test_dir = 'C:/Users/mk5n2/Mask/Inspire/CustomImages/test/test_dir/val_211/'\n",
    "\n",
    "# Creating a list with the names of all the test images in the test_dir\n",
    "testfiles= os.listdir(test_dir)\n",
    "# testfiles = testfiles[184:210]\n",
    "# in the 'c' variable we will store class_ids after every three images\n",
    "c=[]\n",
    "a=[]\n",
    "b=[]\n",
    "d=[]\n",
    "e=[]\n",
    "# s will store prediction score of joint\n",
    "s=[]\n",
    "# ita will store every iteration number\n",
    "ita=[]\n",
    "Xcor1=[]\n",
    "Ycor1=[]\n",
    "Xcor2=[]\n",
    "Ycor2=[]\n",
    "Xcor3=[]\n",
    "Ycor3=[]\n",
    "Xcor4=[]\n",
    "Ycor4=[]\n",
    "Xcor5=[]\n",
    "Ycor5=[]\n",
    "for i in range(0,len(testfiles)):\n",
    "    filename= os.path.join(test_dir,testfiles[i])\n",
    "    image = skimage.io.imread(filename)\n",
    "    file = testfiles[i]\n",
    "    \n",
    "    image, image_meta, gt_class_id, gt_bbox, gt_mask =\\\n",
    "    modellib.load_image_gt(dataset, config,\n",
    "                           i, use_mini_mask=False)\n",
    "    molded_images = np.expand_dims(modellib.mold_image(image, config), 0)\n",
    "    filesize = os.path.getsize(filename)\n",
    "    \n",
    "    #Run Detection\n",
    "    results = model.detect([image], verbose=1)\n",
    "    \n",
    "    #Display results\n",
    "#     ax = get_ax(1)\n",
    "    r = results[0]\n",
    "    class_ids = r['class_ids']\n",
    "    scores = r['scores']\n",
    "    \n",
    "    roi = r['rois']\n",
    "    t_roi = zip(*roi) #transpose roi\n",
    "    converted = list(t_roi) # converted to list from zip\n",
    "    if converted == []:\n",
    "        Xc = []\n",
    "        Yc = []\n",
    "    else:\n",
    "        Xc = converted[1]\n",
    "        Yc = converted[0]\n",
    "#     Xc= converted[1] # X coordinate of all objects will be stored \n",
    "#     Yc= converted[0] # Y coordinate of all objects will be stored\n",
    "    \n",
    "    mapped = zip(scores, class_ids,Xc,Yc)\n",
    "    mapped = list(mapped)\n",
    "    print(\"---\")\n",
    "    print(i)\n",
    "    print(file)\n",
    "    \n",
    "    # new variable 'a' is defined\n",
    "    # after every two images this 'a' variable will store the class_id for that image\n",
    "    \n",
    "    \n",
    "    if i in range(0,len(testfiles),5):\n",
    "        sc=[] #this will store scores\n",
    "        cl=[] # this will store class_ids\n",
    "        Xco =[]\n",
    "        Yco =[]\n",
    "        f_ref = 'f1'\n",
    "        print(f_ref)\n",
    "        \n",
    "#       this loop will eliminate all scores below 0.9 and will save remaining class_ids in cl\n",
    "        for k,l,m,n in mapped:\n",
    "            if k<0.9:\n",
    "                continue\n",
    "            sc.append(k)\n",
    "            cl.append(l)\n",
    "            Xco.append(m)\n",
    "            Yco.append(n)\n",
    "\n",
    "        gt_match, pred_match,overlaps =utils.compute_precision_recall_old_18_march(f_ref, file,gt_bbox, gt_class_id, gt_mask,\n",
    "                     r[\"rois\"], r[\"class_ids\"], r[\"scores\"], r['masks'],a,b, c, d, e,cl,Xco,Yco,Xcor1,Ycor1,Xcor2,Ycor2,Xcor3,Ycor3,Xcor4,Ycor4,Xcor5,Ycor5)\n",
    "        a= cl\n",
    "        Xcor1 = Xco\n",
    "        Ycor1 = Yco\n",
    "        \n",
    "        \n",
    "    elif i in range(1,len(testfiles),5):\n",
    "        sc=[] #this will store scores\n",
    "        cl=[] # this will store class_ids\n",
    "        Xco =[]\n",
    "        Yco =[]\n",
    "        f_ref = 'f2'\n",
    "        print(f_ref)        \n",
    "#       this loop will eliminate all scores below 0.9 and will save remaining class_ids in cl\n",
    "        for k,l,m,n in mapped:\n",
    "            if k<0.9:\n",
    "                continue\n",
    "            sc.append(k)\n",
    "            cl.append(l)\n",
    "            Xco.append(m)\n",
    "            Yco.append(n)\n",
    "\n",
    "        gt_match, pred_match,overlaps =utils.compute_precision_recall_old_18_march(f_ref, file,gt_bbox, gt_class_id, gt_mask,\n",
    "                     r[\"rois\"], r[\"class_ids\"], r[\"scores\"], r['masks'],a,b, c, d, e,cl,Xco,Yco,Xcor1,Ycor1,Xcor2,Ycor2,Xcor3,Ycor3,Xcor4,Ycor4,Xcor5,Ycor5)\n",
    "        b= cl\n",
    "        Xcor2 = Xco\n",
    "        Ycor2 = Yco\n",
    "        \n",
    "        \n",
    "    elif i in range(2,len(testfiles),5):\n",
    "        sc=[] #this will store scores\n",
    "        cl=[] # this will store class_ids\n",
    "        Xco =[]\n",
    "        Yco =[]\n",
    "        f_ref = 'f3'\n",
    "        print(f_ref)\n",
    "        \n",
    "#       this loop will eliminate all scores below 0.9 and will save remaining class_ids in cl\n",
    "        for k,l,m,n in mapped:\n",
    "            if k<0.9:\n",
    "                continue\n",
    "            sc.append(k)\n",
    "            cl.append(l)\n",
    "            Xco.append(m)\n",
    "            Yco.append(n)\n",
    "\n",
    "        gt_match, pred_match,overlaps =utils.compute_precision_recall_old_18_march(f_ref, file,gt_bbox, gt_class_id, gt_mask,\n",
    "                     r[\"rois\"], r[\"class_ids\"], r[\"scores\"], r['masks'],a,b, c, d, e,cl,Xco,Yco,Xcor1,Ycor1,Xcor2,Ycor2,Xcor3,Ycor3,Xcor4,Ycor4,Xcor5,Ycor5)\n",
    "        c= cl\n",
    "        Xcor3 = Xco\n",
    "        Ycor3 = Yco\n",
    "\n",
    "        \n",
    "    elif i in range(3,len(testfiles),5):\n",
    "        sc=[] #this will store scores\n",
    "        cl=[] # this will store class_ids\n",
    "        Xco =[]\n",
    "        Yco =[] \n",
    "        f_ref = 'f4'\n",
    "        print(f_ref)\n",
    "        \n",
    "#       this loop will eliminate all scores below 0.9 and will save remaining class_ids in cl\n",
    "        for k,l,m,n in mapped:\n",
    "            if k<0.9:\n",
    "                continue\n",
    "            sc.append(k)\n",
    "            cl.append(l)\n",
    "            Xco.append(m)\n",
    "            Yco.append(n)\n",
    "\n",
    "        gt_match, pred_match,overlaps =utils.compute_precision_recall_old_18_march(f_ref, file,gt_bbox, gt_class_id, gt_mask,\n",
    "                     r[\"rois\"], r[\"class_ids\"], r[\"scores\"], r['masks'],a,b, c, d, e,cl,Xco,Yco,Xcor1,Ycor1,Xcor2,Ycor2,Xcor3,Ycor3,Xcor4,Ycor4,Xcor5,Ycor5)\n",
    "        d= cl\n",
    "        Xcor4 = Xco\n",
    "        Ycor4 = Yco\n",
    "\n",
    "\n",
    "    elif i in range(4,len(testfiles),5):\n",
    "        sc=[] #this will store scores\n",
    "        cl=[] # this will store class_ids\n",
    "        Xco =[]\n",
    "        Yco =[]\n",
    "        f_ref = 'f5'\n",
    "        print(f_ref)\n",
    "        \n",
    "#       this loop will eliminate all scores below 0.9 and will save remaining class_ids in cl\n",
    "        for k,l,m,n in mapped:\n",
    "            if k<0.9:\n",
    "                continue\n",
    "            sc.append(k)\n",
    "            cl.append(l)\n",
    "            Xco.append(m)\n",
    "            Yco.append(n)\n",
    "\n",
    "        gt_match, pred_match,overlaps =utils.compute_precision_recall_old_18_march(f_ref, file,gt_bbox, gt_class_id, gt_mask,\n",
    "                     r[\"rois\"], r[\"class_ids\"], r[\"scores\"], r['masks'],a,b, c, d, e,cl,Xco,Yco,Xcor1,Ycor1,Xcor2,Ycor2,Xcor3,Ycor3,Xcor4,Ycor4,Xcor5,Ycor5)\n",
    "        e= cl\n",
    "        Xcor5 = Xco\n",
    "        Ycor5 = Yco\n",
    "        \n",
    "\n",
    "# ctypes.windll.user32.MessageBoxW(0, \"Testing Status\", \"Testing Complete\", 1)\n",
    "# frequency = 2500  # Set Frequency To 2500 Hertz\n",
    "# duration = 1200  # Set Duration To 1000 ms == 1 second\n",
    "# winsound.Beep(frequency, duration)"
   ]
  },
  {
   "cell_type": "markdown",
   "metadata": {},
   "source": [
    "### detection with Temporal coherence and spatial correlation parralel "
   ]
  },
  {
   "cell_type": "code",
   "execution_count": null,
   "metadata": {
    "scrolled": false
   },
   "outputs": [],
   "source": [
    "#Detection Code with temporal coherence\n",
    "# import winsound\n",
    "# import ctypes  # An included library with Python install. \n",
    "import time\n",
    "# from mrcnn import visualize_frame_relation_4f\n",
    "testresult = 'C:/Users/mk5n2/Mask/Inspire/CustomImages/test/testresult/pseudo_mask/' #bridge C\n",
    "# testresult = 'C:/Users/mk5n2/Mask/Inspire/CustomImages/test/testresult/bridgeA/' #bridge A\n",
    "# testresult = 'C:/Users/mk5n2/Mask/Inspire/CustomImages/test/testresult/bridgeB/' #bridge B\n",
    "\n",
    "# Images from the following directory will be tested\n",
    "# test_dir ='C:/Users/mk5n2/Mask/Inspire/CustomImages/test/test_dir/10frames_bridgeC_part1/' #Bridge C\n",
    "test_dir ='C:/Users/mk5n2/Mask/Inspire/CustomImages/test/test_dir/pseudo_mask/'\n",
    "# test_dir ='C:/Users/mk5n2/Mask/Inspire/CustomImages/test/test_dir/bridgeB/' #Bridge A\n",
    "\n",
    "# Creating a list with the names of all the test images in the test_dir\n",
    "testfiles= os.listdir(test_dir)\n",
    "# testfiles = testfiles[146:148]\n",
    "start= time.time()\n",
    "# testfiles = testfiles[0:1]\n",
    "# in the 'c' variable we will store class_ids after every three images\n",
    "c=[]\n",
    "a=[]\n",
    "b=[]\n",
    "d=[]\n",
    "e=[]\n",
    "# s will store prediction score of joint\n",
    "s=[]\n",
    "# ita will store every iteration number\n",
    "ita=[]\n",
    "Xcor1=[]\n",
    "Ycor1=[]\n",
    "Xcor2=[]\n",
    "Ycor2=[]\n",
    "Xcor3=[]\n",
    "Ycor3=[]\n",
    "Xcor4=[]\n",
    "Ycor4=[]\n",
    "Xcor5=[]\n",
    "Ycor5=[]\n",
    "json1 ={}\n",
    "for i in range(0,len(testfiles)):\n",
    "    filename= os.path.join(test_dir,testfiles[i])\n",
    "    image = skimage.io.imread(filename)\n",
    "    file = testfiles[i]\n",
    "    filesize = os.path.getsize(filename)\n",
    "    \n",
    "    #Run Detection\n",
    "    results = model.detect([image], verbose=1)\n",
    "    \n",
    "    #Display results\n",
    "    ax = get_ax(1)\n",
    "    r = results[0]\n",
    "    class_ids = r['class_ids']\n",
    "    scores = r['scores']\n",
    "    \n",
    "    roi = r['rois']\n",
    "    t_roi = zip(*roi) #transpose roi\n",
    "    converted = list(t_roi) # converted to list from zip\n",
    "    if converted == []:\n",
    "        Xc = []\n",
    "        Yc = []\n",
    "    else:\n",
    "        Xc = converted[1]\n",
    "        Yc = converted[0]\n",
    "#     Xc= converted[1] # X coordinate of all objects will be stored \n",
    "#     Yc= converted[0] # Y coordinate of all objects will be stored\n",
    "    \n",
    "    mapped = zip(scores, class_ids,Xc,Yc)\n",
    "    mapped = list(mapped)\n",
    "#     print(\"---\")\n",
    "#     print(i)\n",
    "#     print(file)\n",
    "    \n",
    "    # new variable 'a' is defined\n",
    "    # after every two images this 'a' variable will store the class_id for that image\n",
    "    \n",
    "    \n",
    "    if i in range(0,len(testfiles),5):\n",
    "        sc=[] #this will store scores\n",
    "        cl=[] # this will store class_ids\n",
    "        Xco =[]\n",
    "        Yco =[]\n",
    "        f_ref = 'f1'\n",
    "#         print(f_ref)\n",
    "        \n",
    "#       this loop will eliminate all scores below 0.9 and will save remaining class_ids in cl\n",
    "        for k,l,m,n in mapped:\n",
    "            if k<0.90:\n",
    "                continue\n",
    "            sc.append(k)\n",
    "            cl.append(l)\n",
    "            Xco.append(m)\n",
    "            Yco.append(n)\n",
    "#         print('before iteration f1: ',cl)\n",
    "\n",
    "        temporal_spatial_cor.display_instances(f_ref,image,file,filename,filesize,json1, r['rois'], r['masks'], r['class_ids'], \n",
    "                        dataset.class_names,a,b,c,d,e,cl,Xco,Yco,Xcor1,Ycor1,Xcor2,Ycor2,Xcor3,Ycor3,Xcor4,Ycor4,Xcor5,Ycor5, r['scores'], ax=ax,\n",
    "                        title=\"Predictions\")\n",
    "        a= cl\n",
    "#         print('after iteration f1: ', a)\n",
    "        Xcor1 = Xco\n",
    "        Ycor1 = Yco\n",
    "        \n",
    "        plt.savefig(testresult+testfiles[i])\n",
    "        \n",
    "        \n",
    "    elif i in range(1,len(testfiles),5):\n",
    "        sc=[] #this will store scores\n",
    "        cl=[] # this will store class_ids\n",
    "        Xco =[]\n",
    "        Yco =[]\n",
    "        f_ref = 'f2'\n",
    "#         print(f_ref)        \n",
    "#       this loop will eliminate all scores below 0.9 and will save remaining class_ids in cl\n",
    "        for k,l,m,n in mapped:\n",
    "            if k<0.9:\n",
    "                continue\n",
    "            sc.append(k)\n",
    "            cl.append(l)\n",
    "            Xco.append(m)\n",
    "            Yco.append(n)\n",
    "#         print('before iteration f2: ',cl)\n",
    "\n",
    "        temporal_spatial_cor.display_instances(f_ref,image,file,filename,filesize,json1, r['rois'], r['masks'], r['class_ids'], \n",
    "                        dataset.class_names,a,b,c,d,e,cl,Xco,Yco,Xcor1,Ycor1,Xcor2,Ycor2,Xcor3,Ycor3,Xcor4,Ycor4,Xcor5,Ycor5, r['scores'], ax=ax,\n",
    "                        title=\"Predictions\")\n",
    "        b= cl\n",
    "#         print('after iteration f2: ', b)\n",
    "        Xcor2 = Xco\n",
    "        Ycor2 = Yco\n",
    "        \n",
    "        plt.savefig(testresult+testfiles[i])\n",
    "        \n",
    "    elif i in range(2,len(testfiles),5):\n",
    "        sc=[] #this will store scores\n",
    "        cl=[] # this will store class_ids\n",
    "        Xco =[]\n",
    "        Yco =[]\n",
    "        f_ref = 'f3'\n",
    "#         print(f_ref)\n",
    "        \n",
    "#       this loop will eliminate all scores below 0.9 and will save remaining class_ids in cl\n",
    "        for k,l,m,n in mapped:\n",
    "            if k<0.9:\n",
    "                continue\n",
    "            sc.append(k)\n",
    "            cl.append(l)\n",
    "            Xco.append(m)\n",
    "            Yco.append(n)\n",
    "\n",
    "        temporal_spatial_cor.display_instances(f_ref,image,file,filename,filesize,json1, r['rois'], r['masks'], r['class_ids'], \n",
    "                        dataset.class_names,a,b,c,d,e,cl,Xco,Yco,Xcor1,Ycor1,Xcor2,Ycor2,Xcor3,Ycor3,Xcor4,Ycor4,Xcor5,Ycor5, r['scores'], ax=ax,\n",
    "                        title=\"Predictions\")\n",
    "        c= cl\n",
    "        Xcor3 = Xco\n",
    "        Ycor3 = Yco\n",
    "        \n",
    "        plt.savefig(testresult+testfiles[i])\n",
    "        \n",
    "    elif i in range(3,len(testfiles),5):\n",
    "        sc=[] #this will store scores\n",
    "        cl=[] # this will store class_ids\n",
    "        Xco =[]\n",
    "        Yco =[] \n",
    "        f_ref = 'f4'\n",
    "#         print(f_ref)\n",
    "        \n",
    "#       this loop will eliminate all scores below 0.9 and will save remaining class_ids in cl\n",
    "        for k,l,m,n in mapped:\n",
    "            if k<0.9:\n",
    "                continue\n",
    "            sc.append(k)\n",
    "            cl.append(l)\n",
    "            Xco.append(m)\n",
    "            Yco.append(n)\n",
    "\n",
    "        temporal_spatial_cor.display_instances(f_ref,image,file,filename,filesize,json1, r['rois'], r['masks'], r['class_ids'], \n",
    "                        dataset.class_names,a,b,c,d,e,cl,Xco,Yco,Xcor1,Ycor1,Xcor2,Ycor2,Xcor3,Ycor3,Xcor4,Ycor4,Xcor5,Ycor5, r['scores'], ax=ax,\n",
    "                        title=\"Predictions\")\n",
    "        d= cl\n",
    "        Xcor4 = Xco\n",
    "        Ycor4 = Yco\n",
    "        \n",
    "        plt.savefig(testresult+testfiles[i])\n",
    "\n",
    "    elif i in range(4,len(testfiles),5):\n",
    "        sc=[] #this will store scores\n",
    "        cl=[] # this will store class_ids\n",
    "        Xco =[]\n",
    "        Yco =[]\n",
    "        f_ref = 'f5'\n",
    "#         print(f_ref)\n",
    "        \n",
    "#       this loop will eliminate all scores below 0.9 and will save remaining class_ids in cl\n",
    "        for k,l,m,n in mapped:\n",
    "            if k<0.9:\n",
    "                continue\n",
    "            sc.append(k)\n",
    "            cl.append(l)\n",
    "            Xco.append(m)\n",
    "            Yco.append(n)\n",
    "\n",
    "        temporal_spatial_cor.display_instances(f_ref,image,file,filename,filesize,json1, r['rois'], r['masks'], r['class_ids'], \n",
    "                        dataset.class_names,a,b,c,d,e,cl,Xco,Yco,Xcor1,Ycor1,Xcor2,Ycor2,Xcor3,Ycor3,Xcor4,Ycor4,Xcor5,Ycor5, r['scores'], ax=ax,\n",
    "                        title=\"Predictions\")\n",
    "        e= cl\n",
    "        Xcor5 = Xco\n",
    "        Ycor5 = Yco\n",
    "        \n",
    "        plt.savefig(testresult+testfiles[i])\n",
    "\n",
    "# frequency = 2500  # Set Frequency To 2500 Hertz\n",
    "# duration = 1200  # Set Duration To 1000 ms == 1 second\n",
    "# winsound.Beep(frequency, duration)\n",
    "end = time.time()\n",
    "time_taken = (end-start)\n",
    "print(time_taken)\n",
    "\n",
    "# file = open(\"training_time.txt\",\"w\")\n",
    "# file.write(time_taken)\n",
    "# file.close()\n",
    "# ctypes.windll.user32.MessageBoxW(0, \"Testing Status\", \"Testing Complete\", 1)"
   ]
  },
  {
   "cell_type": "markdown",
   "metadata": {},
   "source": [
    "### Precision_recall for spatial and temporal coherence"
   ]
  },
  {
   "cell_type": "code",
   "execution_count": null,
   "metadata": {
    "scrolled": true
   },
   "outputs": [],
   "source": [
    "#precision_recall with temporal coherence\n",
    "# import winsound\n",
    "# import ctypes  #An included library with Python install. \n",
    "from mrcnn import visualize_frame_relation_4f\n",
    "testresult = 'C:/Users/mk5n2/Mask/Inspire/CustomImages/test/testresult/precision_train_1/'\n",
    "\n",
    "# Images from the following directory will be tested\n",
    "# test_dir = os.path.join(ROOT_DIR, \"CustomImages/test/test_dir/10frames_bridgeC_part1/\")\n",
    "# test_dir = 'C:/Users/mk5n2/Mask/Inspire/CustomImages/test/test_dir/precision_train_1/'\n",
    "test_dir = 'C:/Users/mk5n2/Mask/Inspire/CustomImages/test/test_dir/precision_train_1/'\n",
    "\n",
    "# Creating a list with the names of all the test images in the test_dir\n",
    "testfiles= os.listdir(test_dir)\n",
    "# testfiles = testfiles[0:1]\n",
    "# in the 'c' variable we will store class_ids after every three images\n",
    "c=[]\n",
    "a=[]\n",
    "b=[]\n",
    "d=[]\n",
    "e=[]\n",
    "# s will store prediction score of joint\n",
    "s=[]\n",
    "# ita will store every iteration number\n",
    "ita=[]\n",
    "Xcor1=[]\n",
    "Ycor1=[]\n",
    "Xcor2=[]\n",
    "Ycor2=[]\n",
    "Xcor3=[]\n",
    "Ycor3=[]\n",
    "Xcor4=[]\n",
    "Ycor4=[]\n",
    "Xcor5=[]\n",
    "Ycor5=[]\n",
    "for i in range(0,len(testfiles)):\n",
    "    filename= os.path.join(test_dir,testfiles[i])\n",
    "    image = skimage.io.imread(filename)\n",
    "    file = testfiles[i]\n",
    "    \n",
    "    image, image_meta, gt_class_id, gt_bbox, gt_mask =\\\n",
    "    modellib.load_image_gt(dataset, config,\n",
    "                           i, use_mini_mask=False)\n",
    "    molded_images = np.expand_dims(modellib.mold_image(image, config), 0)\n",
    "    filesize = os.path.getsize(filename)\n",
    "    \n",
    "    #Run Detection\n",
    "    results = model.detect([image], verbose=1)\n",
    "    \n",
    "    #Display results\n",
    "#     ax = get_ax(1)\n",
    "    r = results[0]\n",
    "    class_ids = r['class_ids']\n",
    "    scores = r['scores']\n",
    "    \n",
    "    roi = r['rois']\n",
    "    t_roi = zip(*roi) #transpose roi\n",
    "    converted = list(t_roi) # converted to list from zip\n",
    "    if converted == []:\n",
    "        Xc = []\n",
    "        Yc = []\n",
    "    else:\n",
    "        Xc = converted[1]\n",
    "        Yc = converted[0]\n",
    "#     Xc= converted[1] # X coordinate of all objects will be stored \n",
    "#     Yc= converted[0] # Y coordinate of all objects will be stored\n",
    "    \n",
    "    mapped = zip(scores, class_ids,Xc,Yc)\n",
    "    mapped = list(mapped)\n",
    "    print(\"---\")\n",
    "    print(i)\n",
    "    print(file)\n",
    "    \n",
    "    # new variable 'a' is defined\n",
    "    # after every two images this 'a' variable will store the class_id for that image\n",
    "    \n",
    "    \n",
    "    if i in range(0,len(testfiles),5):\n",
    "        sc=[] #this will store scores\n",
    "        cl=[] # this will store class_ids\n",
    "        Xco =[]\n",
    "        Yco =[]\n",
    "        f_ref = 'f1'\n",
    "        print(f_ref)\n",
    "        \n",
    "#       this loop will eliminate all scores below 0.9 and will save remaining class_ids in cl\n",
    "        for k,l,m,n in mapped:\n",
    "            if k<0.985:\n",
    "                continue\n",
    "            sc.append(k)\n",
    "            cl.append(l)\n",
    "            Xco.append(m)\n",
    "            Yco.append(n)\n",
    "\n",
    "        gt_match, pred_match,overlaps =utils.compute_precision_recall_spatial_correlation_temporal(f_ref, file,gt_bbox, gt_class_id, gt_mask,\n",
    "                     r[\"rois\"], r[\"class_ids\"], r[\"scores\"], r['masks'],a,b, c, d, e,cl,Xco,Yco,Xcor1,Ycor1,Xcor2,Ycor2,Xcor3,Ycor3,Xcor4,Ycor4,Xcor5,Ycor5)\n",
    "        a= cl\n",
    "        Xcor1 = Xco\n",
    "        Ycor1 = Yco\n",
    "        \n",
    "        \n",
    "    elif i in range(1,len(testfiles),5):\n",
    "        sc=[] #this will store scores\n",
    "        cl=[] # this will store class_ids\n",
    "        Xco =[]\n",
    "        Yco =[]\n",
    "        f_ref = 'f2'\n",
    "        print(f_ref)        \n",
    "#       this loop will eliminate all scores below 0.9 and will save remaining class_ids in cl\n",
    "        for k,l,m,n in mapped:\n",
    "            if k<0.985:\n",
    "                continue\n",
    "            sc.append(k)\n",
    "            cl.append(l)\n",
    "            Xco.append(m)\n",
    "            Yco.append(n)\n",
    "\n",
    "        gt_match, pred_match,overlaps =utils.compute_precision_recall_spatial_correlation_temporal(f_ref, file,gt_bbox, gt_class_id, gt_mask,\n",
    "                     r[\"rois\"], r[\"class_ids\"], r[\"scores\"], r['masks'],a,b, c, d, e,cl,Xco,Yco,Xcor1,Ycor1,Xcor2,Ycor2,Xcor3,Ycor3,Xcor4,Ycor4,Xcor5,Ycor5)\n",
    "        b= cl\n",
    "        Xcor2 = Xco\n",
    "        Ycor2 = Yco\n",
    "        \n",
    "        \n",
    "    elif i in range(2,len(testfiles),5):\n",
    "        sc=[] #this will store scores\n",
    "        cl=[] # this will store class_ids\n",
    "        Xco =[]\n",
    "        Yco =[]\n",
    "        f_ref = 'f3'\n",
    "        print(f_ref)\n",
    "        \n",
    "#       this loop will eliminate all scores below 0.9 and will save remaining class_ids in cl\n",
    "        for k,l,m,n in mapped:\n",
    "            if k<0.985:\n",
    "                continue\n",
    "            sc.append(k)\n",
    "            cl.append(l)\n",
    "            Xco.append(m)\n",
    "            Yco.append(n)\n",
    "\n",
    "        gt_match, pred_match,overlaps =utils.compute_precision_recall_spatial_correlation_temporal(f_ref, file,gt_bbox, gt_class_id, gt_mask,\n",
    "                     r[\"rois\"], r[\"class_ids\"], r[\"scores\"], r['masks'],a,b, c, d, e,cl,Xco,Yco,Xcor1,Ycor1,Xcor2,Ycor2,Xcor3,Ycor3,Xcor4,Ycor4,Xcor5,Ycor5)\n",
    "        c= cl\n",
    "        Xcor3 = Xco\n",
    "        Ycor3 = Yco\n",
    "\n",
    "        \n",
    "    elif i in range(3,len(testfiles),5):\n",
    "        sc=[] #this will store scores\n",
    "        cl=[] # this will store class_ids\n",
    "        Xco =[]\n",
    "        Yco =[] \n",
    "        f_ref = 'f4'\n",
    "        print(f_ref)\n",
    "        \n",
    "#       this loop will eliminate all scores below 0.9 and will save remaining class_ids in cl\n",
    "        for k,l,m,n in mapped:\n",
    "            if k<0.985:\n",
    "                continue\n",
    "            sc.append(k)\n",
    "            cl.append(l)\n",
    "            Xco.append(m)\n",
    "            Yco.append(n)\n",
    "\n",
    "        gt_match, pred_match,overlaps =utils.compute_precision_recall_spatial_correlation_temporal(f_ref, file,gt_bbox, gt_class_id, gt_mask,\n",
    "                     r[\"rois\"], r[\"class_ids\"], r[\"scores\"], r['masks'],a,b, c, d, e,cl,Xco,Yco,Xcor1,Ycor1,Xcor2,Ycor2,Xcor3,Ycor3,Xcor4,Ycor4,Xcor5,Ycor5)\n",
    "        d= cl\n",
    "        Xcor4 = Xco\n",
    "        Ycor4 = Yco\n",
    "\n",
    "\n",
    "    elif i in range(4,len(testfiles),5):\n",
    "        sc=[] #this will store scores\n",
    "        cl=[] # this will store class_ids\n",
    "        Xco =[]\n",
    "        Yco =[]\n",
    "        f_ref = 'f5'\n",
    "        print(f_ref)\n",
    "        \n",
    "#       this loop will eliminate all scores below 0.9 and will save remaining class_ids in cl\n",
    "        for k,l,m,n in mapped:\n",
    "            if k<0.985:\n",
    "                continue\n",
    "            sc.append(k)\n",
    "            cl.append(l)\n",
    "            Xco.append(m)\n",
    "            Yco.append(n)\n",
    "\n",
    "        gt_match, pred_match,overlaps =utils.compute_precision_recall_spatial_correlation_temporal(f_ref, file,gt_bbox, gt_class_id, gt_mask,\n",
    "                     r[\"rois\"], r[\"class_ids\"], r[\"scores\"], r['masks'],a,b, c, d, e,cl,Xco,Yco,Xcor1,Ycor1,Xcor2,Ycor2,Xcor3,Ycor3,Xcor4,Ycor4,Xcor5,Ycor5)\n",
    "        e= cl\n",
    "        Xcor5 = Xco\n",
    "        Ycor5 = Yco\n",
    "        \n",
    "\n",
    "# ctypes.windll.user32.MessageBoxW(0, \"Testing Status\", \"Testing Complete\", 1)\n",
    "# frequency = 2500  # Set Frequency To 2500 Hertz\n",
    "# duration = 1200  # Set Duration To 1000 ms == 1 second\n",
    "# winsound.Beep(frequency, duration)"
   ]
  },
  {
   "cell_type": "markdown",
   "metadata": {},
   "source": [
    "### The following line is only for the detection code"
   ]
  },
  {
   "cell_type": "code",
   "execution_count": null,
   "metadata": {},
   "outputs": [],
   "source": [
    "print(\"\\033[1;32;40m help\", x)"
   ]
  },
  {
   "cell_type": "code",
   "execution_count": null,
   "metadata": {
    "scrolled": false
   },
   "outputs": [],
   "source": [
    "# My original detection code: (Without temporal coherence)\n",
    "#-------------------------------------------------------------\n",
    "# Test results will be saved in the following directory\n",
    "testresult = 'C:/Users/mk5n2/Mask/Inspire/CustomImages/test/testresult/before_high/'\n",
    "\n",
    "# Images from the following directory will be tested\n",
    "test_dir ='C:/Users/mk5n2/Mask/Inspire/CustomImages/test/test_dir/precision_train_1/'\n",
    "# test_dir ='C:/Users/mk5n2/Mask/Inspire/CustomImages/test/test_dir/spatial_correlation/'\n",
    "\n",
    "# Creating a list with the names of all the test images from the test_dir\n",
    "testfiles= os.listdir(test_dir)\n",
    "# testfiles = testfiles[6:7]\n",
    "\n",
    "#looping through all images in the test_dir\n",
    "start = time.time()\n",
    "for i in range(len(testfiles)):\n",
    "    filename= os.path.join(test_dir,testfiles[i])\n",
    "    image = skimage.io.imread(filename)\n",
    "    \n",
    "    #Run Detection\n",
    "    results = model.detect([image], verbose=1)\n",
    "    \n",
    "    #Display results\n",
    "    ax = get_ax(1)\n",
    "    r = results[0]\n",
    "    spatial_cor.display_instances(image, r['rois'], r['masks'], r['class_ids'], \n",
    "                            dataset.class_names, r['scores'], ax=ax,\n",
    "                            title=\"Predictions\")\n",
    "    plt.savefig(testresult+testfiles[i])  \n",
    "\n",
    "end = time.time()\n",
    "time_taken = (end-start)\n",
    "print(time_taken)\n",
    "# print('done')"
   ]
  },
  {
   "cell_type": "code",
   "execution_count": null,
   "metadata": {},
   "outputs": [],
   "source": []
  },
  {
   "cell_type": "markdown",
   "metadata": {},
   "source": [
    "##### Trying different batch size"
   ]
  },
  {
   "cell_type": "code",
   "execution_count": null,
   "metadata": {},
   "outputs": [],
   "source": [
    "#Trial to change the batch size\n",
    "# My original detection code: (Without temporal coherence)\n",
    "#-------------------------------------------------------------\n",
    "# Test results will be saved in the following directory\n",
    "testresult = 'C:/Users/mk5n2/Mask/Inspire/CustomImages/test/testresult/speed/'\n",
    "\n",
    "# Images from the following directory will be tested\n",
    "# test_dir ='C:/Users/mk5n2/Mask/Inspire/CustomImages/test/test_dir/precision/'\n",
    "test_dir ='C:/Users/mk5n2/Mask/Inspire/CustomImages/test/test_dir/speed/'\n",
    "\n",
    "# Creating a list with the names of all the test images from the test_dir\n",
    "testfiles= os.listdir(test_dir)\n",
    "# testfiles = testfiles[0:2]\n",
    "\n",
    "#looping through all images in the test_dir\n",
    "start = time.time()\n",
    "for i in range(0,len(testfiles),3):\n",
    "    filename= os.path.join(test_dir,testfiles[i])\n",
    "    filename1= os.path.join(test_dir,testfiles[i+1])\n",
    "    filename2= os.path.join(test_dir,testfiles[i+2])\n",
    "    image = skimage.io.imread(filename)\n",
    "    image1 = skimage.io.imread(filename1)\n",
    "    image2 = skimage.io.imread(filename2)\n",
    "    \n",
    "    #Run Detection\n",
    "    results = model.detect([image,image1,image2], verbose=1)\n",
    "    \n",
    "    #Display results\n",
    "    ax = get_ax(1)\n",
    "    ax1 = get_ax(1)\n",
    "    ax2 = get_ax(1)\n",
    "    \n",
    "    r = results[0]\n",
    "    r1 = results[1]\n",
    "    r2 = results[2]\n",
    "\n",
    "    visualize.display_instances(image, r['rois'], r['masks'], r['class_ids'], \n",
    "                            dataset.class_names, r['scores'], ax=ax,\n",
    "                            title=\"Predictions\")\n",
    "    plt.savefig(testresult+testfiles[i])\n",
    "    visualize.display_instances(image1, r1['rois'], r1['masks'], r1['class_ids'], \n",
    "                            dataset.class_names, r1['scores'], ax=ax1,\n",
    "                            title=\"Predictions\")    \n",
    "    plt.savefig(testresult+testfiles[i+1])\n",
    "    \n",
    "    visualize.display_instances(image1, r2['rois'], r2['masks'], r2['class_ids'], \n",
    "                            dataset.class_names, r2['scores'], ax=ax2,\n",
    "                            title=\"Predictions\")    \n",
    "    plt.savefig(testresult+testfiles[i+2])\n",
    "end = time.time()\n",
    "time_taken = (end-start)\n",
    "print(time_taken)\n",
    "# print('done')"
   ]
  },
  {
   "cell_type": "markdown",
   "metadata": {},
   "source": [
    "### Precision_recall only in Mask RCNN"
   ]
  },
  {
   "cell_type": "code",
   "execution_count": null,
   "metadata": {},
   "outputs": [],
   "source": [
    "import winsound\n",
    "from mrcnn import utils\n",
    "# Test results will be saved in the following directory\n",
    "from mrcnn import visualize_frame_relation_4f\n",
    "testresult = 'C:/Users/mk5n2/Mask/Inspire/CustomImages/test/testresult/precision_train_1/'\n",
    "\n",
    "# Images from the following directory will be tested\n",
    "# test_dir = 'C:/Users/mk5n2/Mask/Inspire/CustomImages/test/test_dir/precision_train_1/'\n",
    "test_dir = 'C:/Users/mk5n2/Mask/Inspire/CustomImages/test/test_dir/val_211/'\n",
    "\n",
    "# Creating a list with the names of all the test images in the test_dir\n",
    "testfiles= os.listdir(test_dir)\n",
    "# testfiles = testfiles[3:4]\n",
    "# in the 'c' variable we will store class_ids after every three images\n",
    "c=[]\n",
    "a=[]\n",
    "d=[]\n",
    "e=[]\n",
    "# s will store prediction score of joint\n",
    "s=[]\n",
    "# ita will store every iteration number\n",
    "ita=[]\n",
    "Xcor=[]\n",
    "Ycor=[]\n",
    "Xcor3=[]\n",
    "Ycor3=[]\n",
    "Xcor4=[]\n",
    "Ycor4=[]\n",
    "Xcor5=[]\n",
    "Ycor5=[]\n",
    "for i, name in enumerate(testfiles):\n",
    "    # Load image and ground truth data\n",
    "    image, image_meta, gt_class_id, gt_bbox, gt_mask =\\\n",
    "    modellib.load_image_gt(dataset, config,\n",
    "                           i, use_mini_mask=False)\n",
    "    molded_images = np.expand_dims(modellib.mold_image(image, config), 0)\n",
    "    \n",
    "    filename= os.path.join(test_dir,testfiles[i])\n",
    "#     image = skimage.io.imread(filename)\n",
    "    file = testfiles[i]\n",
    "    filesize = os.path.getsize(filename)\n",
    "    \n",
    "    #Run Detection\n",
    "    results = model.detect([image], verbose=1)\n",
    "    \n",
    "    #Display results\n",
    "#     ax = get_ax(1)\n",
    "    r = results[0]\n",
    "    class_ids = r['class_ids']\n",
    "    scores = r['scores']\n",
    "    \n",
    "    roi = r['rois']\n",
    "    t_roi = zip(*roi) #transpose roi\n",
    "    converted = list(t_roi) # converted to list from zip\n",
    "    Xc= converted[1] # X coordinate of all objects will be stored \n",
    "    Yc= converted[0] # Y coordinate of all objects will be stored\n",
    "    \n",
    "    mapped = zip(scores, class_ids,Xc,Yc)\n",
    "    mapped = list(mapped)\n",
    "    gt_match, pred_match,overlaps =utils.compute_precision_recall_old_version(file,gt_bbox, gt_class_id, gt_mask,\n",
    "                     r[\"rois\"], r[\"class_ids\"], r[\"scores\"], r['masks'])\n",
    "#     visualize_frame_relation_4f.display_instances(image, r['rois'], r['masks'], r['class_ids'], \n",
    "#                             dataset.class_names, r['scores'], ax=ax,\n",
    "#                             title=\"Predictions\")\n",
    "    \n",
    "    # new variable 'a' is defined\n",
    "    # after every two images this 'a' variable will store the class_id for that image\n",
    "    print(class_ids, 'for i =', i)\n",
    "    print(scores, 'for i =', i)\n",
    "    print(filename)\n",
    "      \n",
    "\n",
    "frequency = 3500  # Set Frequency To 2500 Hertz\n",
    "duration = 100  # Set Duration To 1000 ms == 1 second\n",
    "# winsound.Beep(frequency, duration)"
   ]
  },
  {
   "cell_type": "markdown",
   "metadata": {},
   "source": [
    "### Detection Code with temporal coherence"
   ]
  },
  {
   "cell_type": "code",
   "execution_count": null,
   "metadata": {
    "scrolled": false
   },
   "outputs": [],
   "source": [
    "#Detection Code with temporal coherence\n",
    "import winsound\n",
    "import time\n",
    "from mrcnn import visualize_frame_relation_4f\n",
    "testresult = 'C:/Users/mk5n2/Mask/Inspire/CustomImages/test/testresult/temporal_time_calculation/'\n",
    "\n",
    "# Images from the following directory will be tested\n",
    "test_dir ='C:/Users/mk5n2/Desktop/reduced_image/'\n",
    "\n",
    "# Creating a list with the names of all the test images in the test_dir\n",
    "testfiles= os.listdir(test_dir)\n",
    "# testfiles = testfiles[0:503]\n",
    "# in the 'c' variable we will store class_ids after every three images\n",
    "c=[]\n",
    "a=[]\n",
    "b=[]\n",
    "d=[]\n",
    "e=[]\n",
    "# s will store prediction score of joint\n",
    "s=[]\n",
    "# ita will store every iteration number\n",
    "ita=[]\n",
    "Xcor1=[]\n",
    "Ycor1=[]\n",
    "Xcor2=[]\n",
    "Ycor2=[]\n",
    "Xcor3=[]\n",
    "Ycor3=[]\n",
    "Xcor4=[]\n",
    "Ycor4=[]\n",
    "Xcor5=[]\n",
    "Ycor5=[]\n",
    "start =time.time()\n",
    "\n",
    "for i in range(0,len(testfiles)):\n",
    "    filename= os.path.join(test_dir,testfiles[i])\n",
    "    image = skimage.io.imread(filename)\n",
    "    file = testfiles[i]\n",
    "    filesize = os.path.getsize(filename)\n",
    "    \n",
    "    #Run Detection\n",
    "    results = model.detect([image], verbose=1)\n",
    "    \n",
    "    #Display results\n",
    "    ax = get_ax(1)\n",
    "    r = results[0]\n",
    "    class_ids = r['class_ids']\n",
    "    scores = r['scores']\n",
    "    \n",
    "    roi = r['rois']\n",
    "    t_roi = zip(*roi) #transpose roi\n",
    "    converted = list(t_roi) # converted to list from zip\n",
    "    if converted == []:\n",
    "        Xc = []\n",
    "        Yc = []\n",
    "    else:\n",
    "        Xc = converted[1]\n",
    "        Yc = converted[0]\n",
    "#     Xc= converted[1] # X coordinate of all objects will be stored \n",
    "#     Yc= converted[0] # Y coordinate of all objects will be stored\n",
    "    \n",
    "    mapped = zip(scores, class_ids,Xc,Yc)\n",
    "    mapped = list(mapped)\n",
    "    print(\"---\")\n",
    "    print(i)\n",
    "    print(file)\n",
    "    \n",
    "    # new variable 'a' is defined\n",
    "    # after every two images this 'a' variable will store the class_id for that image\n",
    "    \n",
    "    \n",
    "    if i in range(0,len(testfiles),5):\n",
    "        sc=[] #this will store scores\n",
    "        cl=[] # this will store class_ids\n",
    "        Xco =[]\n",
    "        Yco =[]\n",
    "        f_ref = 'f1'\n",
    "        print(f_ref)\n",
    "        \n",
    "#       this loop will eliminate all scores below 0.9 and will save remaining class_ids in cl\n",
    "        for k,l,m,n in mapped:\n",
    "            if k<0.9:\n",
    "                continue\n",
    "            sc.append(k)\n",
    "            cl.append(l)\n",
    "            Xco.append(m)\n",
    "            Yco.append(n)\n",
    "\n",
    "        visualize_frame_relation_4f.display_instances_5f_for_annotation(f_ref,image,file,filename,filesize, r['rois'], r['masks'], r['class_ids'], \n",
    "                        dataset.class_names,a,b,c,d,e,Xcor1,Ycor1,Xcor2,Ycor2,Xcor3,Ycor3,Xcor4,Ycor4,Xcor5,Ycor5, r['scores'], ax=ax,\n",
    "                        title=\"Predictions\")\n",
    "        a= cl\n",
    "        Xcor1 = Xco\n",
    "        Ycor1 = Yco\n",
    "        \n",
    "        plt.savefig(testresult+testfiles[i])\n",
    "        \n",
    "        \n",
    "    elif i in range(1,len(testfiles),5):\n",
    "        sc=[] #this will store scores\n",
    "        cl=[] # this will store class_ids\n",
    "        Xco =[]\n",
    "        Yco =[]\n",
    "        f_ref = 'f2'\n",
    "        print(f_ref)        \n",
    "#       this loop will eliminate all scores below 0.9 and will save remaining class_ids in cl\n",
    "        for k,l,m,n in mapped:\n",
    "            if k<0.9:\n",
    "                continue\n",
    "            sc.append(k)\n",
    "            cl.append(l)\n",
    "            Xco.append(m)\n",
    "            Yco.append(n)\n",
    "\n",
    "        visualize_frame_relation_4f.display_instances_5f_for_annotation(f_ref,image,file,filename,filesize, r['rois'], r['masks'], r['class_ids'], \n",
    "                        dataset.class_names,a,b,c,d,e,Xcor1,Ycor1,Xcor2,Ycor2,Xcor3,Ycor3,Xcor4,Ycor4,Xcor5,Ycor5, r['scores'], ax=ax,\n",
    "                        title=\"Predictions\")\n",
    "        b= cl\n",
    "        Xcor2 = Xco\n",
    "        Ycor2 = Yco\n",
    "        \n",
    "        plt.savefig(testresult+testfiles[i])\n",
    "        \n",
    "    elif i in range(2,len(testfiles),5):\n",
    "        sc=[] #this will store scores\n",
    "        cl=[] # this will store class_ids\n",
    "        Xco =[]\n",
    "        Yco =[]\n",
    "        f_ref = 'f3'\n",
    "        print(f_ref)\n",
    "        \n",
    "#       this loop will eliminate all scores below 0.9 and will save remaining class_ids in cl\n",
    "        for k,l,m,n in mapped:\n",
    "            if k<0.9:\n",
    "                continue\n",
    "            sc.append(k)\n",
    "            cl.append(l)\n",
    "            Xco.append(m)\n",
    "            Yco.append(n)\n",
    "\n",
    "        visualize_frame_relation_4f.display_instances_5f_for_annotation(f_ref,image,file,filename,filesize, r['rois'], r['masks'], r['class_ids'], \n",
    "                        dataset.class_names,a,b,c,d,e,Xcor1,Ycor1,Xcor2,Ycor2,Xcor3,Ycor3,Xcor4,Ycor4,Xcor5,Ycor5, r['scores'], ax=ax,\n",
    "                        title=\"Predictions\")\n",
    "        c= cl\n",
    "        Xcor3 = Xco\n",
    "        Ycor3 = Yco\n",
    "        \n",
    "        plt.savefig(testresult+testfiles[i])\n",
    "        \n",
    "    elif i in range(3,len(testfiles),5):\n",
    "        sc=[] #this will store scores\n",
    "        cl=[] # this will store class_ids\n",
    "        Xco =[]\n",
    "        Yco =[] \n",
    "        f_ref = 'f4'\n",
    "        print(f_ref)\n",
    "        \n",
    "#       this loop will eliminate all scores below 0.9 and will save remaining class_ids in cl\n",
    "        for k,l,m,n in mapped:\n",
    "            if k<0.9:\n",
    "                continue\n",
    "            sc.append(k)\n",
    "            cl.append(l)\n",
    "            Xco.append(m)\n",
    "            Yco.append(n)\n",
    "\n",
    "        visualize_frame_relation_4f.display_instances_5f_for_annotation(f_ref,image,file,filename,filesize, r['rois'], r['masks'], r['class_ids'], \n",
    "                        dataset.class_names,a,b,c,d,e,Xcor1,Ycor1,Xcor2,Ycor2,Xcor3,Ycor3,Xcor4,Ycor4,Xcor5,Ycor5, r['scores'], ax=ax,\n",
    "                        title=\"Predictions\")\n",
    "        d= cl\n",
    "        Xcor4 = Xco\n",
    "        Ycor4 = Yco\n",
    "       \n",
    "        plt.savefig(testresult+testfiles[i])\n",
    "\n",
    "    elif i in range(4,len(testfiles),5):\n",
    "        sc=[] #this will store scores\n",
    "        cl=[] # this will store class_ids\n",
    "        Xco =[]\n",
    "        Yco =[]\n",
    "        f_ref = 'f5'\n",
    "        print(f_ref)\n",
    "        \n",
    "#       this loop will eliminate all scores below 0.9 and will save remaining class_ids in cl\n",
    "        for k,l,m,n in mapped:\n",
    "            if k<0.9:\n",
    "                continue\n",
    "            sc.append(k)\n",
    "            cl.append(l)\n",
    "            Xco.append(m)\n",
    "            Yco.append(n)\n",
    "\n",
    "        visualize_frame_relation_4f.display_instances_5f_for_annotation(f_ref,image,file,filename,filesize, r['rois'], r['masks'], r['class_ids'], \n",
    "                        dataset.class_names,a,b,c,d,e,Xcor1,Ycor1,Xcor2,Ycor2,Xcor3,Ycor3,Xcor4,Ycor4,Xcor5,Ycor5, r['scores'], ax=ax,\n",
    "                        title=\"Predictions\")\n",
    "        e= cl\n",
    "        Xcor5 = Xco\n",
    "        Ycor5 = Yco\n",
    "        \n",
    "        plt.savefig(testresult+testfiles[i])\n",
    "\n",
    "end = time.time()\n",
    "time_taken = (end-start)\n",
    "print(time_taken)\n",
    "# frequency = 2500  # Set Frequency To 2500 Hertz\n",
    "# duration = 1200  # Set Duration To 1000 ms == 1 second\n",
    "# winsound.Beep(frequency, duration)"
   ]
  },
  {
   "cell_type": "markdown",
   "metadata": {},
   "source": [
    "### detection code with Spatial correletion and temporal coherence"
   ]
  },
  {
   "cell_type": "code",
   "execution_count": null,
   "metadata": {
    "scrolled": false
   },
   "outputs": [],
   "source": [
    "#Detection Code with temporal coherence\n",
    "# import winsound\n",
    "# import ctypes  # An included library with Python install. \n",
    "import time\n",
    "from mrcnn import visualize_frame_relation_4f\n",
    "testresult = 'C:/Users/mk5n2/Mask/Inspire/CustomImages/test/testresult/precision_check/' #bridge C\n",
    "# testresult = 'C:/Users/mk5n2/Mask/Inspire/CustomImages/test/testresult/bridgeA/' #bridge A\n",
    "# testresult = 'C:/Users/mk5n2/Mask/Inspire/CustomImages/test/testresult/bridgeB/' #bridge B\n",
    "\n",
    "# Images from the following directory will be tested\n",
    "# test_dir ='C:/Users/mk5n2/Mask/Inspire/CustomImages/test/test_dir/10frames_bridgeC_part1/' #Bridge C\n",
    "test_dir ='C:/Users/mk5n2/Mask/Inspire/CustomImages/test/test_dir/precision_train_1/'\n",
    "# test_dir ='C:/Users/mk5n2/Mask/Inspire/CustomImages/test/test_dir/bridgeB/' #Bridge A\n",
    "\n",
    "# Creating a list with the names of all the test images in the test_dir\n",
    "testfiles= os.listdir(test_dir)\n",
    "testfiles = testfiles[0:10]\n",
    "start= time.time()\n",
    "# testfiles = testfiles[0:1]\n",
    "# in the 'c' variable we will store class_ids after every three images\n",
    "c=[]\n",
    "a=[]\n",
    "b=[]\n",
    "d=[]\n",
    "e=[]\n",
    "# s will store prediction score of joint\n",
    "s=[]\n",
    "# ita will store every iteration number\n",
    "ita=[]\n",
    "Xcor1=[]\n",
    "Ycor1=[]\n",
    "Xcor2=[]\n",
    "Ycor2=[]\n",
    "Xcor3=[]\n",
    "Ycor3=[]\n",
    "Xcor4=[]\n",
    "Ycor4=[]\n",
    "Xcor5=[]\n",
    "Ycor5=[]\n",
    "json1 ={}\n",
    "for i in range(0,len(testfiles)):\n",
    "    filename= os.path.join(test_dir,testfiles[i])\n",
    "    image = skimage.io.imread(filename)\n",
    "    file = testfiles[i]\n",
    "    filesize = os.path.getsize(filename)\n",
    "    \n",
    "    #Run Detection\n",
    "    results = model.detect([image], verbose=1)\n",
    "    \n",
    "    #Display results\n",
    "    ax = get_ax(1)\n",
    "    r = results[0]\n",
    "    class_ids = r['class_ids']\n",
    "    scores = r['scores']\n",
    "    \n",
    "    roi = r['rois']\n",
    "    t_roi = zip(*roi) #transpose roi\n",
    "    converted = list(t_roi) # converted to list from zip\n",
    "    if converted == []:\n",
    "        Xc = []\n",
    "        Yc = []\n",
    "    else:\n",
    "        Xc = converted[1]\n",
    "        Yc = converted[0]\n",
    "#     Xc= converted[1] # X coordinate of all objects will be stored \n",
    "#     Yc= converted[0] # Y coordinate of all objects will be stored\n",
    "    \n",
    "    mapped = zip(scores, class_ids,Xc,Yc)\n",
    "    mapped = list(mapped)\n",
    "#     print(\"---\")\n",
    "#     print(i)\n",
    "#     print(file)\n",
    "    \n",
    "    # new variable 'a' is defined\n",
    "    # after every two images this 'a' variable will store the class_id for that image\n",
    "    \n",
    "    \n",
    "    if i in range(0,len(testfiles),5):\n",
    "        sc=[] #this will store scores\n",
    "        cl=[] # this will store class_ids\n",
    "        Xco =[]\n",
    "        Yco =[]\n",
    "        f_ref = 'f1'\n",
    "#         print(f_ref)\n",
    "        \n",
    "#       this loop will eliminate all scores below 0.9 and will save remaining class_ids in cl\n",
    "        for k,l,m,n in mapped:\n",
    "            if k<0.90:\n",
    "                continue\n",
    "            sc.append(k)\n",
    "            cl.append(l)\n",
    "            Xco.append(m)\n",
    "            Yco.append(n)\n",
    "#         print('before iteration f1: ',cl)\n",
    "\n",
    "        spatial_cor_temp.display_instances(f_ref,image,file,filename,filesize,json1, r['rois'], r['masks'], r['class_ids'], \n",
    "                        dataset.class_names,a,b,c,d,e,cl,Xco,Yco,Xcor1,Ycor1,Xcor2,Ycor2,Xcor3,Ycor3,Xcor4,Ycor4,Xcor5,Ycor5, r['scores'], ax=ax,\n",
    "                        title=\"Predictions\")\n",
    "        a= cl\n",
    "#         print('after iteration f1: ', a)\n",
    "        Xcor1 = Xco\n",
    "        Ycor1 = Yco\n",
    "        \n",
    "        plt.savefig(testresult+testfiles[i])\n",
    "        \n",
    "        \n",
    "    elif i in range(1,len(testfiles),5):\n",
    "        sc=[] #this will store scores\n",
    "        cl=[] # this will store class_ids\n",
    "        Xco =[]\n",
    "        Yco =[]\n",
    "        f_ref = 'f2'\n",
    "#         print(f_ref)        \n",
    "#       this loop will eliminate all scores below 0.9 and will save remaining class_ids in cl\n",
    "        for k,l,m,n in mapped:\n",
    "            if k<0.9:\n",
    "                continue\n",
    "            sc.append(k)\n",
    "            cl.append(l)\n",
    "            Xco.append(m)\n",
    "            Yco.append(n)\n",
    "#         print('before iteration f2: ',cl)\n",
    "\n",
    "        spatial_cor_temp.display_instances(f_ref,image,file,filename,filesize,json1, r['rois'], r['masks'], r['class_ids'], \n",
    "                        dataset.class_names,a,b,c,d,e,cl,Xco,Yco,Xcor1,Ycor1,Xcor2,Ycor2,Xcor3,Ycor3,Xcor4,Ycor4,Xcor5,Ycor5, r['scores'], ax=ax,\n",
    "                        title=\"Predictions\")\n",
    "        b= cl\n",
    "#         print('after iteration f2: ', b)\n",
    "        Xcor2 = Xco\n",
    "        Ycor2 = Yco\n",
    "        \n",
    "        plt.savefig(testresult+testfiles[i])\n",
    "        \n",
    "    elif i in range(2,len(testfiles),5):\n",
    "        sc=[] #this will store scores\n",
    "        cl=[] # this will store class_ids\n",
    "        Xco =[]\n",
    "        Yco =[]\n",
    "        f_ref = 'f3'\n",
    "#         print(f_ref)\n",
    "        \n",
    "#       this loop will eliminate all scores below 0.9 and will save remaining class_ids in cl\n",
    "        for k,l,m,n in mapped:\n",
    "            if k<0.9:\n",
    "                continue\n",
    "            sc.append(k)\n",
    "            cl.append(l)\n",
    "            Xco.append(m)\n",
    "            Yco.append(n)\n",
    "\n",
    "        spatial_cor_temp.display_instances(f_ref,image,file,filename,filesize,json1, r['rois'], r['masks'], r['class_ids'], \n",
    "                        dataset.class_names,a,b,c,d,e,cl,Xco,Yco,Xcor1,Ycor1,Xcor2,Ycor2,Xcor3,Ycor3,Xcor4,Ycor4,Xcor5,Ycor5, r['scores'], ax=ax,\n",
    "                        title=\"Predictions\")\n",
    "        c= cl\n",
    "        Xcor3 = Xco\n",
    "        Ycor3 = Yco\n",
    "        \n",
    "        plt.savefig(testresult+testfiles[i])\n",
    "        \n",
    "    elif i in range(3,len(testfiles),5):\n",
    "        sc=[] #this will store scores\n",
    "        cl=[] # this will store class_ids\n",
    "        Xco =[]\n",
    "        Yco =[] \n",
    "        f_ref = 'f4'\n",
    "#         print(f_ref)\n",
    "        \n",
    "#       this loop will eliminate all scores below 0.9 and will save remaining class_ids in cl\n",
    "        for k,l,m,n in mapped:\n",
    "            if k<0.9:\n",
    "                continue\n",
    "            sc.append(k)\n",
    "            cl.append(l)\n",
    "            Xco.append(m)\n",
    "            Yco.append(n)\n",
    "\n",
    "        spatial_cor_temp.display_instances(f_ref,image,file,filename,filesize,json1, r['rois'], r['masks'], r['class_ids'], \n",
    "                        dataset.class_names,a,b,c,d,e,cl,Xco,Yco,Xcor1,Ycor1,Xcor2,Ycor2,Xcor3,Ycor3,Xcor4,Ycor4,Xcor5,Ycor5, r['scores'], ax=ax,\n",
    "                        title=\"Predictions\")\n",
    "        d= cl\n",
    "        Xcor4 = Xco\n",
    "        Ycor4 = Yco\n",
    "        \n",
    "        plt.savefig(testresult+testfiles[i])\n",
    "\n",
    "    elif i in range(4,len(testfiles),5):\n",
    "        sc=[] #this will store scores\n",
    "        cl=[] # this will store class_ids\n",
    "        Xco =[]\n",
    "        Yco =[]\n",
    "        f_ref = 'f5'\n",
    "#         print(f_ref)\n",
    "        \n",
    "#       this loop will eliminate all scores below 0.9 and will save remaining class_ids in cl\n",
    "        for k,l,m,n in mapped:\n",
    "            if k<0.9:\n",
    "                continue\n",
    "            sc.append(k)\n",
    "            cl.append(l)\n",
    "            Xco.append(m)\n",
    "            Yco.append(n)\n",
    "\n",
    "        spatial_cor_temp.display_instances(f_ref,image,file,filename,filesize,json1, r['rois'], r['masks'], r['class_ids'], \n",
    "                        dataset.class_names,a,b,c,d,e,cl,Xco,Yco,Xcor1,Ycor1,Xcor2,Ycor2,Xcor3,Ycor3,Xcor4,Ycor4,Xcor5,Ycor5, r['scores'], ax=ax,\n",
    "                        title=\"Predictions\")\n",
    "        e= cl\n",
    "        Xcor5 = Xco\n",
    "        Ycor5 = Yco\n",
    "        \n",
    "        plt.savefig(testresult+testfiles[i])\n",
    "\n",
    "# frequency = 2500  # Set Frequency To 2500 Hertz\n",
    "# duration = 1200  # Set Duration To 1000 ms == 1 second\n",
    "# winsound.Beep(frequency, duration)\n",
    "end = time.time()\n",
    "time_taken = (end-start)\n",
    "print(time_taken)\n",
    "\n",
    "# file = open(\"training_time.txt\",\"w\")\n",
    "# file.write(time_taken)\n",
    "# file.close()\n",
    "# ctypes.windll.user32.MessageBoxW(0, \"Testing Status\", \"Testing Complete\", 1)"
   ]
  },
  {
   "cell_type": "markdown",
   "metadata": {},
   "source": [
    "### Detection code with temporal coherence"
   ]
  },
  {
   "cell_type": "code",
   "execution_count": null,
   "metadata": {
    "scrolled": false
   },
   "outputs": [],
   "source": [
    "#Detection Code with temporal coherence\n",
    "# import winsound\n",
    "# import ctypes  # An included library with Python install. \n",
    "import time\n",
    "from mrcnn import visualize_frame_relation_4f\n",
    "testresult = 'C:/Users/mk5n2/Mask/Inspire/CustomImages/test/testresult/temporal_time_calculation/' #bridge C\n",
    "# testresult = 'C:/Users/mk5n2/Mask/Inspire/CustomImages/test/testresult/bridgeA/' #bridge A\n",
    "# testresult = 'C:/Users/mk5n2/Mask/Inspire/CustomImages/test/testresult/bridgeB/' #bridge B\n",
    "\n",
    "# Images from the following directory will be tested\n",
    "test_dir ='C:/Users/mk5n2/Mask/Inspire/CustomImages/test/test_dir/10frames_bridgeC_part1/' #Bridge C\n",
    "# test_dir ='C:/Users/mk5n2/Mask/Inspire/CustomImages/test/test_dir/bridgeB/' #Bridge A\n",
    "\n",
    "# Creating a list with the names of all the test images in the test_dir\n",
    "testfiles= os.listdir(test_dir)\n",
    "testfiles = testfiles[0:20]\n",
    "start= time.time()\n",
    "# testfiles = testfiles[0:1]\n",
    "# in the 'c' variable we will store class_ids after every three images\n",
    "c=[]\n",
    "a=[]\n",
    "b=[]\n",
    "d=[]\n",
    "e=[]\n",
    "# s will store prediction score of joint\n",
    "s=[]\n",
    "# ita will store every iteration number\n",
    "ita=[]\n",
    "Xcor1=[]\n",
    "Ycor1=[]\n",
    "Xcor2=[]\n",
    "Ycor2=[]\n",
    "Xcor3=[]\n",
    "Ycor3=[]\n",
    "Xcor4=[]\n",
    "Ycor4=[]\n",
    "Xcor5=[]\n",
    "Ycor5=[]\n",
    "json1 ={}\n",
    "for i in range(0,len(testfiles)):\n",
    "    filename= os.path.join(test_dir,testfiles[i])\n",
    "    image = skimage.io.imread(filename)\n",
    "    file = testfiles[i]\n",
    "    filesize = os.path.getsize(filename)\n",
    "    \n",
    "    #Run Detection\n",
    "    results = model.detect([image], verbose=1)\n",
    "    \n",
    "    #Display results\n",
    "    ax = get_ax(1)\n",
    "    r = results[0]\n",
    "    class_ids = r['class_ids']\n",
    "    scores = r['scores']\n",
    "    \n",
    "    roi = r['rois']\n",
    "    t_roi = zip(*roi) #transpose roi\n",
    "    converted = list(t_roi) # converted to list from zip\n",
    "    if converted == []:\n",
    "        Xc = []\n",
    "        Yc = []\n",
    "    else:\n",
    "        Xc = converted[1]\n",
    "        Yc = converted[0]\n",
    "#     Xc= converted[1] # X coordinate of all objects will be stored \n",
    "#     Yc= converted[0] # Y coordinate of all objects will be stored\n",
    "    \n",
    "    mapped = zip(scores, class_ids,Xc,Yc)\n",
    "    mapped = list(mapped)\n",
    "#     print(\"---\")\n",
    "#     print(i)\n",
    "#     print(file)\n",
    "    \n",
    "    # new variable 'a' is defined\n",
    "    # after every two images this 'a' variable will store the class_id for that image\n",
    "    \n",
    "    \n",
    "    if i in range(0,len(testfiles),5):\n",
    "        sc=[] #this will store scores\n",
    "        cl=[] # this will store class_ids\n",
    "        Xco =[]\n",
    "        Yco =[]\n",
    "        f_ref = 'f1'\n",
    "#         print(f_ref)\n",
    "        \n",
    "#       this loop will eliminate all scores below 0.9 and will save remaining class_ids in cl\n",
    "        for k,l,m,n in mapped:\n",
    "            if k<0.9:\n",
    "                continue\n",
    "            sc.append(k)\n",
    "            cl.append(l)\n",
    "            Xco.append(m)\n",
    "            Yco.append(n)\n",
    "#         print('before iteration f1: ',cl)\n",
    "\n",
    "        visualize_frame_relation_4f.display_instances_5f_for_json(f_ref,image,file,filename,filesize,json1, r['rois'], r['masks'], r['class_ids'], \n",
    "                        dataset.class_names,a,b,c,d,e,cl,Xco,Yco,Xcor1,Ycor1,Xcor2,Ycor2,Xcor3,Ycor3,Xcor4,Ycor4,Xcor5,Ycor5, r['scores'], ax=ax,\n",
    "                        title=\"Predictions\")\n",
    "        a= cl\n",
    "#         print('after iteration f1: ', a)\n",
    "        Xcor1 = Xco\n",
    "        Ycor1 = Yco\n",
    "        \n",
    "        plt.savefig(testresult+testfiles[i])\n",
    "        \n",
    "        \n",
    "    elif i in range(1,len(testfiles),5):\n",
    "        sc=[] #this will store scores\n",
    "        cl=[] # this will store class_ids\n",
    "        Xco =[]\n",
    "        Yco =[]\n",
    "        f_ref = 'f2'\n",
    "#         print(f_ref)        \n",
    "#       this loop will eliminate all scores below 0.9 and will save remaining class_ids in cl\n",
    "        for k,l,m,n in mapped:\n",
    "            if k<0.9:\n",
    "                continue\n",
    "            sc.append(k)\n",
    "            cl.append(l)\n",
    "            Xco.append(m)\n",
    "            Yco.append(n)\n",
    "#         print('before iteration f2: ',cl)\n",
    "\n",
    "        visualize_frame_relation_4f.display_instances_5f_for_json(f_ref,image,file,filename,filesize,json1, r['rois'], r['masks'], r['class_ids'], \n",
    "                        dataset.class_names,a,b,c,d,e,cl,Xco,Yco,Xcor1,Ycor1,Xcor2,Ycor2,Xcor3,Ycor3,Xcor4,Ycor4,Xcor5,Ycor5, r['scores'], ax=ax,\n",
    "                        title=\"Predictions\")\n",
    "        b= cl\n",
    "#         print('after iteration f2: ', b)\n",
    "        Xcor2 = Xco\n",
    "        Ycor2 = Yco\n",
    "        \n",
    "        plt.savefig(testresult+testfiles[i])\n",
    "        \n",
    "    elif i in range(2,len(testfiles),5):\n",
    "        sc=[] #this will store scores\n",
    "        cl=[] # this will store class_ids\n",
    "        Xco =[]\n",
    "        Yco =[]\n",
    "        f_ref = 'f3'\n",
    "#         print(f_ref)\n",
    "        \n",
    "#       this loop will eliminate all scores below 0.9 and will save remaining class_ids in cl\n",
    "        for k,l,m,n in mapped:\n",
    "            if k<0.9:\n",
    "                continue\n",
    "            sc.append(k)\n",
    "            cl.append(l)\n",
    "            Xco.append(m)\n",
    "            Yco.append(n)\n",
    "\n",
    "        visualize_frame_relation_4f.display_instances_5f_for_json(f_ref,image,file,filename,filesize,json1, r['rois'], r['masks'], r['class_ids'], \n",
    "                        dataset.class_names,a,b,c,d,e,cl,Xco,Yco,Xcor1,Ycor1,Xcor2,Ycor2,Xcor3,Ycor3,Xcor4,Ycor4,Xcor5,Ycor5, r['scores'], ax=ax,\n",
    "                        title=\"Predictions\")\n",
    "        c= cl\n",
    "        Xcor3 = Xco\n",
    "        Ycor3 = Yco\n",
    "        \n",
    "        plt.savefig(testresult+testfiles[i])\n",
    "        \n",
    "    elif i in range(3,len(testfiles),5):\n",
    "        sc=[] #this will store scores\n",
    "        cl=[] # this will store class_ids\n",
    "        Xco =[]\n",
    "        Yco =[] \n",
    "        f_ref = 'f4'\n",
    "#         print(f_ref)\n",
    "        \n",
    "#       this loop will eliminate all scores below 0.9 and will save remaining class_ids in cl\n",
    "        for k,l,m,n in mapped:\n",
    "            if k<0.9:\n",
    "                continue\n",
    "            sc.append(k)\n",
    "            cl.append(l)\n",
    "            Xco.append(m)\n",
    "            Yco.append(n)\n",
    "\n",
    "        visualize_frame_relation_4f.display_instances_5f_for_json(f_ref,image,file,filename,filesize,json1, r['rois'], r['masks'], r['class_ids'], \n",
    "                        dataset.class_names,a,b,c,d,e,cl,Xco,Yco,Xcor1,Ycor1,Xcor2,Ycor2,Xcor3,Ycor3,Xcor4,Ycor4,Xcor5,Ycor5, r['scores'], ax=ax,\n",
    "                        title=\"Predictions\")\n",
    "        d= cl\n",
    "        Xcor4 = Xco\n",
    "        Ycor4 = Yco\n",
    "        \n",
    "        plt.savefig(testresult+testfiles[i])\n",
    "\n",
    "    elif i in range(4,len(testfiles),5):\n",
    "        sc=[] #this will store scores\n",
    "        cl=[] # this will store class_ids\n",
    "        Xco =[]\n",
    "        Yco =[]\n",
    "        f_ref = 'f5'\n",
    "#         print(f_ref)\n",
    "        \n",
    "#       this loop will eliminate all scores below 0.9 and will save remaining class_ids in cl\n",
    "        for k,l,m,n in mapped:\n",
    "            if k<0.9:\n",
    "                continue\n",
    "            sc.append(k)\n",
    "            cl.append(l)\n",
    "            Xco.append(m)\n",
    "            Yco.append(n)\n",
    "\n",
    "        visualize_frame_relation_4f.display_instances_5f_for_json(f_ref,image,file,filename,filesize,json1, r['rois'], r['masks'], r['class_ids'], \n",
    "                        dataset.class_names,a,b,c,d,e,cl,Xco,Yco,Xcor1,Ycor1,Xcor2,Ycor2,Xcor3,Ycor3,Xcor4,Ycor4,Xcor5,Ycor5, r['scores'], ax=ax,\n",
    "                        title=\"Predictions\")\n",
    "        e= cl\n",
    "        Xcor5 = Xco\n",
    "        Ycor5 = Yco\n",
    "        \n",
    "        plt.savefig(testresult+testfiles[i])\n",
    "\n",
    "# frequency = 2500  # Set Frequency To 2500 Hertz\n",
    "# duration = 1200  # Set Duration To 1000 ms == 1 second\n",
    "# winsound.Beep(frequency, duration)\n",
    "end = time.time()\n",
    "time_taken = (end-start)\n",
    "print(time_taken)\n",
    "\n",
    "# file = open(\"training_time.txt\",\"w\")\n",
    "# file.write(time_taken)\n",
    "# file.close()\n",
    "# ctypes.windll.user32.MessageBoxW(0, \"Testing Status\", \"Testing Complete\", 1)"
   ]
  },
  {
   "cell_type": "code",
   "execution_count": null,
   "metadata": {},
   "outputs": [],
   "source": [
    "from mrcnn import utils"
   ]
  },
  {
   "cell_type": "markdown",
   "metadata": {},
   "source": [
    "### Precision_recall with temporal coherence"
   ]
  },
  {
   "cell_type": "code",
   "execution_count": null,
   "metadata": {},
   "outputs": [],
   "source": [
    "#precision_recall with temporal coherence\n",
    "# import winsound\n",
    "# import ctypes  #An included library with Python install. \n",
    "from mrcnn import visualize_frame_relation_4f\n",
    "testresult = 'C:/Users/mk5n2/Mask/Inspire/CustomImages/test/testresult/precision_train_1/'\n",
    "\n",
    "# Images from the following directory will be tested\n",
    "# test_dir = os.path.join(ROOT_DIR, \"CustomImages/test/test_dir/10frames_bridgeC_part1/\")\n",
    "# test_dir = 'C:/Users/mk5n2/Mask/Inspire/CustomImages/test/test_dir/precision_train_1/'\n",
    "test_dir = 'C:/Users/mk5n2/Mask/Inspire/CustomImages/test/test_dir/val_211/'\n",
    "\n",
    "# Creating a list with the names of all the test images in the test_dir\n",
    "testfiles= os.listdir(test_dir)\n",
    "# testfiles = testfiles[184:210]\n",
    "# in the 'c' variable we will store class_ids after every three images\n",
    "c=[]\n",
    "a=[]\n",
    "b=[]\n",
    "d=[]\n",
    "e=[]\n",
    "# s will store prediction score of joint\n",
    "s=[]\n",
    "# ita will store every iteration number\n",
    "ita=[]\n",
    "Xcor1=[]\n",
    "Ycor1=[]\n",
    "Xcor2=[]\n",
    "Ycor2=[]\n",
    "Xcor3=[]\n",
    "Ycor3=[]\n",
    "Xcor4=[]\n",
    "Ycor4=[]\n",
    "Xcor5=[]\n",
    "Ycor5=[]\n",
    "for i in range(0,len(testfiles)):\n",
    "    filename= os.path.join(test_dir,testfiles[i])\n",
    "    image = skimage.io.imread(filename)\n",
    "    file = testfiles[i]\n",
    "    \n",
    "    image, image_meta, gt_class_id, gt_bbox, gt_mask =\\\n",
    "    modellib.load_image_gt(dataset, config,\n",
    "                           i, use_mini_mask=False)\n",
    "    molded_images = np.expand_dims(modellib.mold_image(image, config), 0)\n",
    "    filesize = os.path.getsize(filename)\n",
    "    \n",
    "    #Run Detection\n",
    "    results = model.detect([image], verbose=1)\n",
    "    \n",
    "    #Display results\n",
    "#     ax = get_ax(1)\n",
    "    r = results[0]\n",
    "    class_ids = r['class_ids']\n",
    "    scores = r['scores']\n",
    "    \n",
    "    roi = r['rois']\n",
    "    t_roi = zip(*roi) #transpose roi\n",
    "    converted = list(t_roi) # converted to list from zip\n",
    "    if converted == []:\n",
    "        Xc = []\n",
    "        Yc = []\n",
    "    else:\n",
    "        Xc = converted[1]\n",
    "        Yc = converted[0]\n",
    "#     Xc= converted[1] # X coordinate of all objects will be stored \n",
    "#     Yc= converted[0] # Y coordinate of all objects will be stored\n",
    "    \n",
    "    mapped = zip(scores, class_ids,Xc,Yc)\n",
    "    mapped = list(mapped)\n",
    "    print(\"---\")\n",
    "    print(i)\n",
    "    print(file)\n",
    "    \n",
    "    # new variable 'a' is defined\n",
    "    # after every two images this 'a' variable will store the class_id for that image\n",
    "    \n",
    "    \n",
    "    if i in range(0,len(testfiles),5):\n",
    "        sc=[] #this will store scores\n",
    "        cl=[] # this will store class_ids\n",
    "        Xco =[]\n",
    "        Yco =[]\n",
    "        f_ref = 'f1'\n",
    "        print(f_ref)\n",
    "        \n",
    "#       this loop will eliminate all scores below 0.9 and will save remaining class_ids in cl\n",
    "        for k,l,m,n in mapped:\n",
    "            if k<0.9:\n",
    "                continue\n",
    "            sc.append(k)\n",
    "            cl.append(l)\n",
    "            Xco.append(m)\n",
    "            Yco.append(n)\n",
    "\n",
    "        gt_match, pred_match,overlaps =utils.compute_precision_recall_old_18_march(f_ref, file,gt_bbox, gt_class_id, gt_mask,\n",
    "                     r[\"rois\"], r[\"class_ids\"], r[\"scores\"], r['masks'],a,b, c, d, e,cl,Xco,Yco,Xcor1,Ycor1,Xcor2,Ycor2,Xcor3,Ycor3,Xcor4,Ycor4,Xcor5,Ycor5)\n",
    "        a= cl\n",
    "        Xcor1 = Xco\n",
    "        Ycor1 = Yco\n",
    "        \n",
    "        \n",
    "    elif i in range(1,len(testfiles),5):\n",
    "        sc=[] #this will store scores\n",
    "        cl=[] # this will store class_ids\n",
    "        Xco =[]\n",
    "        Yco =[]\n",
    "        f_ref = 'f2'\n",
    "        print(f_ref)        \n",
    "#       this loop will eliminate all scores below 0.9 and will save remaining class_ids in cl\n",
    "        for k,l,m,n in mapped:\n",
    "            if k<0.9:\n",
    "                continue\n",
    "            sc.append(k)\n",
    "            cl.append(l)\n",
    "            Xco.append(m)\n",
    "            Yco.append(n)\n",
    "\n",
    "        gt_match, pred_match,overlaps =utils.compute_precision_recall_old_18_march(f_ref, file,gt_bbox, gt_class_id, gt_mask,\n",
    "                     r[\"rois\"], r[\"class_ids\"], r[\"scores\"], r['masks'],a,b, c, d, e,cl,Xco,Yco,Xcor1,Ycor1,Xcor2,Ycor2,Xcor3,Ycor3,Xcor4,Ycor4,Xcor5,Ycor5)\n",
    "        b= cl\n",
    "        Xcor2 = Xco\n",
    "        Ycor2 = Yco\n",
    "        \n",
    "        \n",
    "    elif i in range(2,len(testfiles),5):\n",
    "        sc=[] #this will store scores\n",
    "        cl=[] # this will store class_ids\n",
    "        Xco =[]\n",
    "        Yco =[]\n",
    "        f_ref = 'f3'\n",
    "        print(f_ref)\n",
    "        \n",
    "#       this loop will eliminate all scores below 0.9 and will save remaining class_ids in cl\n",
    "        for k,l,m,n in mapped:\n",
    "            if k<0.9:\n",
    "                continue\n",
    "            sc.append(k)\n",
    "            cl.append(l)\n",
    "            Xco.append(m)\n",
    "            Yco.append(n)\n",
    "\n",
    "        gt_match, pred_match,overlaps =utils.compute_precision_recall_old_18_march(f_ref, file,gt_bbox, gt_class_id, gt_mask,\n",
    "                     r[\"rois\"], r[\"class_ids\"], r[\"scores\"], r['masks'],a,b, c, d, e,cl,Xco,Yco,Xcor1,Ycor1,Xcor2,Ycor2,Xcor3,Ycor3,Xcor4,Ycor4,Xcor5,Ycor5)\n",
    "        c= cl\n",
    "        Xcor3 = Xco\n",
    "        Ycor3 = Yco\n",
    "\n",
    "        \n",
    "    elif i in range(3,len(testfiles),5):\n",
    "        sc=[] #this will store scores\n",
    "        cl=[] # this will store class_ids\n",
    "        Xco =[]\n",
    "        Yco =[] \n",
    "        f_ref = 'f4'\n",
    "        print(f_ref)\n",
    "        \n",
    "#       this loop will eliminate all scores below 0.9 and will save remaining class_ids in cl\n",
    "        for k,l,m,n in mapped:\n",
    "            if k<0.9:\n",
    "                continue\n",
    "            sc.append(k)\n",
    "            cl.append(l)\n",
    "            Xco.append(m)\n",
    "            Yco.append(n)\n",
    "\n",
    "        gt_match, pred_match,overlaps =utils.compute_precision_recall_old_18_march(f_ref, file,gt_bbox, gt_class_id, gt_mask,\n",
    "                     r[\"rois\"], r[\"class_ids\"], r[\"scores\"], r['masks'],a,b, c, d, e,cl,Xco,Yco,Xcor1,Ycor1,Xcor2,Ycor2,Xcor3,Ycor3,Xcor4,Ycor4,Xcor5,Ycor5)\n",
    "        d= cl\n",
    "        Xcor4 = Xco\n",
    "        Ycor4 = Yco\n",
    "\n",
    "\n",
    "    elif i in range(4,len(testfiles),5):\n",
    "        sc=[] #this will store scores\n",
    "        cl=[] # this will store class_ids\n",
    "        Xco =[]\n",
    "        Yco =[]\n",
    "        f_ref = 'f5'\n",
    "        print(f_ref)\n",
    "        \n",
    "#       this loop will eliminate all scores below 0.9 and will save remaining class_ids in cl\n",
    "        for k,l,m,n in mapped:\n",
    "            if k<0.9:\n",
    "                continue\n",
    "            sc.append(k)\n",
    "            cl.append(l)\n",
    "            Xco.append(m)\n",
    "            Yco.append(n)\n",
    "\n",
    "        gt_match, pred_match,overlaps =utils.compute_precision_recall_old_18_march(f_ref, file,gt_bbox, gt_class_id, gt_mask,\n",
    "                     r[\"rois\"], r[\"class_ids\"], r[\"scores\"], r['masks'],a,b, c, d, e,cl,Xco,Yco,Xcor1,Ycor1,Xcor2,Ycor2,Xcor3,Ycor3,Xcor4,Ycor4,Xcor5,Ycor5)\n",
    "        e= cl\n",
    "        Xcor5 = Xco\n",
    "        Ycor5 = Yco\n",
    "        \n",
    "\n",
    "# ctypes.windll.user32.MessageBoxW(0, \"Testing Status\", \"Testing Complete\", 1)\n",
    "# frequency = 2500  # Set Frequency To 2500 Hertz\n",
    "# duration = 1200  # Set Duration To 1000 ms == 1 second\n",
    "# winsound.Beep(frequency, duration)"
   ]
  },
  {
   "cell_type": "markdown",
   "metadata": {},
   "source": [
    "### precision-recall for spatial correlation and temporal coherence"
   ]
  },
  {
   "cell_type": "code",
   "execution_count": null,
   "metadata": {
    "scrolled": false
   },
   "outputs": [],
   "source": [
    "#precision_recall with temporal coherence\n",
    "# import winsound\n",
    "# import ctypes  #An included library with Python install. \n",
    "from mrcnn import visualize_frame_relation_4f\n",
    "testresult = 'C:/Users/mk5n2/Mask/Inspire/CustomImages/test/testresult/precision_train_1/'\n",
    "\n",
    "# Images from the following directory will be tested\n",
    "# test_dir = os.path.join(ROOT_DIR, \"CustomImages/test/test_dir/10frames_bridgeC_part1/\")\n",
    "# test_dir = 'C:/Users/mk5n2/Mask/Inspire/CustomImages/test/test_dir/precision_train_1/'\n",
    "test_dir = 'C:/Users/mk5n2/Mask/Inspire/CustomImages/test/test_dir/precision_train_1/'\n",
    "\n",
    "# Creating a list with the names of all the test images in the test_dir\n",
    "testfiles= os.listdir(test_dir)\n",
    "testfiles = testfiles[0:6]\n",
    "# in the 'c' variable we will store class_ids after every three images\n",
    "c=[]\n",
    "a=[]\n",
    "b=[]\n",
    "d=[]\n",
    "e=[]\n",
    "# s will store prediction score of joint\n",
    "s=[]\n",
    "# ita will store every iteration number\n",
    "ita=[]\n",
    "Xcor1=[]\n",
    "Ycor1=[]\n",
    "Xcor2=[]\n",
    "Ycor2=[]\n",
    "Xcor3=[]\n",
    "Ycor3=[]\n",
    "Xcor4=[]\n",
    "Ycor4=[]\n",
    "Xcor5=[]\n",
    "Ycor5=[]\n",
    "for i in range(0,len(testfiles)):\n",
    "    filename= os.path.join(test_dir,testfiles[i])\n",
    "    image = skimage.io.imread(filename)\n",
    "    file = testfiles[i]\n",
    "    \n",
    "    image, image_meta, gt_class_id, gt_bbox, gt_mask =\\\n",
    "    modellib.load_image_gt(dataset, config,\n",
    "                           i, use_mini_mask=False)\n",
    "    molded_images = np.expand_dims(modellib.mold_image(image, config), 0)\n",
    "    filesize = os.path.getsize(filename)\n",
    "    \n",
    "    #Run Detection\n",
    "    results = model.detect([image], verbose=1)\n",
    "    \n",
    "    #Display results\n",
    "#     ax = get_ax(1)\n",
    "    r = results[0]\n",
    "    class_ids = r['class_ids']\n",
    "    scores = r['scores']\n",
    "    \n",
    "    roi = r['rois']\n",
    "    t_roi = zip(*roi) #transpose roi\n",
    "    converted = list(t_roi) # converted to list from zip\n",
    "    if converted == []:\n",
    "        Xc = []\n",
    "        Yc = []\n",
    "    else:\n",
    "        Xc = converted[1]\n",
    "        Yc = converted[0]\n",
    "#     Xc= converted[1] # X coordinate of all objects will be stored \n",
    "#     Yc= converted[0] # Y coordinate of all objects will be stored\n",
    "    \n",
    "    mapped = zip(scores, class_ids,Xc,Yc)\n",
    "    mapped = list(mapped)\n",
    "    print(\"---\")\n",
    "    print(i)\n",
    "    print(file)\n",
    "    \n",
    "    # new variable 'a' is defined\n",
    "    # after every two images this 'a' variable will store the class_id for that image\n",
    "    \n",
    "    \n",
    "    if i in range(0,len(testfiles),5):\n",
    "        sc=[] #this will store scores\n",
    "        cl=[] # this will store class_ids\n",
    "        Xco =[]\n",
    "        Yco =[]\n",
    "        f_ref = 'f1'\n",
    "        print(f_ref)\n",
    "        \n",
    "#       this loop will eliminate all scores below 0.9 and will save remaining class_ids in cl\n",
    "        for k,l,m,n in mapped:\n",
    "            if k<0.9:\n",
    "                continue\n",
    "            sc.append(k)\n",
    "            cl.append(l)\n",
    "            Xco.append(m)\n",
    "            Yco.append(n)\n",
    "\n",
    "        gt_match, pred_match,overlaps =utils.compute_precision_recall_spatial_correlation_temporal(f_ref, file,gt_bbox, gt_class_id, gt_mask,\n",
    "                     r[\"rois\"], r[\"class_ids\"], r[\"scores\"], r['masks'],a,b, c, d, e,cl,Xco,Yco,Xcor1,Ycor1,Xcor2,Ycor2,Xcor3,Ycor3,Xcor4,Ycor4,Xcor5,Ycor5)\n",
    "        a= cl\n",
    "        Xcor1 = Xco\n",
    "        Ycor1 = Yco\n",
    "        \n",
    "        \n",
    "    elif i in range(1,len(testfiles),5):\n",
    "        sc=[] #this will store scores\n",
    "        cl=[] # this will store class_ids\n",
    "        Xco =[]\n",
    "        Yco =[]\n",
    "        f_ref = 'f2'\n",
    "        print(f_ref)        \n",
    "#       this loop will eliminate all scores below 0.9 and will save remaining class_ids in cl\n",
    "        for k,l,m,n in mapped:\n",
    "            if k<0.9:\n",
    "                continue\n",
    "            sc.append(k)\n",
    "            cl.append(l)\n",
    "            Xco.append(m)\n",
    "            Yco.append(n)\n",
    "\n",
    "        gt_match, pred_match,overlaps =utils.compute_precision_recall_spatial_correlation_temporal(f_ref, file,gt_bbox, gt_class_id, gt_mask,\n",
    "                     r[\"rois\"], r[\"class_ids\"], r[\"scores\"], r['masks'],a,b, c, d, e,cl,Xco,Yco,Xcor1,Ycor1,Xcor2,Ycor2,Xcor3,Ycor3,Xcor4,Ycor4,Xcor5,Ycor5)\n",
    "        b= cl\n",
    "        Xcor2 = Xco\n",
    "        Ycor2 = Yco\n",
    "        \n",
    "        \n",
    "    elif i in range(2,len(testfiles),5):\n",
    "        sc=[] #this will store scores\n",
    "        cl=[] # this will store class_ids\n",
    "        Xco =[]\n",
    "        Yco =[]\n",
    "        f_ref = 'f3'\n",
    "        print(f_ref)\n",
    "        \n",
    "#       this loop will eliminate all scores below 0.9 and will save remaining class_ids in cl\n",
    "        for k,l,m,n in mapped:\n",
    "            if k<0.9:\n",
    "                continue\n",
    "            sc.append(k)\n",
    "            cl.append(l)\n",
    "            Xco.append(m)\n",
    "            Yco.append(n)\n",
    "\n",
    "        gt_match, pred_match,overlaps =utils.compute_precision_recall_spatial_correlation_temporal(f_ref, file,gt_bbox, gt_class_id, gt_mask,\n",
    "                     r[\"rois\"], r[\"class_ids\"], r[\"scores\"], r['masks'],a,b, c, d, e,cl,Xco,Yco,Xcor1,Ycor1,Xcor2,Ycor2,Xcor3,Ycor3,Xcor4,Ycor4,Xcor5,Ycor5)\n",
    "        c= cl\n",
    "        Xcor3 = Xco\n",
    "        Ycor3 = Yco\n",
    "\n",
    "        \n",
    "    elif i in range(3,len(testfiles),5):\n",
    "        sc=[] #this will store scores\n",
    "        cl=[] # this will store class_ids\n",
    "        Xco =[]\n",
    "        Yco =[] \n",
    "        f_ref = 'f4'\n",
    "        print(f_ref)\n",
    "        \n",
    "#       this loop will eliminate all scores below 0.9 and will save remaining class_ids in cl\n",
    "        for k,l,m,n in mapped:\n",
    "            if k<0.9:\n",
    "                continue\n",
    "            sc.append(k)\n",
    "            cl.append(l)\n",
    "            Xco.append(m)\n",
    "            Yco.append(n)\n",
    "\n",
    "        gt_match, pred_match,overlaps =utils.compute_precision_recall_spatial_correlation_temporal(f_ref, file,gt_bbox, gt_class_id, gt_mask,\n",
    "                     r[\"rois\"], r[\"class_ids\"], r[\"scores\"], r['masks'],a,b, c, d, e,cl,Xco,Yco,Xcor1,Ycor1,Xcor2,Ycor2,Xcor3,Ycor3,Xcor4,Ycor4,Xcor5,Ycor5)\n",
    "        d= cl\n",
    "        Xcor4 = Xco\n",
    "        Ycor4 = Yco\n",
    "\n",
    "\n",
    "    elif i in range(4,len(testfiles),5):\n",
    "        sc=[] #this will store scores\n",
    "        cl=[] # this will store class_ids\n",
    "        Xco =[]\n",
    "        Yco =[]\n",
    "        f_ref = 'f5'\n",
    "        print(f_ref)\n",
    "        \n",
    "#       this loop will eliminate all scores below 0.9 and will save remaining class_ids in cl\n",
    "        for k,l,m,n in mapped:\n",
    "            if k<0.9:\n",
    "                continue\n",
    "            sc.append(k)\n",
    "            cl.append(l)\n",
    "            Xco.append(m)\n",
    "            Yco.append(n)\n",
    "\n",
    "        gt_match, pred_match,overlaps =utils.compute_precision_recall_spatial_correlation_temporal(f_ref, file,gt_bbox, gt_class_id, gt_mask,\n",
    "                     r[\"rois\"], r[\"class_ids\"], r[\"scores\"], r['masks'],a,b, c, d, e,cl,Xco,Yco,Xcor1,Ycor1,Xcor2,Ycor2,Xcor3,Ycor3,Xcor4,Ycor4,Xcor5,Ycor5)\n",
    "        e= cl\n",
    "        Xcor5 = Xco\n",
    "        Ycor5 = Yco\n",
    "        \n",
    "\n",
    "# ctypes.windll.user32.MessageBoxW(0, \"Testing Status\", \"Testing Complete\", 1)\n",
    "# frequency = 2500  # Set Frequency To 2500 Hertz\n",
    "# duration = 1200  # Set Duration To 1000 ms == 1 second\n",
    "# winsound.Beep(frequency, duration)"
   ]
  },
  {
   "cell_type": "markdown",
   "metadata": {},
   "source": [
    "### mAP calculation in mask rcnn without temporal coherence"
   ]
  },
  {
   "cell_type": "code",
   "execution_count": null,
   "metadata": {},
   "outputs": [],
   "source": [
    "from mrcnn import utils\n",
    "#mAP calculation:\n",
    "image_ids = os.listdir('C:/Users/mk5n2/Mask/Inspire/CustomImages/test/test_dir/pre_recall_curve/')\n",
    "# image_ids = image_ids[58:60]\n",
    "image_ids\n",
    "APs =[]\n",
    "\n",
    "for image_id, name in enumerate(image_ids):\n",
    "    # Load image and ground truth data\n",
    "    image, image_meta, gt_class_id, gt_bbox, gt_mask =\\\n",
    "        modellib.load_image_gt(dataset, config,\n",
    "                               image_id, use_mini_mask=False)\n",
    "    molded_images = np.expand_dims(modellib.mold_image(image, config), 0)\n",
    "    # Run object detection\n",
    "\n",
    "    results = model.detect([image], verbose=0)\n",
    "    ax = get_ax(1)\n",
    "    r = results[0]\n",
    "#     visualize.display_instances(image, r['rois'], r['masks'], r['class_ids'], \n",
    "#                             dataset.class_names, r['scores'], ax=ax,\n",
    "#                             title=\"Predictions\")\n",
    "    \n",
    "#     # Compute AP over range 0.5 to 0.95 and print it\n",
    "#     utils.compute_ap_range(gt_bbox, gt_class_id, gt_mask,\n",
    "#                            r['rois'], r['class_ids'], r['scores'], r['masks'],\n",
    "#                            verbose=1)\n",
    "\n",
    "# #     visualize.display_differences(\n",
    "# #         image,\n",
    "# #         gt_bbox, gt_class_id, gt_mask,\n",
    "# #         r['rois'], r['class_ids'], r['scores'], r['masks'],\n",
    "# #         dataset.class_names, ax=get_ax(),\n",
    "# #         show_box=False, show_mask=False,\n",
    "# #         iou_threshold=0.5, score_threshold=0.5)\n",
    "#     # Compute AP\n",
    "    AP, precisions, recalls, overlaps =\\\n",
    "        utils.compute_ap(gt_bbox, gt_class_id, gt_mask,\n",
    "                         r[\"rois\"], r[\"class_ids\"], r[\"scores\"], r['masks'])\n",
    "#     print(\"AP : \",AP , \"for image id: \", image_id)\n",
    "\n",
    "# #     print(\"precisions :\", precisions)\n",
    "# #     print(\"recalls :\", recalls)\n",
    "# #     print(\"overlaps :\", overlaps)\n",
    "#     APs.append(AP)\n",
    "    \n",
    "print(\"mAP: \", np.mean(APs))\n",
    "# print (APs)"
   ]
  },
  {
   "cell_type": "code",
   "execution_count": null,
   "metadata": {},
   "outputs": [],
   "source": [
    "from mrcnn import utils\n",
    "#mAP calculation:\n",
    "image_ids = os.listdir('C:/Users/mk5n2/Mask/Inspire/CustomImages/test/test_dir/val_211/')\n",
    "# image_ids = image_ids[58:60]\n",
    "image_ids\n",
    "APs =[]\n",
    "# Compute VOC-style Average Precision\n",
    "def compute_batch_ap(image_ids):\n",
    "    APs = []\n",
    "    for image_id in image_ids:\n",
    "        # Load image\n",
    "        image, image_meta, gt_class_id, gt_bbox, gt_mask =\\\n",
    "            modellib.load_image_gt(dataset, config,\n",
    "                                   image_id, use_mini_mask=False)\n",
    "        # Run object detection\n",
    "        results = model.detect([image], verbose=0)\n",
    "        # Compute AP\n",
    "        r = results[0]\n",
    "        AP, precisions, recalls, overlaps =\\\n",
    "            utils.compute_ap(gt_bbox, gt_class_id, gt_mask,\n",
    "                              r['rois'], r['class_ids'], r['scores'], r['masks'])\n",
    "        APs.append(AP)\n",
    "    return APs\n",
    "\n",
    "# Pick a set of random images\n",
    "print (dataset)\n",
    "# image_ids = np.random.choice(dataset.image_ids, 212)\n",
    "image_ids= range(1,210)\n",
    "APs = compute_batch_ap(image_ids)\n",
    "print(\"mAP @ IoU=60: \", np.mean(APs))"
   ]
  },
  {
   "cell_type": "code",
   "execution_count": null,
   "metadata": {},
   "outputs": [],
   "source": [
    "for image_id in image_ids:\n",
    "    # Load image\n",
    "    image, image_meta, gt_class_id, gt_bbox, gt_mask =\\\n",
    "        modellib.load_image_gt(dataset, config,\n",
    "                               image_id, use_mini_mask=False)\n",
    "    # Run object detection\n",
    "    results = model.detect([image], verbose=0)\n",
    "    # Compute AP\n",
    "    r = results[0]\n",
    "    AP, precisions, recalls, overlaps =\\\n",
    "        utils.compute_ap(gt_bbox, gt_class_id, gt_mask,\n",
    "                          r['rois'], r['class_ids'], r['scores'], r['masks'])\n",
    "    visualize.plot_precision_recall(AP, precisions, recalls)\n",
    "    APs.append(AP)\n",
    "return APs"
   ]
  },
  {
   "cell_type": "code",
   "execution_count": null,
   "metadata": {},
   "outputs": [],
   "source": [
    "# Draw precision-recall curve\n",
    "AP, precisions, recalls, overlaps = utils.compute_ap(gt_bbox, gt_class_id, gt_mask,\n",
    "                                          r['rois'], r['class_ids'], r['scores'], r['masks'])\n",
    "visualize.plot_precision_recall(AP, precisions, recalls)\n",
    "print('precisions: ',precisions)\n",
    "print('recalls: ',recalls)\n",
    "print(AP)"
   ]
  },
  {
   "cell_type": "code",
   "execution_count": null,
   "metadata": {},
   "outputs": [],
   "source": [
    "# Grid of ground truth objects and their predictions\n",
    "visualize_frame_relation_4f.plot_overlaps(gt_class_id, r['class_ids'], r['scores'],\n",
    "                        overlaps, dataset.class_names)"
   ]
  },
  {
   "cell_type": "code",
   "execution_count": null,
   "metadata": {},
   "outputs": [],
   "source": [
    "for ff in range(2):\n",
    "    print(ff)"
   ]
  },
  {
   "cell_type": "markdown",
   "metadata": {},
   "source": [
    "### Below code are obsolete (18 March,2019)"
   ]
  }
 ],
 "metadata": {
  "kernelspec": {
   "display_name": "Python 3",
   "language": "python",
   "name": "python3"
  },
  "language_info": {
   "codemirror_mode": {
    "name": "ipython",
    "version": 3
   },
   "file_extension": ".py",
   "mimetype": "text/x-python",
   "name": "python",
   "nbconvert_exporter": "python",
   "pygments_lexer": "ipython3",
   "version": "3.7.9"
  }
 },
 "nbformat": 4,
 "nbformat_minor": 2
}
